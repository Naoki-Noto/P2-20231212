{
 "cells": [
  {
   "cell_type": "code",
   "execution_count": 1,
   "id": "cba77f10",
   "metadata": {},
   "outputs": [],
   "source": [
    "import pandas as pd"
   ]
  },
  {
   "cell_type": "code",
   "execution_count": 2,
   "id": "dc0a3dc9",
   "metadata": {},
   "outputs": [
    {
     "name": "stdout",
     "output_type": "stream",
     "text": [
      "CO_a/Method A\n",
      "max:\n",
      "R2_score    0.622477\n",
      "dtype: float64\n",
      "mean:\n",
      "R2_score    0.298086\n",
      "dtype: float64\n",
      "std:\n",
      "R2_score    0.227335\n",
      "dtype: float64\n"
     ]
    }
   ],
   "source": [
    "data = pd.read_csv('CO_a/result/result_RF.csv')\n",
    "data = data.drop(columns=['Unnamed: 0'])\n",
    "\n",
    "data_max = data.max()\n",
    "data_mean = data.mean()\n",
    "data_std = data.std(ddof=0)\n",
    "\n",
    "print('CO_a/Method A')\n",
    "print('max:')\n",
    "print(data_max)\n",
    "print('mean:')\n",
    "print(data_mean)\n",
    "print('std:')\n",
    "print(data_std)"
   ]
  },
  {
   "cell_type": "code",
   "execution_count": 3,
   "id": "9171426a",
   "metadata": {},
   "outputs": [
    {
     "name": "stdout",
     "output_type": "stream",
     "text": [
      "CO_a/Method B\n",
      "max:\n",
      "r2_test    0.769152\n",
      "dtype: float64\n",
      "mean:\n",
      "r2_test    0.621217\n",
      "dtype: float64\n",
      "std:\n",
      "r2_test    0.083267\n",
      "dtype: float64\n"
     ]
    }
   ],
   "source": [
    "data = pd.read_csv('CO_a/result/result_DFT_wotarget.csv')\n",
    "data = data.drop(columns=['r2_train'])\n",
    "\n",
    "data_max = data.max()\n",
    "data_mean = data.mean()\n",
    "data_std = data.std(ddof=0)\n",
    "\n",
    "print('CO_a/Method B')\n",
    "print('max:')\n",
    "print(data_max)\n",
    "print('mean:')\n",
    "print(data_mean)\n",
    "print('std:')\n",
    "print(data_std)"
   ]
  },
  {
   "cell_type": "code",
   "execution_count": 4,
   "id": "924816ea",
   "metadata": {},
   "outputs": [
    {
     "name": "stdout",
     "output_type": "stream",
     "text": [
      "CO_a/Method C\n",
      "max:\n",
      "r2_test    0.878521\n",
      "dtype: float64\n",
      "mean:\n",
      "r2_test    0.74365\n",
      "dtype: float64\n",
      "std:\n",
      "r2_test    0.064355\n",
      "dtype: float64\n"
     ]
    }
   ],
   "source": [
    "data = pd.read_csv('CO_a/result/result_XGB_750.csv')\n",
    "data = data.drop(columns=['Unnamed: 0', 'r2_train'])\n",
    "\n",
    "data_max = data.max()\n",
    "data_mean = data.mean()\n",
    "data_std = data.std(ddof=0)\n",
    "\n",
    "print('CO_a/Method C')\n",
    "print('max:')\n",
    "print(data_max)\n",
    "print('mean:')\n",
    "print(data_mean)\n",
    "print('std:')\n",
    "print(data_std)"
   ]
  },
  {
   "cell_type": "code",
   "execution_count": 5,
   "id": "d9176aa3",
   "metadata": {},
   "outputs": [
    {
     "name": "stdout",
     "output_type": "stream",
     "text": [
      "CO_a/TrAB\n",
      "max:\n",
      "R2_score    0.844848\n",
      "dtype: float64\n",
      "mean:\n",
      "R2_score    0.702257\n",
      "dtype: float64\n",
      "std:\n",
      "R2_score    0.076257\n",
      "dtype: float64\n"
     ]
    }
   ],
   "source": [
    "data = pd.read_csv('CO_a/result/result_TrAB.csv')\n",
    "data = data.drop(columns=['Unnamed: 0'])\n",
    "\n",
    "data_max = data.max()\n",
    "data_mean = data.mean()\n",
    "data_std = data.std(ddof=0)\n",
    "\n",
    "print('CO_a/TrAB')\n",
    "print('max:')\n",
    "print(data_max)\n",
    "print('mean:')\n",
    "print(data_mean)\n",
    "print('std:')\n",
    "print(data_std)"
   ]
  },
  {
   "cell_type": "code",
   "execution_count": 6,
   "id": "a28d01ad",
   "metadata": {},
   "outputs": [
    {
     "name": "stdout",
     "output_type": "stream",
     "text": [
      "CO_a/TrAB_All\n",
      "max:\n",
      "R2_score    0.930068\n",
      "dtype: float64\n",
      "mean:\n",
      "R2_score    0.776883\n",
      "dtype: float64\n",
      "std:\n",
      "R2_score    0.060729\n",
      "dtype: float64\n"
     ]
    }
   ],
   "source": [
    "data = pd.read_csv('CO_a/result/result_TrAB_All.csv')\n",
    "data = data.drop(columns=['Unnamed: 0'])\n",
    "\n",
    "data_max = data.max()\n",
    "data_mean = data.mean()\n",
    "data_std = data.std(ddof=0)\n",
    "\n",
    "print('CO_a/TrAB_All')\n",
    "print('max:')\n",
    "print(data_max)\n",
    "print('mean:')\n",
    "print(data_mean)\n",
    "print('std:')\n",
    "print(data_std)"
   ]
  },
  {
   "cell_type": "code",
   "execution_count": 7,
   "id": "a5c73a05",
   "metadata": {},
   "outputs": [
    {
     "name": "stdout",
     "output_type": "stream",
     "text": [
      "CO_b/Method A\n",
      "max:\n",
      "R2_score    0.7418\n",
      "dtype: float64\n",
      "mean:\n",
      "R2_score    0.485365\n",
      "dtype: float64\n",
      "std:\n",
      "R2_score    0.152932\n",
      "dtype: float64\n"
     ]
    }
   ],
   "source": [
    "data = pd.read_csv('CO_b/result/result_RF.csv')\n",
    "data = data.drop(columns=['Unnamed: 0'])\n",
    "\n",
    "data_max = data.max()\n",
    "data_mean = data.mean()\n",
    "data_std = data.std(ddof=0)\n",
    "\n",
    "print('CO_b/Method A')\n",
    "print('max:')\n",
    "print(data_max)\n",
    "print('mean:')\n",
    "print(data_mean)\n",
    "print('std:')\n",
    "print(data_std)"
   ]
  },
  {
   "cell_type": "code",
   "execution_count": 8,
   "id": "758cc7bb",
   "metadata": {},
   "outputs": [
    {
     "name": "stdout",
     "output_type": "stream",
     "text": [
      "CO_b/Method B\n",
      "max:\n",
      "r2_test    0.514081\n",
      "dtype: float64\n",
      "mean:\n",
      "r2_test    0.348345\n",
      "dtype: float64\n",
      "std:\n",
      "r2_test    0.087093\n",
      "dtype: float64\n"
     ]
    }
   ],
   "source": [
    "data = pd.read_csv('CO_b/result/result_DFT_wotarget.csv')\n",
    "data = data.drop(columns=['r2_train'])\n",
    "\n",
    "data_max = data.max()\n",
    "data_mean = data.mean()\n",
    "data_std = data.std(ddof=0)\n",
    "\n",
    "print('CO_b/Method B')\n",
    "print('max:')\n",
    "print(data_max)\n",
    "print('mean:')\n",
    "print(data_mean)\n",
    "print('std:')\n",
    "print(data_std)"
   ]
  },
  {
   "cell_type": "code",
   "execution_count": 9,
   "id": "b60de6b8",
   "metadata": {},
   "outputs": [
    {
     "name": "stdout",
     "output_type": "stream",
     "text": [
      "CO_b/Method C\n",
      "max:\n",
      "r2_test    0.821605\n",
      "dtype: float64\n",
      "mean:\n",
      "r2_test    0.715194\n",
      "dtype: float64\n",
      "std:\n",
      "r2_test    0.047805\n",
      "dtype: float64\n"
     ]
    }
   ],
   "source": [
    "data = pd.read_csv('CO_b/result/result_XGB_750.csv')\n",
    "data = data.drop(columns=['Unnamed: 0', 'r2_train'])\n",
    "\n",
    "data_max = data.max()\n",
    "data_mean = data.mean()\n",
    "data_std = data.std(ddof=0)\n",
    "\n",
    "print('CO_b/Method C')\n",
    "print('max:')\n",
    "print(data_max)\n",
    "print('mean:')\n",
    "print(data_mean)\n",
    "print('std:')\n",
    "print(data_std)"
   ]
  },
  {
   "cell_type": "code",
   "execution_count": 10,
   "id": "b0a5d9c6",
   "metadata": {},
   "outputs": [
    {
     "name": "stdout",
     "output_type": "stream",
     "text": [
      "CO_b/TrAB\n",
      "max:\n",
      "R2_score    0.877748\n",
      "dtype: float64\n",
      "mean:\n",
      "R2_score    0.758552\n",
      "dtype: float64\n",
      "std:\n",
      "R2_score    0.052894\n",
      "dtype: float64\n"
     ]
    }
   ],
   "source": [
    "data = pd.read_csv('CO_b/result/result_TrAB.csv')\n",
    "data = data.drop(columns=['Unnamed: 0'])\n",
    "\n",
    "data_max = data.max()\n",
    "data_mean = data.mean()\n",
    "data_std = data.std(ddof=0)\n",
    "\n",
    "print('CO_b/TrAB')\n",
    "print('max:')\n",
    "print(data_max)\n",
    "print('mean:')\n",
    "print(data_mean)\n",
    "print('std:')\n",
    "print(data_std)"
   ]
  },
  {
   "cell_type": "code",
   "execution_count": 11,
   "id": "a3a43f79",
   "metadata": {},
   "outputs": [
    {
     "name": "stdout",
     "output_type": "stream",
     "text": [
      "CO_b/TrAB_All\n",
      "max:\n",
      "R2_score    0.894094\n",
      "dtype: float64\n",
      "mean:\n",
      "R2_score    0.756179\n",
      "dtype: float64\n",
      "std:\n",
      "R2_score    0.049589\n",
      "dtype: float64\n"
     ]
    }
   ],
   "source": [
    "data = pd.read_csv('CO_b/result/result_TrAB_All.csv')\n",
    "data = data.drop(columns=['Unnamed: 0'])\n",
    "\n",
    "data_max = data.max()\n",
    "data_mean = data.mean()\n",
    "data_std = data.std(ddof=0)\n",
    "\n",
    "print('CO_b/TrAB_All')\n",
    "print('max:')\n",
    "print(data_max)\n",
    "print('mean:')\n",
    "print(data_mean)\n",
    "print('std:')\n",
    "print(data_std)"
   ]
  },
  {
   "cell_type": "code",
   "execution_count": 12,
   "id": "5a3ab7b7",
   "metadata": {},
   "outputs": [
    {
     "name": "stdout",
     "output_type": "stream",
     "text": [
      "CO_c/Method A\n",
      "max:\n",
      "R2_score    0.710951\n",
      "dtype: float64\n",
      "mean:\n",
      "R2_score    0.481915\n",
      "dtype: float64\n",
      "std:\n",
      "R2_score    0.131632\n",
      "dtype: float64\n"
     ]
    }
   ],
   "source": [
    "data = pd.read_csv('CO_c/result/result_RF.csv')\n",
    "data = data.drop(columns=['Unnamed: 0'])\n",
    "\n",
    "data_max = data.max()\n",
    "data_mean = data.mean()\n",
    "data_std = data.std(ddof=0)\n",
    "\n",
    "print('CO_c/Method A')\n",
    "print('max:')\n",
    "print(data_max)\n",
    "print('mean:')\n",
    "print(data_mean)\n",
    "print('std:')\n",
    "print(data_std)"
   ]
  },
  {
   "cell_type": "code",
   "execution_count": 13,
   "id": "50865ebd",
   "metadata": {},
   "outputs": [
    {
     "name": "stdout",
     "output_type": "stream",
     "text": [
      "CO_c/Method B\n",
      "max:\n",
      "r2_test    0.787609\n",
      "dtype: float64\n",
      "mean:\n",
      "r2_test    0.674599\n",
      "dtype: float64\n",
      "std:\n",
      "r2_test    0.050513\n",
      "dtype: float64\n"
     ]
    }
   ],
   "source": [
    "data = pd.read_csv('CO_c/result/result_DFT_wotarget.csv')\n",
    "data = data.drop(columns=['r2_train'])\n",
    "\n",
    "data_max = data.max()\n",
    "data_mean = data.mean()\n",
    "data_std = data.std(ddof=0)\n",
    "\n",
    "print('CO_c/Method B')\n",
    "print('max:')\n",
    "print(data_max)\n",
    "print('mean:')\n",
    "print(data_mean)\n",
    "print('std:')\n",
    "print(data_std)"
   ]
  },
  {
   "cell_type": "code",
   "execution_count": 14,
   "id": "cd11bc76",
   "metadata": {},
   "outputs": [
    {
     "name": "stdout",
     "output_type": "stream",
     "text": [
      "CO_c/Method C\n",
      "max:\n",
      "r2_test    0.876619\n",
      "dtype: float64\n",
      "mean:\n",
      "r2_test    0.769294\n",
      "dtype: float64\n",
      "std:\n",
      "r2_test    0.06237\n",
      "dtype: float64\n"
     ]
    }
   ],
   "source": [
    "data = pd.read_csv('CO_c/result/result_XGB_750.csv')\n",
    "data = data.drop(columns=['Unnamed: 0', 'r2_train'])\n",
    "\n",
    "data_max = data.max()\n",
    "data_mean = data.mean()\n",
    "data_std = data.std(ddof=0)\n",
    "\n",
    "print('CO_c/Method C')\n",
    "print('max:')\n",
    "print(data_max)\n",
    "print('mean:')\n",
    "print(data_mean)\n",
    "print('std:')\n",
    "print(data_std)"
   ]
  },
  {
   "cell_type": "code",
   "execution_count": 15,
   "id": "8feeec52",
   "metadata": {},
   "outputs": [
    {
     "name": "stdout",
     "output_type": "stream",
     "text": [
      "CO_c/TrAB\n",
      "max:\n",
      "R2_score    0.908626\n",
      "dtype: float64\n",
      "mean:\n",
      "R2_score    0.847085\n",
      "dtype: float64\n",
      "std:\n",
      "R2_score    0.030742\n",
      "dtype: float64\n"
     ]
    }
   ],
   "source": [
    "data = pd.read_csv('CO_c/result/result_TrAB.csv')\n",
    "data = data.drop(columns=['Unnamed: 0'])\n",
    "\n",
    "data_max = data.max()\n",
    "data_mean = data.mean()\n",
    "data_std = data.std(ddof=0)\n",
    "\n",
    "print('CO_c/TrAB')\n",
    "print('max:')\n",
    "print(data_max)\n",
    "print('mean:')\n",
    "print(data_mean)\n",
    "print('std:')\n",
    "print(data_std)"
   ]
  },
  {
   "cell_type": "code",
   "execution_count": 16,
   "id": "485be541",
   "metadata": {},
   "outputs": [
    {
     "name": "stdout",
     "output_type": "stream",
     "text": [
      "CO_c/TrAB_All\n",
      "max:\n",
      "R2_score    0.900887\n",
      "dtype: float64\n",
      "mean:\n",
      "R2_score    0.82666\n",
      "dtype: float64\n",
      "std:\n",
      "R2_score    0.035626\n",
      "dtype: float64\n"
     ]
    }
   ],
   "source": [
    "data = pd.read_csv('CO_c/result/result_TrAB_All.csv')\n",
    "data = data.drop(columns=['Unnamed: 0'])\n",
    "\n",
    "data_max = data.max()\n",
    "data_mean = data.mean()\n",
    "data_std = data.std(ddof=0)\n",
    "\n",
    "print('CO_c/TrAB_All')\n",
    "print('max:')\n",
    "print(data_max)\n",
    "print('mean:')\n",
    "print(data_mean)\n",
    "print('std:')\n",
    "print(data_std)"
   ]
  },
  {
   "cell_type": "code",
   "execution_count": 17,
   "id": "90832d78",
   "metadata": {},
   "outputs": [
    {
     "name": "stdout",
     "output_type": "stream",
     "text": [
      "CO_d/Method A\n",
      "max:\n",
      "R2_score    0.586205\n",
      "dtype: float64\n",
      "mean:\n",
      "R2_score    0.344336\n",
      "dtype: float64\n",
      "std:\n",
      "R2_score    0.1515\n",
      "dtype: float64\n"
     ]
    }
   ],
   "source": [
    "data = pd.read_csv('CO_d/result/result_RF.csv')\n",
    "data = data.drop(columns=['Unnamed: 0'])\n",
    "\n",
    "data_max = data.max()\n",
    "data_mean = data.mean()\n",
    "data_std = data.std(ddof=0)\n",
    "\n",
    "print('CO_d/Method A')\n",
    "print('max:')\n",
    "print(data_max)\n",
    "print('mean:')\n",
    "print(data_mean)\n",
    "print('std:')\n",
    "print(data_std)"
   ]
  },
  {
   "cell_type": "code",
   "execution_count": 18,
   "id": "3929f128",
   "metadata": {},
   "outputs": [
    {
     "name": "stdout",
     "output_type": "stream",
     "text": [
      "CO_d/Method B\n",
      "max:\n",
      "r2_test    0.611823\n",
      "dtype: float64\n",
      "mean:\n",
      "r2_test    0.16216\n",
      "dtype: float64\n",
      "std:\n",
      "r2_test    0.218675\n",
      "dtype: float64\n"
     ]
    }
   ],
   "source": [
    "data = pd.read_csv('CO_d/result/result_DFT_wotarget.csv')\n",
    "data = data.drop(columns=['r2_train'])\n",
    "\n",
    "data_max = data.max()\n",
    "data_mean = data.mean()\n",
    "data_std = data.std(ddof=0)\n",
    "\n",
    "print('CO_d/Method B')\n",
    "print('max:')\n",
    "print(data_max)\n",
    "print('mean:')\n",
    "print(data_mean)\n",
    "print('std:')\n",
    "print(data_std)"
   ]
  },
  {
   "cell_type": "code",
   "execution_count": 19,
   "id": "ce4f2145",
   "metadata": {},
   "outputs": [
    {
     "name": "stdout",
     "output_type": "stream",
     "text": [
      "CO_d/Method C\n",
      "max:\n",
      "r2_test    0.797653\n",
      "dtype: float64\n",
      "mean:\n",
      "r2_test    0.417555\n",
      "dtype: float64\n",
      "std:\n",
      "r2_test    0.169243\n",
      "dtype: float64\n"
     ]
    }
   ],
   "source": [
    "data = pd.read_csv('CO_d/result/result_XGB_750.csv')\n",
    "data = data.drop(columns=['Unnamed: 0', 'r2_train'])\n",
    "\n",
    "data_max = data.max()\n",
    "data_mean = data.mean()\n",
    "data_std = data.std(ddof=0)\n",
    "\n",
    "print('CO_d/Method C')\n",
    "print('max:')\n",
    "print(data_max)\n",
    "print('mean:')\n",
    "print(data_mean)\n",
    "print('std:')\n",
    "print(data_std)"
   ]
  },
  {
   "cell_type": "code",
   "execution_count": 20,
   "id": "8057046c",
   "metadata": {},
   "outputs": [
    {
     "name": "stdout",
     "output_type": "stream",
     "text": [
      "CO_d/TrAB\n",
      "max:\n",
      "R2_score    0.889233\n",
      "dtype: float64\n",
      "mean:\n",
      "R2_score    0.721833\n",
      "dtype: float64\n",
      "std:\n",
      "R2_score    0.092019\n",
      "dtype: float64\n"
     ]
    }
   ],
   "source": [
    "data = pd.read_csv('CO_d/result/result_TrAB.csv')\n",
    "data = data.drop(columns=['Unnamed: 0'])\n",
    "\n",
    "data_max = data.max()\n",
    "data_mean = data.mean()\n",
    "data_std = data.std(ddof=0)\n",
    "\n",
    "print('CO_d/TrAB')\n",
    "print('max:')\n",
    "print(data_max)\n",
    "print('mean:')\n",
    "print(data_mean)\n",
    "print('std:')\n",
    "print(data_std)"
   ]
  },
  {
   "cell_type": "code",
   "execution_count": 21,
   "id": "fce35569",
   "metadata": {},
   "outputs": [
    {
     "name": "stdout",
     "output_type": "stream",
     "text": [
      "CO_d/TrAB_All\n",
      "max:\n",
      "R2_score    0.838843\n",
      "dtype: float64\n",
      "mean:\n",
      "R2_score    0.631703\n",
      "dtype: float64\n",
      "std:\n",
      "R2_score    0.129094\n",
      "dtype: float64\n"
     ]
    }
   ],
   "source": [
    "data = pd.read_csv('CO_d/result/result_TrAB_All.csv')\n",
    "data = data.drop(columns=['Unnamed: 0'])\n",
    "\n",
    "data_max = data.max()\n",
    "data_mean = data.mean()\n",
    "data_std = data.std(ddof=0)\n",
    "\n",
    "print('CO_d/TrAB_All')\n",
    "print('max:')\n",
    "print(data_max)\n",
    "print('mean:')\n",
    "print(data_mean)\n",
    "print('std:')\n",
    "print(data_std)"
   ]
  },
  {
   "cell_type": "code",
   "execution_count": 22,
   "id": "c994a9b6",
   "metadata": {},
   "outputs": [
    {
     "name": "stdout",
     "output_type": "stream",
     "text": [
      "CO_e/Method A\n",
      "max:\n",
      "R2_score    0.533769\n",
      "dtype: float64\n",
      "mean:\n",
      "R2_score    0.264213\n",
      "dtype: float64\n",
      "std:\n",
      "R2_score    0.202715\n",
      "dtype: float64\n"
     ]
    }
   ],
   "source": [
    "data = pd.read_csv('CO_e/result/result_RF.csv')\n",
    "data = data.drop(columns=['Unnamed: 0'])\n",
    "\n",
    "data_max = data.max()\n",
    "data_mean = data.mean()\n",
    "data_std = data.std(ddof=0)\n",
    "\n",
    "print('CO_e/Method A')\n",
    "print('max:')\n",
    "print(data_max)\n",
    "print('mean:')\n",
    "print(data_mean)\n",
    "print('std:')\n",
    "print(data_std)"
   ]
  },
  {
   "cell_type": "code",
   "execution_count": 23,
   "id": "c5c4307f",
   "metadata": {},
   "outputs": [
    {
     "name": "stdout",
     "output_type": "stream",
     "text": [
      "CO_e/Method B\n",
      "max:\n",
      "r2_test    0.783599\n",
      "dtype: float64\n",
      "mean:\n",
      "r2_test    0.62125\n",
      "dtype: float64\n",
      "std:\n",
      "r2_test    0.08772\n",
      "dtype: float64\n"
     ]
    }
   ],
   "source": [
    "data = pd.read_csv('CO_e/result/result_DFT_wotarget.csv')\n",
    "data = data.drop(columns=['r2_train'])\n",
    "\n",
    "data_max = data.max()\n",
    "data_mean = data.mean()\n",
    "data_std = data.std(ddof=0)\n",
    "\n",
    "print('CO_e/Method B')\n",
    "print('max:')\n",
    "print(data_max)\n",
    "print('mean:')\n",
    "print(data_mean)\n",
    "print('std:')\n",
    "print(data_std)"
   ]
  },
  {
   "cell_type": "code",
   "execution_count": 24,
   "id": "172ed31b",
   "metadata": {},
   "outputs": [
    {
     "name": "stdout",
     "output_type": "stream",
     "text": [
      "CO_e/Method C\n",
      "max:\n",
      "r2_test    0.852434\n",
      "dtype: float64\n",
      "mean:\n",
      "r2_test    0.653331\n",
      "dtype: float64\n",
      "std:\n",
      "r2_test    0.100226\n",
      "dtype: float64\n"
     ]
    }
   ],
   "source": [
    "data = pd.read_csv('CO_e/result/result_XGB_750.csv')\n",
    "data = data.drop(columns=['Unnamed: 0', 'r2_train'])\n",
    "\n",
    "data_max = data.max()\n",
    "data_mean = data.mean()\n",
    "data_std = data.std(ddof=0)\n",
    "\n",
    "print('CO_e/Method C')\n",
    "print('max:')\n",
    "print(data_max)\n",
    "print('mean:')\n",
    "print(data_mean)\n",
    "print('std:')\n",
    "print(data_std)"
   ]
  },
  {
   "cell_type": "code",
   "execution_count": 25,
   "id": "fdeda0ca",
   "metadata": {},
   "outputs": [
    {
     "name": "stdout",
     "output_type": "stream",
     "text": [
      "CO_e/TrAB\n",
      "max:\n",
      "R2_score    0.89421\n",
      "dtype: float64\n",
      "mean:\n",
      "R2_score    0.79749\n",
      "dtype: float64\n",
      "std:\n",
      "R2_score    0.049795\n",
      "dtype: float64\n"
     ]
    }
   ],
   "source": [
    "data = pd.read_csv('CO_e/result/result_TrAB.csv')\n",
    "data = data.drop(columns=['Unnamed: 0'])\n",
    "\n",
    "data_max = data.max()\n",
    "data_mean = data.mean()\n",
    "data_std = data.std(ddof=0)\n",
    "\n",
    "print('CO_e/TrAB')\n",
    "print('max:')\n",
    "print(data_max)\n",
    "print('mean:')\n",
    "print(data_mean)\n",
    "print('std:')\n",
    "print(data_std)"
   ]
  },
  {
   "cell_type": "code",
   "execution_count": 26,
   "id": "70e604c2",
   "metadata": {},
   "outputs": [
    {
     "name": "stdout",
     "output_type": "stream",
     "text": [
      "CO_e/TrAB_All\n",
      "max:\n",
      "R2_score    0.896088\n",
      "dtype: float64\n",
      "mean:\n",
      "R2_score    0.787328\n",
      "dtype: float64\n",
      "std:\n",
      "R2_score    0.059063\n",
      "dtype: float64\n"
     ]
    }
   ],
   "source": [
    "data = pd.read_csv('CO_e/result/result_TrAB_All.csv')\n",
    "data = data.drop(columns=['Unnamed: 0'])\n",
    "\n",
    "data_max = data.max()\n",
    "data_mean = data.mean()\n",
    "data_std = data.std(ddof=0)\n",
    "\n",
    "print('CO_e/TrAB_All')\n",
    "print('max:')\n",
    "print(data_max)\n",
    "print('mean:')\n",
    "print(data_mean)\n",
    "print('std:')\n",
    "print(data_std)"
   ]
  },
  {
   "cell_type": "code",
   "execution_count": 27,
   "id": "cfed5a87",
   "metadata": {},
   "outputs": [
    {
     "name": "stdout",
     "output_type": "stream",
     "text": [
      "CS/Method A\n",
      "max:\n",
      "R2_score    0.364023\n",
      "dtype: float64\n",
      "mean:\n",
      "R2_score    0.071237\n",
      "dtype: float64\n",
      "std:\n",
      "R2_score    0.2045\n",
      "dtype: float64\n"
     ]
    }
   ],
   "source": [
    "data = pd.read_csv('CS/result/result_RF.csv')\n",
    "data = data.drop(columns=['Unnamed: 0'])\n",
    "\n",
    "data_max = data.max()\n",
    "data_mean = data.mean()\n",
    "data_std = data.std(ddof=0)\n",
    "\n",
    "print('CS/Method A')\n",
    "print('max:')\n",
    "print(data_max)\n",
    "print('mean:')\n",
    "print(data_mean)\n",
    "print('std:')\n",
    "print(data_std)"
   ]
  },
  {
   "cell_type": "code",
   "execution_count": 28,
   "id": "1790c923",
   "metadata": {},
   "outputs": [
    {
     "name": "stdout",
     "output_type": "stream",
     "text": [
      "CS/Method B\n",
      "max:\n",
      "r2_test    0.594957\n",
      "dtype: float64\n",
      "mean:\n",
      "r2_test    0.415258\n",
      "dtype: float64\n",
      "std:\n",
      "r2_test    0.072205\n",
      "dtype: float64\n"
     ]
    }
   ],
   "source": [
    "data = pd.read_csv('CS/result/result_DFT_wotarget.csv')\n",
    "data = data.drop(columns=['r2_train'])\n",
    "\n",
    "data_max = data.max()\n",
    "data_mean = data.mean()\n",
    "data_std = data.std(ddof=0)\n",
    "\n",
    "print('CS/Method B')\n",
    "print('max:')\n",
    "print(data_max)\n",
    "print('mean:')\n",
    "print(data_mean)\n",
    "print('std:')\n",
    "print(data_std)"
   ]
  },
  {
   "cell_type": "code",
   "execution_count": 29,
   "id": "e0617227",
   "metadata": {},
   "outputs": [
    {
     "name": "stdout",
     "output_type": "stream",
     "text": [
      "CS/Method C\n",
      "max:\n",
      "r2_test    0.526953\n",
      "dtype: float64\n",
      "mean:\n",
      "r2_test    0.30934\n",
      "dtype: float64\n",
      "std:\n",
      "r2_test    0.121981\n",
      "dtype: float64\n"
     ]
    }
   ],
   "source": [
    "data = pd.read_csv('CS/result/result_XGB_750.csv')\n",
    "data = data.drop(columns=['Unnamed: 0', 'r2_train'])\n",
    "\n",
    "data_max = data.max()\n",
    "data_mean = data.mean()\n",
    "data_std = data.std(ddof=0)\n",
    "\n",
    "print('CS/Method C')\n",
    "print('max:')\n",
    "print(data_max)\n",
    "print('mean:')\n",
    "print(data_mean)\n",
    "print('std:')\n",
    "print(data_std)"
   ]
  },
  {
   "cell_type": "code",
   "execution_count": 30,
   "id": "57e4ed9c",
   "metadata": {},
   "outputs": [
    {
     "name": "stdout",
     "output_type": "stream",
     "text": [
      "CS/TrAB\n",
      "max:\n",
      "R2_score    0.655468\n",
      "dtype: float64\n",
      "mean:\n",
      "R2_score    0.436352\n",
      "dtype: float64\n",
      "std:\n",
      "R2_score    0.114166\n",
      "dtype: float64\n"
     ]
    }
   ],
   "source": [
    "data = pd.read_csv('CS/result/result_TrAB.csv')\n",
    "data = data.drop(columns=['Unnamed: 0'])\n",
    "\n",
    "data_max = data.max()\n",
    "data_mean = data.mean()\n",
    "data_std = data.std(ddof=0)\n",
    "\n",
    "print('CS/TrAB')\n",
    "print('max:')\n",
    "print(data_max)\n",
    "print('mean:')\n",
    "print(data_mean)\n",
    "print('std:')\n",
    "print(data_std)"
   ]
  },
  {
   "cell_type": "code",
   "execution_count": 31,
   "id": "ba7f5cd3",
   "metadata": {},
   "outputs": [
    {
     "name": "stdout",
     "output_type": "stream",
     "text": [
      "CS/TrAB_All\n",
      "max:\n",
      "R2_score    0.61695\n",
      "dtype: float64\n",
      "mean:\n",
      "R2_score    0.413354\n",
      "dtype: float64\n",
      "std:\n",
      "R2_score    0.100436\n",
      "dtype: float64\n"
     ]
    }
   ],
   "source": [
    "data = pd.read_csv('CS/result/result_TrAB_All.csv')\n",
    "data = data.drop(columns=['Unnamed: 0'])\n",
    "\n",
    "data_max = data.max()\n",
    "data_mean = data.mean()\n",
    "data_std = data.std(ddof=0)\n",
    "\n",
    "print('CS/TrAB_All')\n",
    "print('max:')\n",
    "print(data_max)\n",
    "print('mean:')\n",
    "print(data_mean)\n",
    "print('std:')\n",
    "print(data_std)"
   ]
  },
  {
   "cell_type": "code",
   "execution_count": 32,
   "id": "1ff90fca",
   "metadata": {},
   "outputs": [
    {
     "name": "stdout",
     "output_type": "stream",
     "text": [
      "CN/Method A\n",
      "max:\n",
      "R2_score    0.617622\n",
      "dtype: float64\n",
      "mean:\n",
      "R2_score    0.363901\n",
      "dtype: float64\n",
      "std:\n",
      "R2_score    0.167218\n",
      "dtype: float64\n"
     ]
    }
   ],
   "source": [
    "data = pd.read_csv('CN/result/result_RF.csv')\n",
    "data = data.drop(columns=['Unnamed: 0'])\n",
    "\n",
    "data_max = data.max()\n",
    "data_mean = data.mean()\n",
    "data_std = data.std(ddof=0)\n",
    "\n",
    "print('CN/Method A')\n",
    "print('max:')\n",
    "print(data_max)\n",
    "print('mean:')\n",
    "print(data_mean)\n",
    "print('std:')\n",
    "print(data_std)"
   ]
  },
  {
   "cell_type": "code",
   "execution_count": 33,
   "id": "2c3fabd7",
   "metadata": {},
   "outputs": [
    {
     "name": "stdout",
     "output_type": "stream",
     "text": [
      "CN/Method B\n",
      "max:\n",
      "r2_test    0.700895\n",
      "dtype: float64\n",
      "mean:\n",
      "r2_test    0.452751\n",
      "dtype: float64\n",
      "std:\n",
      "r2_test    0.073208\n",
      "dtype: float64\n"
     ]
    }
   ],
   "source": [
    "data = pd.read_csv('CN/result/result_DFT_wotarget.csv')\n",
    "data = data.drop(columns=['r2_train'])\n",
    "\n",
    "data_max = data.max()\n",
    "data_mean = data.mean()\n",
    "data_std = data.std(ddof=0)\n",
    "\n",
    "print('CN/Method B')\n",
    "print('max:')\n",
    "print(data_max)\n",
    "print('mean:')\n",
    "print(data_mean)\n",
    "print('std:')\n",
    "print(data_std)"
   ]
  },
  {
   "cell_type": "code",
   "execution_count": 34,
   "id": "e8246124",
   "metadata": {},
   "outputs": [
    {
     "name": "stdout",
     "output_type": "stream",
     "text": [
      "CN/Method C\n",
      "max:\n",
      "r2_test    0.706867\n",
      "dtype: float64\n",
      "mean:\n",
      "r2_test    0.481245\n",
      "dtype: float64\n",
      "std:\n",
      "r2_test    0.064789\n",
      "dtype: float64\n"
     ]
    }
   ],
   "source": [
    "data = pd.read_csv('CN/result/result_XGB_750.csv')\n",
    "data = data.drop(columns=['Unnamed: 0', 'r2_train'])\n",
    "\n",
    "data_max = data.max()\n",
    "data_mean = data.mean()\n",
    "data_std = data.std(ddof=0)\n",
    "\n",
    "print('CN/Method C')\n",
    "print('max:')\n",
    "print(data_max)\n",
    "print('mean:')\n",
    "print(data_mean)\n",
    "print('std:')\n",
    "print(data_std)"
   ]
  },
  {
   "cell_type": "code",
   "execution_count": 35,
   "id": "c896d5df",
   "metadata": {},
   "outputs": [
    {
     "name": "stdout",
     "output_type": "stream",
     "text": [
      "CN/TrAB\n",
      "max:\n",
      "R2_score    0.771038\n",
      "dtype: float64\n",
      "mean:\n",
      "R2_score    0.618192\n",
      "dtype: float64\n",
      "std:\n",
      "R2_score    0.092554\n",
      "dtype: float64\n"
     ]
    }
   ],
   "source": [
    "data = pd.read_csv('CN/result/result_TrAB.csv')\n",
    "data = data.drop(columns=['Unnamed: 0'])\n",
    "\n",
    "data_max = data.max()\n",
    "data_mean = data.mean()\n",
    "data_std = data.std(ddof=0)\n",
    "\n",
    "print('CN/TrAB')\n",
    "print('max:')\n",
    "print(data_max)\n",
    "print('mean:')\n",
    "print(data_mean)\n",
    "print('std:')\n",
    "print(data_std)"
   ]
  },
  {
   "cell_type": "code",
   "execution_count": 36,
   "id": "7a061880",
   "metadata": {},
   "outputs": [
    {
     "name": "stdout",
     "output_type": "stream",
     "text": [
      "CN/TrAB_All\n",
      "max:\n",
      "R2_score    0.782598\n",
      "dtype: float64\n",
      "mean:\n",
      "R2_score    0.641894\n",
      "dtype: float64\n",
      "std:\n",
      "R2_score    0.080269\n",
      "dtype: float64\n"
     ]
    }
   ],
   "source": [
    "data = pd.read_csv('CN/result/result_TrAB_All.csv')\n",
    "data = data.drop(columns=['Unnamed: 0'])\n",
    "\n",
    "data_max = data.max()\n",
    "data_mean = data.mean()\n",
    "data_std = data.std(ddof=0)\n",
    "\n",
    "print('CN/TrAB_All')\n",
    "print('max:')\n",
    "print(data_max)\n",
    "print('mean:')\n",
    "print(data_mean)\n",
    "print('std:')\n",
    "print(data_std)"
   ]
  },
  {
   "cell_type": "code",
   "execution_count": null,
   "id": "22360874",
   "metadata": {},
   "outputs": [],
   "source": []
  }
 ],
 "metadata": {
  "kernelspec": {
   "display_name": "Python 3 (ipykernel)",
   "language": "python",
   "name": "python3"
  },
  "language_info": {
   "codemirror_mode": {
    "name": "ipython",
    "version": 3
   },
   "file_extension": ".py",
   "mimetype": "text/x-python",
   "name": "python",
   "nbconvert_exporter": "python",
   "pygments_lexer": "ipython3",
   "version": "3.7.16"
  }
 },
 "nbformat": 4,
 "nbformat_minor": 5
}
