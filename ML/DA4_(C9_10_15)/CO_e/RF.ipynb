{
 "cells": [
  {
   "cell_type": "code",
   "execution_count": 1,
   "id": "cba77f10",
   "metadata": {},
   "outputs": [],
   "source": [
    "import pandas as pd\n",
    "import numpy as np\n",
    "from sklearn.model_selection import train_test_split\n",
    "from sklearn.model_selection import GridSearchCV\n",
    "from sklearn.ensemble import RandomForestRegressor\n",
    "from sklearn import metrics"
   ]
  },
  {
   "cell_type": "code",
   "execution_count": 2,
   "id": "dc0a3dc9",
   "metadata": {},
   "outputs": [],
   "source": [
    "data = pd.read_csv(f'data/data_RF.csv')\n",
    "y = pd.DataFrame(data['Yield'],columns=['Yield'])\n",
    "X = data.drop(columns=['Name', 'ID', 'Yield'])"
   ]
  },
  {
   "cell_type": "code",
   "execution_count": 3,
   "id": "f11d40ed",
   "metadata": {},
   "outputs": [
    {
     "name": "stdout",
     "output_type": "stream",
     "text": [
      "Avg_R2_test: 0.26421330766195394\n",
      "Max_R2_test: 0.5337687756997032\n",
      "Std_R2_test: 0.20271488628125886\n"
     ]
    }
   ],
   "source": [
    "r2_test = []\n",
    "for i in range(100):\n",
    "    X_train, X_test, y_train, y_test = train_test_split(X, y, test_size=0.5, random_state=i)\n",
    "    param = {\"n_estimators\": [100, 1000, 5000], \"max_depth\": [3, 4, 5, 6]}\n",
    "    reg = GridSearchCV(RandomForestRegressor(random_state=0), param_grid=param, cv=10, n_jobs=16)\n",
    "    reg.fit(X_train,y_train['Yield'])\n",
    "    best = reg.best_estimator_\n",
    "    y_pred2 = best.predict(X_test)\n",
    "    r2_test.append(metrics.r2_score(y_test, y_pred2))\n",
    "\n",
    "result = pd.DataFrame(r2_test, columns=['R2_score'])\n",
    "result.to_csv('result/result_RF.csv')\n",
    "\n",
    "print('Avg_R2_test:', np.mean(r2_test))\n",
    "print('Max_R2_test:', np.max(r2_test))\n",
    "print('Std_R2_test:', np.std(r2_test, ddof=0))"
   ]
  },
  {
   "cell_type": "code",
   "execution_count": null,
   "id": "a5c73a05",
   "metadata": {},
   "outputs": [],
   "source": []
  }
 ],
 "metadata": {
  "kernelspec": {
   "display_name": "Python 3 (ipykernel)",
   "language": "python",
   "name": "python3"
  },
  "language_info": {
   "codemirror_mode": {
    "name": "ipython",
    "version": 3
   },
   "file_extension": ".py",
   "mimetype": "text/x-python",
   "name": "python",
   "nbconvert_exporter": "python",
   "pygments_lexer": "ipython3",
   "version": "3.7.16"
  }
 },
 "nbformat": 4,
 "nbformat_minor": 5
}
