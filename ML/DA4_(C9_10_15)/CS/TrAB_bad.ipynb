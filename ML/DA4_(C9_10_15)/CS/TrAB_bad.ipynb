{
 "cells": [
  {
   "cell_type": "code",
   "execution_count": 1,
   "id": "cba77f10",
   "metadata": {},
   "outputs": [],
   "source": [
    "import pandas as pd\n",
    "import numpy as np\n",
    "from sklearn.model_selection import train_test_split\n",
    "from adapt.instance_based import TrAdaBoostR2\n",
    "from sklearn.ensemble import HistGradientBoostingRegressor as hgb\n",
    "from sklearn import metrics"
   ]
  },
  {
   "cell_type": "code",
   "execution_count": 2,
   "id": "b3400e42",
   "metadata": {},
   "outputs": [
    {
     "name": "stdout",
     "output_type": "stream",
     "text": [
      "Avg_R2_test: 0.2888930007817351\n",
      "Max_R2_test: 0.5191760393951921\n",
      "Std_R2_test: 0.12074108987500047\n"
     ]
    }
   ],
   "source": [
    "data_s = pd.read_csv(f'data/data_DFT_bad.csv')\n",
    "data_t = pd.read_csv(f'data/data_t_bad.csv')\n",
    "ys = pd.DataFrame(data_s['Yield'],columns=['Yield'])\n",
    "Xs = data_s.drop(columns=['Name', 'ID', 'Yield'])\n",
    "yt = pd.DataFrame(data_t['Yield'],columns=['Yield'])\n",
    "Xt = data_t.drop(columns=['Name', 'ID', 'Yield'])\n",
    "\n",
    "r2_unlab = []\n",
    "for i in range(100):\n",
    "    Xt_lab, Xt_unlab, yt_lab, yt_unlab = train_test_split(Xt, yt, test_size=0.5, random_state=i)\n",
    "    model = TrAdaBoostR2(hgb(), n_estimators=3, Xt=Xt_lab, yt=yt_lab, random_state=0, verbose=0)\n",
    "    model.fit(Xs, ys)\n",
    "    y_pred2 = model.predict(Xt_unlab)\n",
    "    r2_unlab.append(metrics.r2_score(yt_unlab, y_pred2))\n",
    "    \n",
    "r2 = pd.DataFrame(r2_unlab, columns=['R2_score'])\n",
    "r2.to_csv('result/result_TrAB_bad.csv')\n",
    "    \n",
    "print('Avg_R2_test:', np.mean(r2_unlab))\n",
    "print('Max_R2_test:', np.max(r2_unlab))\n",
    "print('Std_R2_test:', np.std(r2_unlab, ddof=0))"
   ]
  },
  {
   "cell_type": "code",
   "execution_count": null,
   "id": "f1f751da",
   "metadata": {},
   "outputs": [],
   "source": []
  }
 ],
 "metadata": {
  "kernelspec": {
   "display_name": "Python 3 (ipykernel)",
   "language": "python",
   "name": "python3"
  },
  "language_info": {
   "codemirror_mode": {
    "name": "ipython",
    "version": 3
   },
   "file_extension": ".py",
   "mimetype": "text/x-python",
   "name": "python",
   "nbconvert_exporter": "python",
   "pygments_lexer": "ipython3",
   "version": "3.7.16"
  }
 },
 "nbformat": 4,
 "nbformat_minor": 5
}
