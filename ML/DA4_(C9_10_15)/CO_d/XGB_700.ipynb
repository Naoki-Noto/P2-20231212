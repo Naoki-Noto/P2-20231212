{
 "cells": [
  {
   "cell_type": "code",
   "execution_count": 1,
   "id": "56b7d500",
   "metadata": {},
   "outputs": [],
   "source": [
    "import pandas as pd\n",
    "from sklearn.model_selection import train_test_split\n",
    "from sklearn.model_selection import RandomizedSearchCV\n",
    "from xgboost import XGBRegressor\n",
    "from sklearn import metrics"
   ]
  },
  {
   "cell_type": "code",
   "execution_count": 2,
   "id": "99c4a1c4",
   "metadata": {
    "scrolled": false
   },
   "outputs": [
    {
     "name": "stdout",
     "output_type": "stream",
     "text": [
      "Avg_R2_test: 0.16215976205638621\n",
      "Max_R2_test: 0.6118234796879065\n",
      "Std_R2_test: 0.21867515129417853\n"
     ]
    }
   ],
   "source": [
    "data = pd.read_csv('data/data_DFT.csv')\n",
    "y = pd.DataFrame(data['Yield'],columns=['Yield'])\n",
    "X = data.drop(columns=['Name', 'ID', 'Yield'])\n",
    "    \n",
    "data_s = pd.read_csv(f'data/data_DFT_ALL.csv')\n",
    "y_s = pd.DataFrame(data_s['Yield'],columns=['Yield'])\n",
    "X_s = data_s.drop(columns=['Name', 'ID', 'Yield'])\n",
    "\n",
    "\n",
    "r2_train = []\n",
    "r2_test = []\n",
    "for i in range(100):\n",
    "    X_train, X_test, y_train, y_test = train_test_split(X, y, test_size=0.5, random_state=i)\n",
    "    param = {\"n_estimators\": [100, 500, 1000], \"gamma\": [0, 1, 2], \"min_child_weight\": [1, 2, 5, 10],\n",
    "             \"subsample\": [0.6, 1], \"eta\": [0.01, 0.1, 0.3, 1], \"colsample_bytree\": [0.6, 1],\n",
    "             \"lambda\": [0.01, 0.1, 1], \"max_depth\": [5, 7, 9]}\n",
    "    reg = RandomizedSearchCV(XGBRegressor(random_state=0), param_distributions=param, n_iter=600, cv=5, random_state=0, n_jobs=32)\n",
    "    reg.fit(X_s, y_s['Yield'])\n",
    "    best = reg.best_estimator_\n",
    "    y_pred1 = best.predict(X_s)\n",
    "    y_pred2 = best.predict(X_test)\n",
    "    r2_train.append(metrics.r2_score(y_s, y_pred1))\n",
    "    r2_test.append(metrics.r2_score(y_test, y_pred2))\n",
    "\n",
    "r2_train = pd.DataFrame(data=r2_train, columns=['r2_train'])\n",
    "r2_test = pd.DataFrame(data=r2_test, columns=['r2_test'])\n",
    "result = pd.concat([r2_train, r2_test], axis=1, join='inner')\n",
    "result.to_csv(f'result/result_DFT_wotarget.csv', index=False)\n",
    "print('Avg_R2_test:', r2_test['r2_test'].mean())\n",
    "print('Max_R2_test:', r2_test['r2_test'].max())\n",
    "print('Std_R2_test:', r2_test['r2_test'].std(ddof=0))"
   ]
  },
  {
   "cell_type": "code",
   "execution_count": null,
   "id": "49b45f09",
   "metadata": {},
   "outputs": [],
   "source": []
  }
 ],
 "metadata": {
  "kernelspec": {
   "display_name": "Python 3 (ipykernel)",
   "language": "python",
   "name": "python3"
  },
  "language_info": {
   "codemirror_mode": {
    "name": "ipython",
    "version": 3
   },
   "file_extension": ".py",
   "mimetype": "text/x-python",
   "name": "python",
   "nbconvert_exporter": "python",
   "pygments_lexer": "ipython3",
   "version": "3.10.13"
  }
 },
 "nbformat": 4,
 "nbformat_minor": 5
}
