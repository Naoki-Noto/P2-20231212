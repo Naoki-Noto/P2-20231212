{
 "cells": [
  {
   "cell_type": "code",
   "execution_count": 1,
   "id": "cba77f10",
   "metadata": {},
   "outputs": [],
   "source": [
    "from TrAB_model import TrAB\n",
    "import numpy as np\n",
    "from lightgbm import LGBMRegressor as lgbm\n",
    "from sklearn.ensemble import HistGradientBoostingRegressor as hgb"
   ]
  },
  {
   "cell_type": "code",
   "execution_count": 2,
   "id": "dc0a3dc9",
   "metadata": {},
   "outputs": [
    {
     "name": "stdout",
     "output_type": "stream",
     "text": [
      "Avg_R2_test: 0.680929517652119\n",
      "Max_R2_test: 0.848089147496574\n",
      "Std_R2_test: 0.10607393881017547\n"
     ]
    }
   ],
   "source": [
    "# Descriptor set = DFT, Test size = 50\n",
    "\n",
    "r2_unlab = TrAB(size=0.5, ne=5, es=lgbm, dataset='S1', dataset2='T')\n",
    "print('Avg_R2_test:', np.mean(r2_unlab))\n",
    "print('Max_R2_test:', np.max(r2_unlab))\n",
    "print('Std_R2_test:', np.std(r2_unlab, ddof=0))"
   ]
  },
  {
   "cell_type": "code",
   "execution_count": 3,
   "id": "2193a2c5",
   "metadata": {},
   "outputs": [
    {
     "name": "stdout",
     "output_type": "stream",
     "text": [
      "Avg_R2_test: 0.6559375801525706\n",
      "Max_R2_test: 0.8173179355007457\n",
      "Std_R2_test: 0.10448550255206066\n"
     ]
    }
   ],
   "source": [
    "# Descriptor set = DFT, Test size = 60\n",
    "\n",
    "r2_unlab = TrAB(size=0.6, ne=5, es=lgbm, dataset='S1', dataset2='T')\n",
    "print('Avg_R2_test:', np.mean(r2_unlab))\n",
    "print('Max_R2_test:', np.max(r2_unlab))\n",
    "print('Std_R2_test:', np.std(r2_unlab, ddof=0))"
   ]
  },
  {
   "cell_type": "code",
   "execution_count": 4,
   "id": "32a818e2",
   "metadata": {},
   "outputs": [
    {
     "name": "stdout",
     "output_type": "stream",
     "text": [
      "Avg_R2_test: 0.6357661145316692\n",
      "Max_R2_test: 0.8248646889144416\n",
      "Std_R2_test: 0.0926011862365391\n"
     ]
    }
   ],
   "source": [
    "# Descriptor set = DFT, Test size = 70\n",
    "\n",
    "r2_unlab = TrAB(size=0.7, ne=5, es=lgbm, dataset='S1', dataset2='T')\n",
    "print('Avg_R2_test:', np.mean(r2_unlab))\n",
    "print('Max_R2_test:', np.max(r2_unlab))\n",
    "print('Std_R2_test:', np.std(r2_unlab, ddof=0))"
   ]
  },
  {
   "cell_type": "code",
   "execution_count": 5,
   "id": "d80fa14a",
   "metadata": {},
   "outputs": [
    {
     "name": "stdout",
     "output_type": "stream",
     "text": [
      "Avg_R2_test: 0.6118140992019155\n",
      "Max_R2_test: 0.768887693005406\n",
      "Std_R2_test: 0.09489654560773245\n"
     ]
    }
   ],
   "source": [
    "# Descriptor set = DFT, Test size = 80\n",
    "\n",
    "r2_unlab = TrAB(size=0.8, ne=6, es=lgbm, dataset='S1', dataset2='T')\n",
    "print('Avg_R2_test:', np.mean(r2_unlab))\n",
    "print('Max_R2_test:', np.max(r2_unlab))\n",
    "print('Std_R2_test:', np.std(r2_unlab, ddof=0))"
   ]
  },
  {
   "cell_type": "code",
   "execution_count": 6,
   "id": "aa740f9c",
   "metadata": {},
   "outputs": [
    {
     "name": "stdout",
     "output_type": "stream",
     "text": [
      "Avg_R2_test: 0.557967595986153\n",
      "Max_R2_test: 0.7033473940382726\n",
      "Std_R2_test: 0.0888187943891262\n"
     ]
    }
   ],
   "source": [
    "# Descriptor set = DFT, Test size = 90\n",
    "\n",
    "r2_unlab = TrAB(size=0.9, ne=10, es=hgb, dataset='S1', dataset2='T')\n",
    "print('Avg_R2_test:', np.mean(r2_unlab))\n",
    "print('Max_R2_test:', np.max(r2_unlab))\n",
    "print('Std_R2_test:', np.std(r2_unlab, ddof=0))"
   ]
  },
  {
   "cell_type": "code",
   "execution_count": null,
   "id": "53c74536",
   "metadata": {},
   "outputs": [],
   "source": []
  }
 ],
 "metadata": {
  "kernelspec": {
   "display_name": "Python 3 (ipykernel)",
   "language": "python",
   "name": "python3"
  },
  "language_info": {
   "codemirror_mode": {
    "name": "ipython",
    "version": 3
   },
   "file_extension": ".py",
   "mimetype": "text/x-python",
   "name": "python",
   "nbconvert_exporter": "python",
   "pygments_lexer": "ipython3",
   "version": "3.7.16"
  }
 },
 "nbformat": 4,
 "nbformat_minor": 5
}
