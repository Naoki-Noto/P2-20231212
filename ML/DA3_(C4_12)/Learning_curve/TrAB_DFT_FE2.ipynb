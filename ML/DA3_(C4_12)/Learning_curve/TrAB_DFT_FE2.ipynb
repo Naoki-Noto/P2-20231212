{
 "cells": [
  {
   "cell_type": "code",
   "execution_count": 1,
   "id": "cba77f10",
   "metadata": {},
   "outputs": [],
   "source": [
    "from TrAB_model import TrAB\n",
    "import numpy as np\n",
    "from lightgbm import LGBMRegressor as lgbm\n",
    "from sklearn.ensemble import HistGradientBoostingRegressor as hgb"
   ]
  },
  {
   "cell_type": "code",
   "execution_count": 2,
   "id": "dc0a3dc9",
   "metadata": {},
   "outputs": [
    {
     "name": "stdout",
     "output_type": "stream",
     "text": [
      "Avg_R2_test: 0.7068936315349099\n",
      "Max_R2_test: 0.8716097407461827\n",
      "Std_R2_test: 0.10054648939984781\n"
     ]
    }
   ],
   "source": [
    "# Descriptor set = DFT_FE2, Test size = 50\n",
    "\n",
    "r2_unlab = TrAB(size=0.5, ne=9, es=lgbm, dataset='S1FE2', dataset2='tFE2')\n",
    "print('Avg_R2_test:', np.mean(r2_unlab))\n",
    "print('Max_R2_test:', np.max(r2_unlab))\n",
    "print('Std_R2_test:', np.std(r2_unlab, ddof=0))"
   ]
  },
  {
   "cell_type": "code",
   "execution_count": 3,
   "id": "1b0bb597",
   "metadata": {},
   "outputs": [
    {
     "name": "stdout",
     "output_type": "stream",
     "text": [
      "Avg_R2_test: 0.6771029401048183\n",
      "Max_R2_test: 0.8492215755977252\n",
      "Std_R2_test: 0.10352208979437487\n"
     ]
    }
   ],
   "source": [
    "# Descriptor set = DFT_FE2, Test size = 60\n",
    "\n",
    "r2_unlab = TrAB(size=0.6, ne=10, es=lgbm, dataset='S1FE2', dataset2='tFE2')\n",
    "print('Avg_R2_test:', np.mean(r2_unlab))\n",
    "print('Max_R2_test:', np.max(r2_unlab))\n",
    "print('Std_R2_test:', np.std(r2_unlab, ddof=0))"
   ]
  },
  {
   "cell_type": "code",
   "execution_count": 4,
   "id": "506418c8",
   "metadata": {},
   "outputs": [
    {
     "name": "stdout",
     "output_type": "stream",
     "text": [
      "Avg_R2_test: 0.6512766586125567\n",
      "Max_R2_test: 0.8210582487687813\n",
      "Std_R2_test: 0.09789968689692127\n"
     ]
    }
   ],
   "source": [
    "# Descriptor set = DFT_FE2, Test size = 70\n",
    "\n",
    "r2_unlab = TrAB(size=0.7, ne=14, es=lgbm, dataset='S1FE2', dataset2='tFE2')\n",
    "print('Avg_R2_test:', np.mean(r2_unlab))\n",
    "print('Max_R2_test:', np.max(r2_unlab))\n",
    "print('Std_R2_test:', np.std(r2_unlab, ddof=0))"
   ]
  },
  {
   "cell_type": "code",
   "execution_count": 5,
   "id": "0d63d5f8",
   "metadata": {},
   "outputs": [
    {
     "name": "stdout",
     "output_type": "stream",
     "text": [
      "Avg_R2_test: 0.6187153442609273\n",
      "Max_R2_test: 0.8151707996428732\n",
      "Std_R2_test: 0.10604372883319282\n"
     ]
    }
   ],
   "source": [
    "# Descriptor set = DFT_FE2, Test size = 80\n",
    "\n",
    "r2_unlab = TrAB(size=0.8, ne=17, es=lgbm, dataset='S1FE2', dataset2='tFE2')\n",
    "print('Avg_R2_test:', np.mean(r2_unlab))\n",
    "print('Max_R2_test:', np.max(r2_unlab))\n",
    "print('Std_R2_test:', np.std(r2_unlab, ddof=0))"
   ]
  },
  {
   "cell_type": "code",
   "execution_count": 6,
   "id": "53c74536",
   "metadata": {},
   "outputs": [
    {
     "name": "stdout",
     "output_type": "stream",
     "text": [
      "Avg_R2_test: 0.5372105567465753\n",
      "Max_R2_test: 0.8277394361976174\n",
      "Std_R2_test: 0.0974771444825682\n"
     ]
    }
   ],
   "source": [
    "# Descriptor set = DFT_FE2, Test size = 90\n",
    "\n",
    "r2_unlab = TrAB(size=0.9, ne=23, es=hgb, dataset='S1FE2', dataset2='tFE2')\n",
    "print('Avg_R2_test:', np.mean(r2_unlab))\n",
    "print('Max_R2_test:', np.max(r2_unlab))\n",
    "print('Std_R2_test:', np.std(r2_unlab, ddof=0))"
   ]
  },
  {
   "cell_type": "code",
   "execution_count": null,
   "id": "36c8298d",
   "metadata": {},
   "outputs": [],
   "source": []
  }
 ],
 "metadata": {
  "kernelspec": {
   "display_name": "Python 3 (ipykernel)",
   "language": "python",
   "name": "python3"
  },
  "language_info": {
   "codemirror_mode": {
    "name": "ipython",
    "version": 3
   },
   "file_extension": ".py",
   "mimetype": "text/x-python",
   "name": "python",
   "nbconvert_exporter": "python",
   "pygments_lexer": "ipython3",
   "version": "3.7.16"
  }
 },
 "nbformat": 4,
 "nbformat_minor": 5
}
