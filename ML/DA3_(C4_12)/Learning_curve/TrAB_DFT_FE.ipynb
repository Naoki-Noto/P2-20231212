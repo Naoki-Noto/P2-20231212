{
 "cells": [
  {
   "cell_type": "code",
   "execution_count": 1,
   "id": "cba77f10",
   "metadata": {},
   "outputs": [],
   "source": [
    "from TrAB_model import TrAB\n",
    "import numpy as np\n",
    "from lightgbm import LGBMRegressor as lgbm\n",
    "from sklearn.ensemble import HistGradientBoostingRegressor as hgb"
   ]
  },
  {
   "cell_type": "code",
   "execution_count": 2,
   "id": "dc0a3dc9",
   "metadata": {},
   "outputs": [
    {
     "name": "stdout",
     "output_type": "stream",
     "text": [
      "Avg_R2_test: 0.7405029401320504\n",
      "Max_R2_test: 0.878845955519164\n",
      "Std_R2_test: 0.08644908831841865\n"
     ]
    }
   ],
   "source": [
    "# Descriptor set = DFT, Test size = 50\n",
    "\n",
    "r2_unlab = TrAB(size=0.5, ne=7, es=lgbm, dataset='S1FE', dataset2='tFE')\n",
    "print('Avg_R2_test:', np.mean(r2_unlab))\n",
    "print('Max_R2_test:', np.max(r2_unlab))\n",
    "print('Std_R2_test:', np.std(r2_unlab, ddof=0))"
   ]
  },
  {
   "cell_type": "code",
   "execution_count": 3,
   "id": "1b0bb597",
   "metadata": {},
   "outputs": [
    {
     "name": "stdout",
     "output_type": "stream",
     "text": [
      "Avg_R2_test: 0.7073845676856853\n",
      "Max_R2_test: 0.866383496078899\n",
      "Std_R2_test: 0.08820229066324921\n"
     ]
    }
   ],
   "source": [
    "# Descriptor set = DFT, Test size = 60\n",
    "\n",
    "r2_unlab = TrAB(size=0.6, ne=7, es=lgbm, dataset='S1FE', dataset2='tFE')\n",
    "print('Avg_R2_test:', np.mean(r2_unlab))\n",
    "print('Max_R2_test:', np.max(r2_unlab))\n",
    "print('Std_R2_test:', np.std(r2_unlab, ddof=0))"
   ]
  },
  {
   "cell_type": "code",
   "execution_count": 4,
   "id": "506418c8",
   "metadata": {},
   "outputs": [
    {
     "name": "stdout",
     "output_type": "stream",
     "text": [
      "Avg_R2_test: 0.6797453969658049\n",
      "Max_R2_test: 0.868459894354745\n",
      "Std_R2_test: 0.08087641561973498\n"
     ]
    }
   ],
   "source": [
    "# Descriptor set = DFT, Test size = 70\n",
    "\n",
    "r2_unlab = TrAB(size=0.7, ne=8, es=lgbm, dataset='S1FE', dataset2='tFE')\n",
    "print('Avg_R2_test:', np.mean(r2_unlab))\n",
    "print('Max_R2_test:', np.max(r2_unlab))\n",
    "print('Std_R2_test:', np.std(r2_unlab, ddof=0))"
   ]
  },
  {
   "cell_type": "code",
   "execution_count": 5,
   "id": "0d63d5f8",
   "metadata": {},
   "outputs": [
    {
     "name": "stdout",
     "output_type": "stream",
     "text": [
      "Avg_R2_test: 0.6488442531618337\n",
      "Max_R2_test: 0.845501279723892\n",
      "Std_R2_test: 0.08684098742527034\n"
     ]
    }
   ],
   "source": [
    "# Descriptor set = DFT, Test size = 80\n",
    "\n",
    "r2_unlab = TrAB(size=0.8, ne=8, es=lgbm, dataset='S1FE', dataset2='tFE')\n",
    "print('Avg_R2_test:', np.mean(r2_unlab))\n",
    "print('Max_R2_test:', np.max(r2_unlab))\n",
    "print('Std_R2_test:', np.std(r2_unlab, ddof=0))"
   ]
  },
  {
   "cell_type": "code",
   "execution_count": 6,
   "id": "5579acd3",
   "metadata": {},
   "outputs": [
    {
     "name": "stdout",
     "output_type": "stream",
     "text": [
      "Avg_R2_test: 0.5879211724469892\n",
      "Max_R2_test: 0.713126978566397\n",
      "Std_R2_test: 0.06366993365222798\n"
     ]
    }
   ],
   "source": [
    "# Descriptor set = DFT, Test size = 90\n",
    "\n",
    "r2_unlab = TrAB(size=0.9, ne=12, es=lgbm, dataset='S1FE', dataset2='tFE')\n",
    "print('Avg_R2_test:', np.mean(r2_unlab))\n",
    "print('Max_R2_test:', np.max(r2_unlab))\n",
    "print('Std_R2_test:', np.std(r2_unlab, ddof=0))"
   ]
  },
  {
   "cell_type": "code",
   "execution_count": null,
   "id": "53c74536",
   "metadata": {},
   "outputs": [],
   "source": []
  }
 ],
 "metadata": {
  "kernelspec": {
   "display_name": "Python 3 (ipykernel)",
   "language": "python",
   "name": "python3"
  },
  "language_info": {
   "codemirror_mode": {
    "name": "ipython",
    "version": 3
   },
   "file_extension": ".py",
   "mimetype": "text/x-python",
   "name": "python",
   "nbconvert_exporter": "python",
   "pygments_lexer": "ipython3",
   "version": "3.7.16"
  }
 },
 "nbformat": 4,
 "nbformat_minor": 5
}
