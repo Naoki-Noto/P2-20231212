{
 "cells": [
  {
   "cell_type": "code",
   "execution_count": 1,
   "id": "cba77f10",
   "metadata": {},
   "outputs": [],
   "source": [
    "import pandas as pd"
   ]
  },
  {
   "cell_type": "code",
   "execution_count": 2,
   "id": "dc0a3dc9",
   "metadata": {},
   "outputs": [
    {
     "name": "stdout",
     "output_type": "stream",
     "text": [
      "TrAB\n",
      "max:\n",
      "r2_unlab    0.799469\n",
      "dtype: float64\n",
      "mean:\n",
      "r2_unlab    0.646144\n",
      "dtype: float64\n",
      "std:\n",
      "r2_unlab    0.09818\n",
      "dtype: float64\n"
     ]
    }
   ],
   "source": [
    "data = pd.read_csv('result/result_TrAB.csv')\n",
    "data = data.drop(columns=['Unnamed: 0', 'r2_all', 'mae_all', 'r2_lab', 'mae_lab', 'mae_unlab', 'unsupervised'])\n",
    "\n",
    "data_max = data.max()\n",
    "data_mean = data.mean()\n",
    "data_std = data.std(ddof=0)\n",
    "\n",
    "print('TrAB')\n",
    "print('max:')\n",
    "print(data_max)\n",
    "print('mean:')\n",
    "print(data_mean)\n",
    "print('std:')\n",
    "print(data_std)"
   ]
  },
  {
   "cell_type": "code",
   "execution_count": 3,
   "id": "924816ea",
   "metadata": {},
   "outputs": [
    {
     "name": "stdout",
     "output_type": "stream",
     "text": [
      "BW\n",
      "max:\n",
      "r2_unlab    0.790279\n",
      "dtype: float64\n",
      "mean:\n",
      "r2_unlab    0.63217\n",
      "dtype: float64\n",
      "std:\n",
      "r2_unlab    0.112495\n",
      "dtype: float64\n"
     ]
    }
   ],
   "source": [
    "data = pd.read_csv('result/result_BW.csv')\n",
    "data = data.drop(columns=['Unnamed: 0', 'r2_all', 'mae_all', 'r2_lab', 'mae_lab', 'mae_unlab'])\n",
    "\n",
    "data_max = data.max()\n",
    "data_mean = data.mean()\n",
    "data_std = data.std(ddof=0)\n",
    "\n",
    "print('BW')\n",
    "print('max:')\n",
    "print(data_max)\n",
    "print('mean:')\n",
    "print(data_mean)\n",
    "print('std:')\n",
    "print(data_std)"
   ]
  },
  {
   "cell_type": "code",
   "execution_count": 4,
   "id": "d9176aa3",
   "metadata": {},
   "outputs": [
    {
     "name": "stdout",
     "output_type": "stream",
     "text": [
      "FA\n",
      "max:\n",
      "r2_unlab    0.727627\n",
      "dtype: float64\n",
      "mean:\n",
      "r2_unlab    0.551493\n",
      "dtype: float64\n",
      "std:\n",
      "r2_unlab    0.100837\n",
      "dtype: float64\n"
     ]
    }
   ],
   "source": [
    "data = pd.read_csv('result/result_FA.csv')\n",
    "data = data.drop(columns=['Unnamed: 0', 'r2_all', 'mae_all', 'r2_lab', 'mae_lab', 'mae_unlab'])\n",
    "\n",
    "data_max = data.max()\n",
    "data_mean = data.mean()\n",
    "data_std = data.std(ddof=0)\n",
    "\n",
    "print('FA')\n",
    "print('max:')\n",
    "print(data_max)\n",
    "print('mean:')\n",
    "print(data_mean)\n",
    "print('std:')\n",
    "print(data_std)"
   ]
  },
  {
   "cell_type": "code",
   "execution_count": 5,
   "id": "a28d01ad",
   "metadata": {},
   "outputs": [
    {
     "name": "stdout",
     "output_type": "stream",
     "text": [
      "CORAL\n",
      "max:\n",
      "r2_unlab    0.464665\n",
      "dtype: float64\n",
      "mean:\n",
      "r2_unlab    0.075935\n",
      "dtype: float64\n",
      "std:\n",
      "r2_unlab    0.218075\n",
      "dtype: float64\n"
     ]
    }
   ],
   "source": [
    "data = pd.read_csv('result/result_CORAL.csv')\n",
    "data = data.drop(columns=['Unnamed: 0', 'r2_all', 'mae_all', 'r2_lab', 'mae_lab', 'mae_unlab'])\n",
    "\n",
    "data_max = data.max()\n",
    "data_mean = data.mean()\n",
    "data_std = data.std(ddof=0)\n",
    "\n",
    "print('CORAL')\n",
    "print('max:')\n",
    "print(data_max)\n",
    "print('mean:')\n",
    "print(data_mean)\n",
    "print('std:')\n",
    "print(data_std)"
   ]
  },
  {
   "cell_type": "code",
   "execution_count": null,
   "id": "a5c73a05",
   "metadata": {},
   "outputs": [],
   "source": []
  }
 ],
 "metadata": {
  "kernelspec": {
   "display_name": "Python 3 (ipykernel)",
   "language": "python",
   "name": "python3"
  },
  "language_info": {
   "codemirror_mode": {
    "name": "ipython",
    "version": 3
   },
   "file_extension": ".py",
   "mimetype": "text/x-python",
   "name": "python",
   "nbconvert_exporter": "python",
   "pygments_lexer": "ipython3",
   "version": "3.7.16"
  }
 },
 "nbformat": 4,
 "nbformat_minor": 5
}
