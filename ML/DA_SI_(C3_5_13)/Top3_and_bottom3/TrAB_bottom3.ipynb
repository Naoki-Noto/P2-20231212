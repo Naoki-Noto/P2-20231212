{
 "cells": [
  {
   "cell_type": "code",
   "execution_count": 1,
   "id": "cba77f10",
   "metadata": {},
   "outputs": [],
   "source": [
    "import pandas as pd\n",
    "import numpy as np\n",
    "import matplotlib.pyplot as plt\n",
    "from sklearn.model_selection import train_test_split\n",
    "from adapt.instance_based import TrAdaBoostR2\n",
    "from lightgbm import LGBMRegressor as lgbm\n",
    "from sklearn import metrics"
   ]
  },
  {
   "cell_type": "code",
   "execution_count": 2,
   "id": "dc0a3dc9",
   "metadata": {},
   "outputs": [],
   "source": [
    "yields = pd.read_csv('data/Yield_list.csv')\n",
    "data_s_woyields = pd.read_csv('data/data_s_woyields.csv')\n",
    "data_t = pd.read_csv('data/data_t.csv')\n",
    "yt = pd.DataFrame(data_t['Yield'],columns=['Yield'])\n",
    "Xt = data_t.drop(columns=['Name', 'ID', 'Yield'])"
   ]
  },
  {
   "cell_type": "code",
   "execution_count": 3,
   "id": "b0f691cb",
   "metadata": {
    "scrolled": false
   },
   "outputs": [
    {
     "name": "stdout",
     "output_type": "stream",
     "text": [
      "Avg_R2_test: 0.5722771732251108\n",
      "Max_R2_test: 0.812544117474377\n",
      "Std_R2_test: 0.11605562719470561\n"
     ]
    }
   ],
   "source": [
    "r2_unlab = []\n",
    "selected_SD = []\n",
    "for i in range(100):\n",
    "    yield_lab, yield_unlab = train_test_split(yields, test_size=0.5, random_state=i)\n",
    "    yield_lab_ID = pd.DataFrame(yield_lab['ID'],columns=['ID'])\n",
    "    yield_lab_values = yield_lab.drop(columns=['Name', 'ID'])\n",
    "    \n",
    "    corr_matrix = yield_lab_values.corr()\n",
    "    corr = corr_matrix.loc[['CA'], :]\n",
    "    corr = np.array(corr)\n",
    "    columns = ['CO_a', 'CO_b', 'CO_c', 'CO_d', 'CO_e', 'CS', 'CN', 'CA']\n",
    "    corr = pd.DataFrame(data=corr, columns=columns)\n",
    "    bottom_3 = corr.drop(columns=['CA']).T[0].nsmallest(3).index.tolist()\n",
    "    selected_SD.append(bottom_3)\n",
    "\n",
    "    Yield = []\n",
    "    for dataset in bottom_3:\n",
    "        reaction_yield = pd.read_csv(f'data/Yield_{dataset}.csv')\n",
    "        Yield.append(reaction_yield)\n",
    "\n",
    "    concat_yield = pd.concat(Yield, axis=0, ignore_index=True)\n",
    "    data_s = pd.concat([data_s_woyields, concat_yield], axis=1, join='inner')\n",
    "    ys = pd.DataFrame(data_s['Yield'],columns=['Yield'])\n",
    "    Xs = data_s.drop(columns=['Name', 'ID', 'Yield'])\n",
    "    \n",
    "    Xt_lab, Xt_unlab, yt_lab, yt_unlab = train_test_split(Xt, yt, test_size=0.5, random_state=i)\n",
    "    model = TrAdaBoostR2(lgbm(), n_estimators=5, Xt=Xt_lab, yt=yt_lab, random_state=0, verbose=0)\n",
    "    model.fit(Xs, ys)\n",
    "    y_pred2 = model.predict(Xt_unlab)\n",
    "    r2_unlab.append(metrics.r2_score(yt_unlab, y_pred2))\n",
    "\n",
    "selectedSD = pd.DataFrame(selected_SD, columns=['SD1', 'SD2', 'SD3'])\n",
    "result = pd.DataFrame(r2_unlab, columns=['R2_score'])\n",
    "result = pd.concat([selectedSD, result], axis=1, join='inner')\n",
    "result.to_csv('result/bottom/result.csv')\n",
    "\n",
    "print('Avg_R2_test:', np.mean(r2_unlab))\n",
    "print('Max_R2_test:', np.max(r2_unlab))\n",
    "print('Std_R2_test:', np.std(r2_unlab, ddof=0))"
   ]
  },
  {
   "cell_type": "code",
   "execution_count": null,
   "id": "14195761",
   "metadata": {},
   "outputs": [],
   "source": []
  }
 ],
 "metadata": {
  "kernelspec": {
   "display_name": "Python 3 (ipykernel)",
   "language": "python",
   "name": "python3"
  },
  "language_info": {
   "codemirror_mode": {
    "name": "ipython",
    "version": 3
   },
   "file_extension": ".py",
   "mimetype": "text/x-python",
   "name": "python",
   "nbconvert_exporter": "python",
   "pygments_lexer": "ipython3",
   "version": "3.7.16"
  }
 },
 "nbformat": 4,
 "nbformat_minor": 5
}
