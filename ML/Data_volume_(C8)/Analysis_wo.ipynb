{
 "cells": [
  {
   "cell_type": "code",
   "execution_count": 1,
   "id": "cba77f10",
   "metadata": {},
   "outputs": [],
   "source": [
    "import pandas as pd"
   ]
  },
  {
   "cell_type": "code",
   "execution_count": 2,
   "id": "74cf35fe",
   "metadata": {},
   "outputs": [
    {
     "name": "stdout",
     "output_type": "stream",
     "text": [
      "Lasso/DFT\n",
      "max:\n",
      "r2_test    0.2843\n",
      "dtype: float64\n",
      "mean:\n",
      "r2_test    0.023707\n",
      "dtype: float64\n",
      "std:\n",
      "r2_test    0.130017\n",
      "dtype: float64\n"
     ]
    }
   ],
   "source": [
    "data = pd.read_csv('Lasso/wo_target_training/result/result_DFT.csv')\n",
    "data = data.drop(columns=['r2_train'])\n",
    "\n",
    "data_max = data.max()\n",
    "data_mean = data.mean()\n",
    "data_std = data.std(ddof=0)\n",
    "\n",
    "print('Lasso/DFT')\n",
    "print('max:')\n",
    "print(data_max)\n",
    "print('mean:')\n",
    "print(data_mean)\n",
    "print('std:')\n",
    "print(data_std)"
   ]
  },
  {
   "cell_type": "code",
   "execution_count": 3,
   "id": "85be9e5e",
   "metadata": {},
   "outputs": [
    {
     "name": "stdout",
     "output_type": "stream",
     "text": [
      "Lasso/RDKit\n",
      "max:\n",
      "r2_test    0.639511\n",
      "dtype: float64\n",
      "mean:\n",
      "r2_test    0.313256\n",
      "dtype: float64\n",
      "std:\n",
      "r2_test    0.16756\n",
      "dtype: float64\n"
     ]
    }
   ],
   "source": [
    "data = pd.read_csv('Lasso/wo_target_training/result/result_RDKit.csv')\n",
    "data = data.drop(columns=['r2_train'])\n",
    "\n",
    "data_max = data.max()\n",
    "data_mean = data.mean()\n",
    "data_std = data.std(ddof=0)\n",
    "\n",
    "print('Lasso/RDKit')\n",
    "print('max:')\n",
    "print(data_max)\n",
    "print('mean:')\n",
    "print(data_mean)\n",
    "print('std:')\n",
    "print(data_std)"
   ]
  },
  {
   "cell_type": "code",
   "execution_count": 4,
   "id": "d892b4e5",
   "metadata": {},
   "outputs": [
    {
     "name": "stdout",
     "output_type": "stream",
     "text": [
      "Lasso/MK\n",
      "max:\n",
      "r2_test    0.576916\n",
      "dtype: float64\n",
      "mean:\n",
      "r2_test    0.250134\n",
      "dtype: float64\n",
      "std:\n",
      "r2_test    0.181026\n",
      "dtype: float64\n"
     ]
    }
   ],
   "source": [
    "data = pd.read_csv('Lasso/wo_target_training/result/result_MK.csv')\n",
    "data = data.drop(columns=['r2_train'])\n",
    "\n",
    "data_max = data.max()\n",
    "data_mean = data.mean()\n",
    "data_std = data.std(ddof=0)\n",
    "\n",
    "print('Lasso/MK')\n",
    "print('max:')\n",
    "print(data_max)\n",
    "print('mean:')\n",
    "print(data_mean)\n",
    "print('std:')\n",
    "print(data_std)"
   ]
  },
  {
   "cell_type": "code",
   "execution_count": 5,
   "id": "ac635b5f",
   "metadata": {},
   "outputs": [
    {
     "name": "stdout",
     "output_type": "stream",
     "text": [
      "Lasso/Mordred\n",
      "max:\n",
      "r2_test    0.656118\n",
      "dtype: float64\n",
      "mean:\n",
      "r2_test    0.37145\n",
      "dtype: float64\n",
      "std:\n",
      "r2_test    0.159661\n",
      "dtype: float64\n"
     ]
    }
   ],
   "source": [
    "data = pd.read_csv('Lasso/wo_target_training/result/result_Mordred.csv')\n",
    "data = data.drop(columns=['r2_train'])\n",
    "\n",
    "data_max = data.max()\n",
    "data_mean = data.mean()\n",
    "data_std = data.std(ddof=0)\n",
    "\n",
    "print('Lasso/Mordred')\n",
    "print('max:')\n",
    "print(data_max)\n",
    "print('mean:')\n",
    "print(data_mean)\n",
    "print('std:')\n",
    "print(data_std)"
   ]
  },
  {
   "cell_type": "code",
   "execution_count": 6,
   "id": "01a0c940",
   "metadata": {},
   "outputs": [
    {
     "name": "stdout",
     "output_type": "stream",
     "text": [
      "Lasso/MF\n",
      "max:\n",
      "r2_test    0.621662\n",
      "dtype: float64\n",
      "mean:\n",
      "r2_test    0.325065\n",
      "dtype: float64\n",
      "std:\n",
      "r2_test    0.163744\n",
      "dtype: float64\n"
     ]
    }
   ],
   "source": [
    "data = pd.read_csv('Lasso/wo_target_training/result/result_MF.csv')\n",
    "data = data.drop(columns=['r2_train'])\n",
    "\n",
    "data_max = data.max()\n",
    "data_mean = data.mean()\n",
    "data_std = data.std(ddof=0)\n",
    "\n",
    "print('Lasso/MF')\n",
    "print('max:')\n",
    "print(data_max)\n",
    "print('mean:')\n",
    "print(data_mean)\n",
    "print('std:')\n",
    "print(data_std)"
   ]
  },
  {
   "cell_type": "code",
   "execution_count": 7,
   "id": "ef1423b8",
   "metadata": {},
   "outputs": [
    {
     "name": "stdout",
     "output_type": "stream",
     "text": [
      "Lasso/RDKit_pca\n",
      "max:\n",
      "r2_test    0.539732\n",
      "dtype: float64\n",
      "mean:\n",
      "r2_test    0.260429\n",
      "dtype: float64\n",
      "std:\n",
      "r2_test    0.146887\n",
      "dtype: float64\n"
     ]
    }
   ],
   "source": [
    "data = pd.read_csv('Lasso/wo_target_training/result/result_RDKit_pca.csv')\n",
    "data = data.drop(columns=['r2_train'])\n",
    "\n",
    "data_max = data.max()\n",
    "data_mean = data.mean()\n",
    "data_std = data.std(ddof=0)\n",
    "\n",
    "print('Lasso/RDKit_pca')\n",
    "print('max:')\n",
    "print(data_max)\n",
    "print('mean:')\n",
    "print(data_mean)\n",
    "print('std:')\n",
    "print(data_std)"
   ]
  },
  {
   "cell_type": "code",
   "execution_count": 8,
   "id": "57712ed3",
   "metadata": {},
   "outputs": [
    {
     "name": "stdout",
     "output_type": "stream",
     "text": [
      "Lasso/MK_pca\n",
      "max:\n",
      "r2_test    0.553651\n",
      "dtype: float64\n",
      "mean:\n",
      "r2_test    0.228808\n",
      "dtype: float64\n",
      "std:\n",
      "r2_test    0.151106\n",
      "dtype: float64\n"
     ]
    }
   ],
   "source": [
    "data = pd.read_csv('Lasso/wo_target_training/result/result_MK_pca.csv')\n",
    "data = data.drop(columns=['r2_train'])\n",
    "\n",
    "data_max = data.max()\n",
    "data_mean = data.mean()\n",
    "data_std = data.std(ddof=0)\n",
    "\n",
    "print('Lasso/MK_pca')\n",
    "print('max:')\n",
    "print(data_max)\n",
    "print('mean:')\n",
    "print(data_mean)\n",
    "print('std:')\n",
    "print(data_std)"
   ]
  },
  {
   "cell_type": "code",
   "execution_count": 9,
   "id": "a7241c29",
   "metadata": {},
   "outputs": [
    {
     "name": "stdout",
     "output_type": "stream",
     "text": [
      "Lasso/Mordred_pca\n",
      "max:\n",
      "r2_test    0.353484\n",
      "dtype: float64\n",
      "mean:\n",
      "r2_test    0.157156\n",
      "dtype: float64\n",
      "std:\n",
      "r2_test    0.134219\n",
      "dtype: float64\n"
     ]
    }
   ],
   "source": [
    "data = pd.read_csv('Lasso/wo_target_training/result/result_Mordred_pca.csv')\n",
    "data = data.drop(columns=['r2_train'])\n",
    "\n",
    "data_max = data.max()\n",
    "data_mean = data.mean()\n",
    "data_std = data.std(ddof=0)\n",
    "\n",
    "print('Lasso/Mordred_pca')\n",
    "print('max:')\n",
    "print(data_max)\n",
    "print('mean:')\n",
    "print(data_mean)\n",
    "print('std:')\n",
    "print(data_std)"
   ]
  },
  {
   "cell_type": "code",
   "execution_count": 10,
   "id": "c3d2e466",
   "metadata": {},
   "outputs": [
    {
     "name": "stdout",
     "output_type": "stream",
     "text": [
      "Lasso/MF_pca\n",
      "max:\n",
      "r2_test    0.54309\n",
      "dtype: float64\n",
      "mean:\n",
      "r2_test    0.272892\n",
      "dtype: float64\n",
      "std:\n",
      "r2_test    0.15073\n",
      "dtype: float64\n"
     ]
    }
   ],
   "source": [
    "data = pd.read_csv('Lasso/wo_target_training/result/result_MF_pca.csv')\n",
    "data = data.drop(columns=['r2_train'])\n",
    "\n",
    "data_max = data.max()\n",
    "data_mean = data.mean()\n",
    "data_std = data.std(ddof=0)\n",
    "\n",
    "print('Lasso/MF_pca')\n",
    "print('max:')\n",
    "print(data_max)\n",
    "print('mean:')\n",
    "print(data_mean)\n",
    "print('std:')\n",
    "print(data_std)"
   ]
  },
  {
   "cell_type": "code",
   "execution_count": 11,
   "id": "bb1fad77",
   "metadata": {},
   "outputs": [
    {
     "name": "stdout",
     "output_type": "stream",
     "text": [
      "SVM/DFT\n",
      "max:\n",
      "r2_test    0.324947\n",
      "dtype: float64\n",
      "mean:\n",
      "r2_test   -0.191489\n",
      "dtype: float64\n",
      "std:\n",
      "r2_test    0.266264\n",
      "dtype: float64\n"
     ]
    }
   ],
   "source": [
    "data = pd.read_csv('SVM/wo_target_training/result/result_DFT.csv')\n",
    "data = data.drop(columns=['r2_train'])\n",
    "\n",
    "data_max = data.max()\n",
    "data_mean = data.mean()\n",
    "data_std = data.std(ddof=0)\n",
    "\n",
    "print('SVM/DFT')\n",
    "print('max:')\n",
    "print(data_max)\n",
    "print('mean:')\n",
    "print(data_mean)\n",
    "print('std:')\n",
    "print(data_std)"
   ]
  },
  {
   "cell_type": "code",
   "execution_count": 12,
   "id": "47dd0115",
   "metadata": {},
   "outputs": [
    {
     "name": "stdout",
     "output_type": "stream",
     "text": [
      "SVM/RDKit\n",
      "max:\n",
      "r2_test    0.605671\n",
      "dtype: float64\n",
      "mean:\n",
      "r2_test    0.278078\n",
      "dtype: float64\n",
      "std:\n",
      "r2_test    0.175889\n",
      "dtype: float64\n"
     ]
    }
   ],
   "source": [
    "data = pd.read_csv('SVM/wo_target_training/result/result_RDKit.csv')\n",
    "data = data.drop(columns=['r2_train'])\n",
    "\n",
    "data_max = data.max()\n",
    "data_mean = data.mean()\n",
    "data_std = data.std(ddof=0)\n",
    "\n",
    "print('SVM/RDKit')\n",
    "print('max:')\n",
    "print(data_max)\n",
    "print('mean:')\n",
    "print(data_mean)\n",
    "print('std:')\n",
    "print(data_std)"
   ]
  },
  {
   "cell_type": "code",
   "execution_count": 13,
   "id": "780e4c62",
   "metadata": {},
   "outputs": [
    {
     "name": "stdout",
     "output_type": "stream",
     "text": [
      "SVM/MK\n",
      "max:\n",
      "r2_test    0.476669\n",
      "dtype: float64\n",
      "mean:\n",
      "r2_test    0.043307\n",
      "dtype: float64\n",
      "std:\n",
      "r2_test    0.272911\n",
      "dtype: float64\n"
     ]
    }
   ],
   "source": [
    "data = pd.read_csv('SVM/wo_target_training/result/result_MK.csv')\n",
    "data = data.drop(columns=['r2_train'])\n",
    "\n",
    "data_max = data.max()\n",
    "data_mean = data.mean()\n",
    "data_std = data.std(ddof=0)\n",
    "\n",
    "print('SVM/MK')\n",
    "print('max:')\n",
    "print(data_max)\n",
    "print('mean:')\n",
    "print(data_mean)\n",
    "print('std:')\n",
    "print(data_std)"
   ]
  },
  {
   "cell_type": "code",
   "execution_count": 14,
   "id": "9a2d8d02",
   "metadata": {},
   "outputs": [
    {
     "name": "stdout",
     "output_type": "stream",
     "text": [
      "SVM/Mordred\n",
      "max:\n",
      "r2_test    0.599065\n",
      "dtype: float64\n",
      "mean:\n",
      "r2_test    0.338605\n",
      "dtype: float64\n",
      "std:\n",
      "r2_test    0.163821\n",
      "dtype: float64\n"
     ]
    }
   ],
   "source": [
    "data = pd.read_csv('SVM/wo_target_training/result/result_Mordred.csv')\n",
    "data = data.drop(columns=['r2_train'])\n",
    "\n",
    "data_max = data.max()\n",
    "data_mean = data.mean()\n",
    "data_std = data.std(ddof=0)\n",
    "\n",
    "print('SVM/Mordred')\n",
    "print('max:')\n",
    "print(data_max)\n",
    "print('mean:')\n",
    "print(data_mean)\n",
    "print('std:')\n",
    "print(data_std)"
   ]
  },
  {
   "cell_type": "code",
   "execution_count": 15,
   "id": "5f6851d7",
   "metadata": {},
   "outputs": [
    {
     "name": "stdout",
     "output_type": "stream",
     "text": [
      "SVM/MF\n",
      "max:\n",
      "r2_test    0.561547\n",
      "dtype: float64\n",
      "mean:\n",
      "r2_test    0.21347\n",
      "dtype: float64\n",
      "std:\n",
      "r2_test    0.218257\n",
      "dtype: float64\n"
     ]
    }
   ],
   "source": [
    "data = pd.read_csv('SVM/wo_target_training/result/result_MF.csv')\n",
    "data = data.drop(columns=['r2_train'])\n",
    "\n",
    "data_max = data.max()\n",
    "data_mean = data.mean()\n",
    "data_std = data.std(ddof=0)\n",
    "\n",
    "print('SVM/MF')\n",
    "print('max:')\n",
    "print(data_max)\n",
    "print('mean:')\n",
    "print(data_mean)\n",
    "print('std:')\n",
    "print(data_std)"
   ]
  },
  {
   "cell_type": "code",
   "execution_count": 16,
   "id": "7040f4cc",
   "metadata": {},
   "outputs": [
    {
     "name": "stdout",
     "output_type": "stream",
     "text": [
      "SVM/RDKit_pca\n",
      "max:\n",
      "r2_test    0.563169\n",
      "dtype: float64\n",
      "mean:\n",
      "r2_test    0.177446\n",
      "dtype: float64\n",
      "std:\n",
      "r2_test    0.189975\n",
      "dtype: float64\n"
     ]
    }
   ],
   "source": [
    "data = pd.read_csv('SVM/wo_target_training/result/result_RDKit_pca.csv')\n",
    "data = data.drop(columns=['r2_train'])\n",
    "\n",
    "data_max = data.max()\n",
    "data_mean = data.mean()\n",
    "data_std = data.std(ddof=0)\n",
    "\n",
    "print('SVM/RDKit_pca')\n",
    "print('max:')\n",
    "print(data_max)\n",
    "print('mean:')\n",
    "print(data_mean)\n",
    "print('std:')\n",
    "print(data_std)"
   ]
  },
  {
   "cell_type": "code",
   "execution_count": 17,
   "id": "8b1a7c21",
   "metadata": {},
   "outputs": [
    {
     "name": "stdout",
     "output_type": "stream",
     "text": [
      "SVM/MK_pca\n",
      "max:\n",
      "r2_test    0.413228\n",
      "dtype: float64\n",
      "mean:\n",
      "r2_test   -0.082867\n",
      "dtype: float64\n",
      "std:\n",
      "r2_test    0.29669\n",
      "dtype: float64\n"
     ]
    }
   ],
   "source": [
    "data = pd.read_csv('SVM/wo_target_training/result/result_MK_pca.csv')\n",
    "data = data.drop(columns=['r2_train'])\n",
    "\n",
    "data_max = data.max()\n",
    "data_mean = data.mean()\n",
    "data_std = data.std(ddof=0)\n",
    "\n",
    "print('SVM/MK_pca')\n",
    "print('max:')\n",
    "print(data_max)\n",
    "print('mean:')\n",
    "print(data_mean)\n",
    "print('std:')\n",
    "print(data_std)"
   ]
  },
  {
   "cell_type": "code",
   "execution_count": 18,
   "id": "48689902",
   "metadata": {},
   "outputs": [
    {
     "name": "stdout",
     "output_type": "stream",
     "text": [
      "SVM/Mordred_pca\n",
      "max:\n",
      "r2_test    0.611937\n",
      "dtype: float64\n",
      "mean:\n",
      "r2_test    0.255134\n",
      "dtype: float64\n",
      "std:\n",
      "r2_test    0.171564\n",
      "dtype: float64\n"
     ]
    }
   ],
   "source": [
    "data = pd.read_csv('SVM/wo_target_training/result/result_Mordred_pca.csv')\n",
    "data = data.drop(columns=['r2_train'])\n",
    "\n",
    "data_max = data.max()\n",
    "data_mean = data.mean()\n",
    "data_std = data.std(ddof=0)\n",
    "\n",
    "print('SVM/Mordred_pca')\n",
    "print('max:')\n",
    "print(data_max)\n",
    "print('mean:')\n",
    "print(data_mean)\n",
    "print('std:')\n",
    "print(data_std)"
   ]
  },
  {
   "cell_type": "code",
   "execution_count": 19,
   "id": "ba0aeccc",
   "metadata": {},
   "outputs": [
    {
     "name": "stdout",
     "output_type": "stream",
     "text": [
      "SVM/MF_pca\n",
      "max:\n",
      "r2_test    0.509805\n",
      "dtype: float64\n",
      "mean:\n",
      "r2_test    0.090725\n",
      "dtype: float64\n",
      "std:\n",
      "r2_test    0.237239\n",
      "dtype: float64\n"
     ]
    }
   ],
   "source": [
    "data = pd.read_csv('SVM/wo_target_training/result/result_MF_pca.csv')\n",
    "data = data.drop(columns=['r2_train'])\n",
    "\n",
    "data_max = data.max()\n",
    "data_mean = data.mean()\n",
    "data_std = data.std(ddof=0)\n",
    "\n",
    "print('SVM/MF_pca')\n",
    "print('max:')\n",
    "print(data_max)\n",
    "print('mean:')\n",
    "print(data_mean)\n",
    "print('std:')\n",
    "print(data_std)"
   ]
  },
  {
   "cell_type": "code",
   "execution_count": 20,
   "id": "a8aebb86",
   "metadata": {},
   "outputs": [
    {
     "name": "stdout",
     "output_type": "stream",
     "text": [
      "RF/DFT\n",
      "max:\n",
      "r2_test    0.672325\n",
      "dtype: float64\n",
      "mean:\n",
      "r2_test    0.388861\n",
      "dtype: float64\n",
      "std:\n",
      "r2_test    0.138078\n",
      "dtype: float64\n"
     ]
    }
   ],
   "source": [
    "data = pd.read_csv('RF/wo_target_training/result/result_DFT.csv')\n",
    "data = data.drop(columns=['r2_train'])\n",
    "\n",
    "data_max = data.max()\n",
    "data_mean = data.mean()\n",
    "data_std = data.std(ddof=0)\n",
    "\n",
    "print('RF/DFT')\n",
    "print('max:')\n",
    "print(data_max)\n",
    "print('mean:')\n",
    "print(data_mean)\n",
    "print('std:')\n",
    "print(data_std)"
   ]
  },
  {
   "cell_type": "code",
   "execution_count": 21,
   "id": "25c9bbe5",
   "metadata": {},
   "outputs": [
    {
     "name": "stdout",
     "output_type": "stream",
     "text": [
      "RF/RDKit\n",
      "max:\n",
      "r2_test    0.640955\n",
      "dtype: float64\n",
      "mean:\n",
      "r2_test    0.351333\n",
      "dtype: float64\n",
      "std:\n",
      "r2_test    0.169109\n",
      "dtype: float64\n"
     ]
    }
   ],
   "source": [
    "data = pd.read_csv('RF/wo_target_training/result/result_RDKit.csv')\n",
    "data = data.drop(columns=['r2_train'])\n",
    "\n",
    "data_max = data.max()\n",
    "data_mean = data.mean()\n",
    "data_std = data.std(ddof=0)\n",
    "\n",
    "print('RF/RDKit')\n",
    "print('max:')\n",
    "print(data_max)\n",
    "print('mean:')\n",
    "print(data_mean)\n",
    "print('std:')\n",
    "print(data_std)"
   ]
  },
  {
   "cell_type": "code",
   "execution_count": 22,
   "id": "6ed92282",
   "metadata": {},
   "outputs": [
    {
     "name": "stdout",
     "output_type": "stream",
     "text": [
      "RF/MK\n",
      "max:\n",
      "r2_test    0.538258\n",
      "dtype: float64\n",
      "mean:\n",
      "r2_test    0.279053\n",
      "dtype: float64\n",
      "std:\n",
      "r2_test    0.157431\n",
      "dtype: float64\n"
     ]
    }
   ],
   "source": [
    "data = pd.read_csv('RF/wo_target_training/result/result_MK.csv')\n",
    "data = data.drop(columns=['r2_train'])\n",
    "\n",
    "data_max = data.max()\n",
    "data_mean = data.mean()\n",
    "data_std = data.std(ddof=0)\n",
    "\n",
    "print('RF/MK')\n",
    "print('max:')\n",
    "print(data_max)\n",
    "print('mean:')\n",
    "print(data_mean)\n",
    "print('std:')\n",
    "print(data_std)"
   ]
  },
  {
   "cell_type": "code",
   "execution_count": 23,
   "id": "41303d36",
   "metadata": {},
   "outputs": [
    {
     "name": "stdout",
     "output_type": "stream",
     "text": [
      "RF/Mordred\n",
      "max:\n",
      "r2_test    0.657339\n",
      "dtype: float64\n",
      "mean:\n",
      "r2_test    0.383747\n",
      "dtype: float64\n",
      "std:\n",
      "r2_test    0.164193\n",
      "dtype: float64\n"
     ]
    }
   ],
   "source": [
    "data = pd.read_csv('RF/wo_target_training/result/result_Mordred.csv')\n",
    "data = data.drop(columns=['r2_train'])\n",
    "\n",
    "data_max = data.max()\n",
    "data_mean = data.mean()\n",
    "data_std = data.std(ddof=0)\n",
    "\n",
    "print('RF/Mordred')\n",
    "print('max:')\n",
    "print(data_max)\n",
    "print('mean:')\n",
    "print(data_mean)\n",
    "print('std:')\n",
    "print(data_std)"
   ]
  },
  {
   "cell_type": "code",
   "execution_count": 24,
   "id": "57c5404a",
   "metadata": {},
   "outputs": [
    {
     "name": "stdout",
     "output_type": "stream",
     "text": [
      "RF/MF\n",
      "max:\n",
      "r2_test    0.622368\n",
      "dtype: float64\n",
      "mean:\n",
      "r2_test    0.365412\n",
      "dtype: float64\n",
      "std:\n",
      "r2_test    0.151621\n",
      "dtype: float64\n"
     ]
    }
   ],
   "source": [
    "data = pd.read_csv('RF/wo_target_training/result/result_MF.csv')\n",
    "data = data.drop(columns=['r2_train'])\n",
    "\n",
    "data_max = data.max()\n",
    "data_mean = data.mean()\n",
    "data_std = data.std(ddof=0)\n",
    "\n",
    "print('RF/MF')\n",
    "print('max:')\n",
    "print(data_max)\n",
    "print('mean:')\n",
    "print(data_mean)\n",
    "print('std:')\n",
    "print(data_std)"
   ]
  },
  {
   "cell_type": "code",
   "execution_count": 25,
   "id": "83b4020e",
   "metadata": {},
   "outputs": [
    {
     "name": "stdout",
     "output_type": "stream",
     "text": [
      "RF/RDKit_pca\n",
      "max:\n",
      "r2_test    0.649661\n",
      "dtype: float64\n",
      "mean:\n",
      "r2_test    0.341707\n",
      "dtype: float64\n",
      "std:\n",
      "r2_test    0.167982\n",
      "dtype: float64\n"
     ]
    }
   ],
   "source": [
    "data = pd.read_csv('RF/wo_target_training/result/result_RDKit_pca.csv')\n",
    "data = data.drop(columns=['r2_train'])\n",
    "\n",
    "data_max = data.max()\n",
    "data_mean = data.mean()\n",
    "data_std = data.std(ddof=0)\n",
    "\n",
    "print('RF/RDKit_pca')\n",
    "print('max:')\n",
    "print(data_max)\n",
    "print('mean:')\n",
    "print(data_mean)\n",
    "print('std:')\n",
    "print(data_std)"
   ]
  },
  {
   "cell_type": "code",
   "execution_count": 26,
   "id": "d0c81abf",
   "metadata": {},
   "outputs": [
    {
     "name": "stdout",
     "output_type": "stream",
     "text": [
      "RF/MK_pca\n",
      "max:\n",
      "r2_test    0.644509\n",
      "dtype: float64\n",
      "mean:\n",
      "r2_test    0.350631\n",
      "dtype: float64\n",
      "std:\n",
      "r2_test    0.158927\n",
      "dtype: float64\n"
     ]
    }
   ],
   "source": [
    "data = pd.read_csv('RF/wo_target_training/result/result_MK_pca.csv')\n",
    "data = data.drop(columns=['r2_train'])\n",
    "\n",
    "data_max = data.max()\n",
    "data_mean = data.mean()\n",
    "data_std = data.std(ddof=0)\n",
    "\n",
    "print('RF/MK_pca')\n",
    "print('max:')\n",
    "print(data_max)\n",
    "print('mean:')\n",
    "print(data_mean)\n",
    "print('std:')\n",
    "print(data_std)"
   ]
  },
  {
   "cell_type": "code",
   "execution_count": 27,
   "id": "2b02c54d",
   "metadata": {},
   "outputs": [
    {
     "name": "stdout",
     "output_type": "stream",
     "text": [
      "RF/Mordred_pca\n",
      "max:\n",
      "r2_test    0.683523\n",
      "dtype: float64\n",
      "mean:\n",
      "r2_test    0.390688\n",
      "dtype: float64\n",
      "std:\n",
      "r2_test    0.159613\n",
      "dtype: float64\n"
     ]
    }
   ],
   "source": [
    "data = pd.read_csv('RF/wo_target_training/result/result_Mordred_pca.csv')\n",
    "data = data.drop(columns=['r2_train'])\n",
    "\n",
    "data_max = data.max()\n",
    "data_mean = data.mean()\n",
    "data_std = data.std(ddof=0)\n",
    "\n",
    "print('RF/Mordred_pca')\n",
    "print('max:')\n",
    "print(data_max)\n",
    "print('mean:')\n",
    "print(data_mean)\n",
    "print('std:')\n",
    "print(data_std)"
   ]
  },
  {
   "cell_type": "code",
   "execution_count": 28,
   "id": "27b8f1b8",
   "metadata": {},
   "outputs": [
    {
     "name": "stdout",
     "output_type": "stream",
     "text": [
      "RF/MF_pca\n",
      "max:\n",
      "r2_test    0.68147\n",
      "dtype: float64\n",
      "mean:\n",
      "r2_test    0.403518\n",
      "dtype: float64\n",
      "std:\n",
      "r2_test    0.159007\n",
      "dtype: float64\n"
     ]
    }
   ],
   "source": [
    "data = pd.read_csv('RF/wo_target_training/result/result_MF_pca.csv')\n",
    "data = data.drop(columns=['r2_train'])\n",
    "\n",
    "data_max = data.max()\n",
    "data_mean = data.mean()\n",
    "data_std = data.std(ddof=0)\n",
    "\n",
    "print('RF/MF_pca')\n",
    "print('max:')\n",
    "print(data_max)\n",
    "print('mean:')\n",
    "print(data_mean)\n",
    "print('std:')\n",
    "print(data_std)"
   ]
  },
  {
   "cell_type": "code",
   "execution_count": 29,
   "id": "3a830d47",
   "metadata": {},
   "outputs": [
    {
     "name": "stdout",
     "output_type": "stream",
     "text": [
      "XGB/DFT\n",
      "max:\n",
      "r2_test    0.632473\n",
      "dtype: float64\n",
      "mean:\n",
      "r2_test    0.349557\n",
      "dtype: float64\n",
      "std:\n",
      "r2_test    0.158799\n",
      "dtype: float64\n"
     ]
    }
   ],
   "source": [
    "data = pd.read_csv('XGB/wo_target_training/result/result_DFT.csv')\n",
    "data = data.drop(columns=['r2_train'])\n",
    "\n",
    "data_max = data.max()\n",
    "data_mean = data.mean()\n",
    "data_std = data.std(ddof=0)\n",
    "\n",
    "print('XGB/DFT')\n",
    "print('max:')\n",
    "print(data_max)\n",
    "print('mean:')\n",
    "print(data_mean)\n",
    "print('std:')\n",
    "print(data_std)"
   ]
  },
  {
   "cell_type": "code",
   "execution_count": 30,
   "id": "5f06849b",
   "metadata": {},
   "outputs": [
    {
     "name": "stdout",
     "output_type": "stream",
     "text": [
      "XGB/RDKit\n",
      "max:\n",
      "r2_test    0.644825\n",
      "dtype: float64\n",
      "mean:\n",
      "r2_test    0.377292\n",
      "dtype: float64\n",
      "std:\n",
      "r2_test    0.159882\n",
      "dtype: float64\n"
     ]
    }
   ],
   "source": [
    "data = pd.read_csv('XGB/wo_target_training/result/result_RDKit.csv')\n",
    "data = data.drop(columns=['r2_train'])\n",
    "\n",
    "data_max = data.max()\n",
    "data_mean = data.mean()\n",
    "data_std = data.std(ddof=0)\n",
    "\n",
    "print('XGB/RDKit')\n",
    "print('max:')\n",
    "print(data_max)\n",
    "print('mean:')\n",
    "print(data_mean)\n",
    "print('std:')\n",
    "print(data_std)"
   ]
  },
  {
   "cell_type": "code",
   "execution_count": 31,
   "id": "f5ec0286",
   "metadata": {},
   "outputs": [
    {
     "name": "stdout",
     "output_type": "stream",
     "text": [
      "XGB/MK\n",
      "max:\n",
      "r2_test    0.556782\n",
      "dtype: float64\n",
      "mean:\n",
      "r2_test    0.257441\n",
      "dtype: float64\n",
      "std:\n",
      "r2_test    0.18813\n",
      "dtype: float64\n"
     ]
    }
   ],
   "source": [
    "data = pd.read_csv('XGB/wo_target_training/result/result_MK.csv')\n",
    "data = data.drop(columns=['r2_train'])\n",
    "\n",
    "data_max = data.max()\n",
    "data_mean = data.mean()\n",
    "data_std = data.std(ddof=0)\n",
    "\n",
    "print('XGB/MK')\n",
    "print('max:')\n",
    "print(data_max)\n",
    "print('mean:')\n",
    "print(data_mean)\n",
    "print('std:')\n",
    "print(data_std)"
   ]
  },
  {
   "cell_type": "code",
   "execution_count": 32,
   "id": "91c5c584",
   "metadata": {},
   "outputs": [
    {
     "name": "stdout",
     "output_type": "stream",
     "text": [
      "XGB/Mordred\n",
      "max:\n",
      "r2_test    0.606961\n",
      "dtype: float64\n",
      "mean:\n",
      "r2_test    0.320117\n",
      "dtype: float64\n",
      "std:\n",
      "r2_test    0.176088\n",
      "dtype: float64\n"
     ]
    }
   ],
   "source": [
    "data = pd.read_csv('XGB/wo_target_training/result/result_Mordred.csv')\n",
    "data = data.drop(columns=['r2_train'])\n",
    "\n",
    "data_max = data.max()\n",
    "data_mean = data.mean()\n",
    "data_std = data.std(ddof=0)\n",
    "\n",
    "print('XGB/Mordred')\n",
    "print('max:')\n",
    "print(data_max)\n",
    "print('mean:')\n",
    "print(data_mean)\n",
    "print('std:')\n",
    "print(data_std)"
   ]
  },
  {
   "cell_type": "code",
   "execution_count": 33,
   "id": "21354162",
   "metadata": {},
   "outputs": [
    {
     "name": "stdout",
     "output_type": "stream",
     "text": [
      "XGB/MF\n",
      "max:\n",
      "r2_test    0.630078\n",
      "dtype: float64\n",
      "mean:\n",
      "r2_test    0.33539\n",
      "dtype: float64\n",
      "std:\n",
      "r2_test    0.173931\n",
      "dtype: float64\n"
     ]
    }
   ],
   "source": [
    "data = pd.read_csv('XGB/wo_target_training/result/result_MF.csv')\n",
    "data = data.drop(columns=['r2_train'])\n",
    "\n",
    "data_max = data.max()\n",
    "data_mean = data.mean()\n",
    "data_std = data.std(ddof=0)\n",
    "\n",
    "print('XGB/MF')\n",
    "print('max:')\n",
    "print(data_max)\n",
    "print('mean:')\n",
    "print(data_mean)\n",
    "print('std:')\n",
    "print(data_std)"
   ]
  },
  {
   "cell_type": "code",
   "execution_count": 34,
   "id": "9de667a6",
   "metadata": {},
   "outputs": [
    {
     "name": "stdout",
     "output_type": "stream",
     "text": [
      "XGB/RDKit_pca\n",
      "max:\n",
      "r2_test    0.615273\n",
      "dtype: float64\n",
      "mean:\n",
      "r2_test    0.334798\n",
      "dtype: float64\n",
      "std:\n",
      "r2_test    0.164772\n",
      "dtype: float64\n"
     ]
    }
   ],
   "source": [
    "data = pd.read_csv('XGB/wo_target_training/result/result_RDKit_pca.csv')\n",
    "data = data.drop(columns=['r2_train'])\n",
    "\n",
    "data_max = data.max()\n",
    "data_mean = data.mean()\n",
    "data_std = data.std(ddof=0)\n",
    "\n",
    "print('XGB/RDKit_pca')\n",
    "print('max:')\n",
    "print(data_max)\n",
    "print('mean:')\n",
    "print(data_mean)\n",
    "print('std:')\n",
    "print(data_std)"
   ]
  },
  {
   "cell_type": "code",
   "execution_count": 35,
   "id": "752ad831",
   "metadata": {},
   "outputs": [
    {
     "name": "stdout",
     "output_type": "stream",
     "text": [
      "XGB/MK_pca\n",
      "max:\n",
      "r2_test    0.568085\n",
      "dtype: float64\n",
      "mean:\n",
      "r2_test    0.282233\n",
      "dtype: float64\n",
      "std:\n",
      "r2_test    0.185523\n",
      "dtype: float64\n"
     ]
    }
   ],
   "source": [
    "data = pd.read_csv('XGB/wo_target_training/result/result_MK_pca.csv')\n",
    "data = data.drop(columns=['r2_train'])\n",
    "\n",
    "data_max = data.max()\n",
    "data_mean = data.mean()\n",
    "data_std = data.std(ddof=0)\n",
    "\n",
    "print('XGB/MK_pca')\n",
    "print('max:')\n",
    "print(data_max)\n",
    "print('mean:')\n",
    "print(data_mean)\n",
    "print('std:')\n",
    "print(data_std)"
   ]
  },
  {
   "cell_type": "code",
   "execution_count": 36,
   "id": "d1412bce",
   "metadata": {},
   "outputs": [
    {
     "name": "stdout",
     "output_type": "stream",
     "text": [
      "XGB/Mordred_pca\n",
      "max:\n",
      "r2_test    0.640986\n",
      "dtype: float64\n",
      "mean:\n",
      "r2_test    0.40478\n",
      "dtype: float64\n",
      "std:\n",
      "r2_test    0.156684\n",
      "dtype: float64\n"
     ]
    }
   ],
   "source": [
    "data = pd.read_csv('XGB/wo_target_training/result/result_Mordred_pca.csv')\n",
    "data = data.drop(columns=['r2_train'])\n",
    "\n",
    "data_max = data.max()\n",
    "data_mean = data.mean()\n",
    "data_std = data.std(ddof=0)\n",
    "\n",
    "print('XGB/Mordred_pca')\n",
    "print('max:')\n",
    "print(data_max)\n",
    "print('mean:')\n",
    "print(data_mean)\n",
    "print('std:')\n",
    "print(data_std)"
   ]
  },
  {
   "cell_type": "code",
   "execution_count": 37,
   "id": "52e94900",
   "metadata": {},
   "outputs": [
    {
     "name": "stdout",
     "output_type": "stream",
     "text": [
      "XGB/MF_pca\n",
      "max:\n",
      "r2_test    0.576586\n",
      "dtype: float64\n",
      "mean:\n",
      "r2_test    0.408054\n",
      "dtype: float64\n",
      "std:\n",
      "r2_test    0.11431\n",
      "dtype: float64\n"
     ]
    }
   ],
   "source": [
    "data = pd.read_csv('XGB/wo_target_training/result/result_MF_pca.csv')\n",
    "data = data.drop(columns=['r2_train'])\n",
    "\n",
    "data_max = data.max()\n",
    "data_mean = data.mean()\n",
    "data_std = data.std(ddof=0)\n",
    "\n",
    "print('XGB/MF_pca')\n",
    "print('max:')\n",
    "print(data_max)\n",
    "print('mean:')\n",
    "print(data_mean)\n",
    "print('std:')\n",
    "print(data_std)"
   ]
  },
  {
   "cell_type": "code",
   "execution_count": null,
   "id": "a5c73a05",
   "metadata": {},
   "outputs": [],
   "source": []
  }
 ],
 "metadata": {
  "kernelspec": {
   "display_name": "Python 3 (ipykernel)",
   "language": "python",
   "name": "python3"
  },
  "language_info": {
   "codemirror_mode": {
    "name": "ipython",
    "version": 3
   },
   "file_extension": ".py",
   "mimetype": "text/x-python",
   "name": "python",
   "nbconvert_exporter": "python",
   "pygments_lexer": "ipython3",
   "version": "3.7.16"
  }
 },
 "nbformat": 4,
 "nbformat_minor": 5
}
