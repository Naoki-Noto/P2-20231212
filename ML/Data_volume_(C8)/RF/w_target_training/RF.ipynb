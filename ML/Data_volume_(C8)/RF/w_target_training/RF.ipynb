{
 "cells": [
  {
   "cell_type": "code",
   "execution_count": 1,
   "id": "56b7d500",
   "metadata": {},
   "outputs": [],
   "source": [
    "import pandas as pd\n",
    "from sklearn.model_selection import train_test_split\n",
    "from sklearn.model_selection import GridSearchCV\n",
    "from sklearn.ensemble import RandomForestRegressor\n",
    "from sklearn import metrics"
   ]
  },
  {
   "cell_type": "code",
   "execution_count": 2,
   "id": "99c4a1c4",
   "metadata": {
    "scrolled": false
   },
   "outputs": [],
   "source": [
    "for dataset in ['DFT', 'MF_pca', 'MK_pca', 'RDKit_pca', 'mordred_pca', 'MF', 'MK', 'RDKit', 'mordred']:\n",
    "    data = pd.read_csv(f'data/data_{dataset}.csv')\n",
    "    y = pd.DataFrame(data['Yield'],columns=['Yield'])\n",
    "    X = data.drop(columns=['Name', 'ID', 'Yield'])\n",
    "    \n",
    "    data_s = pd.read_csv(f'data/data_{dataset}_ALL.csv')\n",
    "    y_s = pd.DataFrame(data_s['Yield'],columns=['Yield'])\n",
    "    X_s = data_s.drop(columns=['Name', 'ID', 'Yield'])\n",
    "\n",
    "    r2_train = []\n",
    "    r2_test = []\n",
    "    for i in range(100):\n",
    "        X_train, X_test, y_train, y_test = train_test_split(X, y, test_size=0.5, random_state=i)\n",
    "        X_s_train = pd.concat((X_s, X_train))\n",
    "        y_s_train = pd.concat((y_s, y_train))\n",
    "        param = {\"n_estimators\": [100, 1000, 5000], \"max_depth\": [5, 7, 9]}\n",
    "        reg = GridSearchCV(RandomForestRegressor(random_state=0), param_grid=param, cv=5, n_jobs=16)\n",
    "        reg.fit(X_s_train,y_s_train['Yield'])\n",
    "        best = reg.best_estimator_\n",
    "        y_pred1 = best.predict(X_s_train)\n",
    "        y_pred2 = best.predict(X_test)\n",
    "        r2_train.append(metrics.r2_score(y_s_train, y_pred1))\n",
    "        r2_test.append(metrics.r2_score(y_test, y_pred2))\n",
    "\n",
    "    r2_train = pd.DataFrame(data=r2_train, columns=['r2_train'])\n",
    "    r2_test = pd.DataFrame(data=r2_test, columns=['r2_test'])\n",
    "    result = pd.concat([r2_train, r2_test], axis=1, join='inner')\n",
    "    result.to_csv(f'result/result_{dataset}.csv', index = False)"
   ]
  },
  {
   "cell_type": "code",
   "execution_count": 3,
   "id": "a0983bb5",
   "metadata": {},
   "outputs": [
    {
     "name": "stdout",
     "output_type": "stream",
     "text": [
      "Dataset: DFT\n",
      "r2_train    0.699841\n",
      "r2_test     0.426143\n",
      "dtype: float64\n",
      "=======================\n",
      "Dataset: MF_pca\n",
      "r2_train    0.746696\n",
      "r2_test     0.464530\n",
      "dtype: float64\n",
      "=======================\n",
      "Dataset: MK_pca\n",
      "r2_train    0.707149\n",
      "r2_test     0.389849\n",
      "dtype: float64\n",
      "=======================\n",
      "Dataset: RDKit_pca\n",
      "r2_train    0.720467\n",
      "r2_test     0.403054\n",
      "dtype: float64\n",
      "=======================\n",
      "Dataset: mordred_pca\n",
      "r2_train    0.673186\n",
      "r2_test     0.398831\n",
      "dtype: float64\n",
      "=======================\n",
      "Dataset: MF\n",
      "r2_train    0.733503\n",
      "r2_test     0.415503\n",
      "dtype: float64\n",
      "=======================\n",
      "Dataset: MK\n",
      "r2_train    0.706486\n",
      "r2_test     0.354684\n",
      "dtype: float64\n",
      "=======================\n",
      "Dataset: RDKit\n",
      "r2_train    0.764238\n",
      "r2_test     0.400452\n",
      "dtype: float64\n",
      "=======================\n",
      "Dataset: mordred\n",
      "r2_train    0.776819\n",
      "r2_test     0.435351\n",
      "dtype: float64\n",
      "=======================\n"
     ]
    }
   ],
   "source": [
    "for re in['DFT', 'MF_pca', 'MK_pca', 'RDKit_pca', 'mordred_pca', 'MF', 'MK', 'RDKit', 'mordred']:\n",
    "    res = pd.read_csv(f'result/result_{re}.csv')\n",
    "    print(f'Dataset: {re}')\n",
    "    print(res.mean())\n",
    "    print('=======================')"
   ]
  },
  {
   "cell_type": "code",
   "execution_count": null,
   "id": "49b45f09",
   "metadata": {},
   "outputs": [],
   "source": []
  }
 ],
 "metadata": {
  "kernelspec": {
   "display_name": "Python 3 (ipykernel)",
   "language": "python",
   "name": "python3"
  },
  "language_info": {
   "codemirror_mode": {
    "name": "ipython",
    "version": 3
   },
   "file_extension": ".py",
   "mimetype": "text/x-python",
   "name": "python",
   "nbconvert_exporter": "python",
   "pygments_lexer": "ipython3",
   "version": "3.7.16"
  }
 },
 "nbformat": 4,
 "nbformat_minor": 5
}
