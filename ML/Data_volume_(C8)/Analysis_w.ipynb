{
 "cells": [
  {
   "cell_type": "code",
   "execution_count": 1,
   "id": "cba77f10",
   "metadata": {},
   "outputs": [],
   "source": [
    "import pandas as pd"
   ]
  },
  {
   "cell_type": "code",
   "execution_count": 2,
   "id": "74cf35fe",
   "metadata": {},
   "outputs": [
    {
     "name": "stdout",
     "output_type": "stream",
     "text": [
      "Lasso/DFT\n",
      "max:\n",
      "r2_test    0.313662\n",
      "dtype: float64\n",
      "mean:\n",
      "r2_test    0.052149\n",
      "dtype: float64\n",
      "std:\n",
      "r2_test    0.129565\n",
      "dtype: float64\n"
     ]
    }
   ],
   "source": [
    "data = pd.read_csv('Lasso/w_target_training/result/result_DFT.csv')\n",
    "data = data.drop(columns=['r2_train'])\n",
    "\n",
    "data_max = data.max()\n",
    "data_mean = data.mean()\n",
    "data_std = data.std(ddof=0)\n",
    "\n",
    "print('Lasso/DFT')\n",
    "print('max:')\n",
    "print(data_max)\n",
    "print('mean:')\n",
    "print(data_mean)\n",
    "print('std:')\n",
    "print(data_std)"
   ]
  },
  {
   "cell_type": "code",
   "execution_count": 3,
   "id": "85be9e5e",
   "metadata": {},
   "outputs": [
    {
     "name": "stdout",
     "output_type": "stream",
     "text": [
      "Lasso/RDKit\n",
      "max:\n",
      "r2_test    0.604614\n",
      "dtype: float64\n",
      "mean:\n",
      "r2_test    0.38997\n",
      "dtype: float64\n",
      "std:\n",
      "r2_test    0.141741\n",
      "dtype: float64\n"
     ]
    }
   ],
   "source": [
    "data = pd.read_csv('Lasso/w_target_training/result/result_RDKit.csv')\n",
    "data = data.drop(columns=['r2_train'])\n",
    "\n",
    "data_max = data.max()\n",
    "data_mean = data.mean()\n",
    "data_std = data.std(ddof=0)\n",
    "\n",
    "print('Lasso/RDKit')\n",
    "print('max:')\n",
    "print(data_max)\n",
    "print('mean:')\n",
    "print(data_mean)\n",
    "print('std:')\n",
    "print(data_std)"
   ]
  },
  {
   "cell_type": "code",
   "execution_count": 4,
   "id": "d892b4e5",
   "metadata": {},
   "outputs": [
    {
     "name": "stdout",
     "output_type": "stream",
     "text": [
      "Lasso/MK\n",
      "max:\n",
      "r2_test    0.550981\n",
      "dtype: float64\n",
      "mean:\n",
      "r2_test    0.317552\n",
      "dtype: float64\n",
      "std:\n",
      "r2_test    0.157452\n",
      "dtype: float64\n"
     ]
    }
   ],
   "source": [
    "data = pd.read_csv('Lasso/w_target_training/result/result_MK.csv')\n",
    "data = data.drop(columns=['r2_train'])\n",
    "\n",
    "data_max = data.max()\n",
    "data_mean = data.mean()\n",
    "data_std = data.std(ddof=0)\n",
    "\n",
    "print('Lasso/MK')\n",
    "print('max:')\n",
    "print(data_max)\n",
    "print('mean:')\n",
    "print(data_mean)\n",
    "print('std:')\n",
    "print(data_std)"
   ]
  },
  {
   "cell_type": "code",
   "execution_count": 5,
   "id": "ac635b5f",
   "metadata": {},
   "outputs": [
    {
     "name": "stdout",
     "output_type": "stream",
     "text": [
      "Lasso/Mordred\n",
      "max:\n",
      "r2_test    0.65651\n",
      "dtype: float64\n",
      "mean:\n",
      "r2_test    0.446085\n",
      "dtype: float64\n",
      "std:\n",
      "r2_test    0.134782\n",
      "dtype: float64\n"
     ]
    }
   ],
   "source": [
    "data = pd.read_csv('Lasso/w_target_training/result/result_Mordred.csv')\n",
    "data = data.drop(columns=['r2_train'])\n",
    "\n",
    "data_max = data.max()\n",
    "data_mean = data.mean()\n",
    "data_std = data.std(ddof=0)\n",
    "\n",
    "print('Lasso/Mordred')\n",
    "print('max:')\n",
    "print(data_max)\n",
    "print('mean:')\n",
    "print(data_mean)\n",
    "print('std:')\n",
    "print(data_std)"
   ]
  },
  {
   "cell_type": "code",
   "execution_count": 6,
   "id": "01a0c940",
   "metadata": {},
   "outputs": [
    {
     "name": "stdout",
     "output_type": "stream",
     "text": [
      "Lasso/MF\n",
      "max:\n",
      "r2_test    0.622611\n",
      "dtype: float64\n",
      "mean:\n",
      "r2_test    0.409226\n",
      "dtype: float64\n",
      "std:\n",
      "r2_test    0.142433\n",
      "dtype: float64\n"
     ]
    }
   ],
   "source": [
    "data = pd.read_csv('Lasso/w_target_training/result/result_MF.csv')\n",
    "data = data.drop(columns=['r2_train'])\n",
    "\n",
    "data_max = data.max()\n",
    "data_mean = data.mean()\n",
    "data_std = data.std(ddof=0)\n",
    "\n",
    "print('Lasso/MF')\n",
    "print('max:')\n",
    "print(data_max)\n",
    "print('mean:')\n",
    "print(data_mean)\n",
    "print('std:')\n",
    "print(data_std)"
   ]
  },
  {
   "cell_type": "code",
   "execution_count": 7,
   "id": "ef1423b8",
   "metadata": {},
   "outputs": [
    {
     "name": "stdout",
     "output_type": "stream",
     "text": [
      "Lasso/RDKit_pca\n",
      "max:\n",
      "r2_test    0.543759\n",
      "dtype: float64\n",
      "mean:\n",
      "r2_test    0.311394\n",
      "dtype: float64\n",
      "std:\n",
      "r2_test    0.129227\n",
      "dtype: float64\n"
     ]
    }
   ],
   "source": [
    "data = pd.read_csv('Lasso/w_target_training/result/result_RDKit_pca.csv')\n",
    "data = data.drop(columns=['r2_train'])\n",
    "\n",
    "data_max = data.max()\n",
    "data_mean = data.mean()\n",
    "data_std = data.std(ddof=0)\n",
    "\n",
    "print('Lasso/RDKit_pca')\n",
    "print('max:')\n",
    "print(data_max)\n",
    "print('mean:')\n",
    "print(data_mean)\n",
    "print('std:')\n",
    "print(data_std)"
   ]
  },
  {
   "cell_type": "code",
   "execution_count": 8,
   "id": "57712ed3",
   "metadata": {},
   "outputs": [
    {
     "name": "stdout",
     "output_type": "stream",
     "text": [
      "Lasso/MK_pca\n",
      "max:\n",
      "r2_test    0.532318\n",
      "dtype: float64\n",
      "mean:\n",
      "r2_test    0.291676\n",
      "dtype: float64\n",
      "std:\n",
      "r2_test    0.129092\n",
      "dtype: float64\n"
     ]
    }
   ],
   "source": [
    "data = pd.read_csv('Lasso/w_target_training/result/result_MK_pca.csv')\n",
    "data = data.drop(columns=['r2_train'])\n",
    "\n",
    "data_max = data.max()\n",
    "data_mean = data.mean()\n",
    "data_std = data.std(ddof=0)\n",
    "\n",
    "print('Lasso/MK_pca')\n",
    "print('max:')\n",
    "print(data_max)\n",
    "print('mean:')\n",
    "print(data_mean)\n",
    "print('std:')\n",
    "print(data_std)"
   ]
  },
  {
   "cell_type": "code",
   "execution_count": 9,
   "id": "a7241c29",
   "metadata": {},
   "outputs": [
    {
     "name": "stdout",
     "output_type": "stream",
     "text": [
      "Lasso/Mordred_pca\n",
      "max:\n",
      "r2_test    0.367461\n",
      "dtype: float64\n",
      "mean:\n",
      "r2_test    0.177305\n",
      "dtype: float64\n",
      "std:\n",
      "r2_test    0.135613\n",
      "dtype: float64\n"
     ]
    }
   ],
   "source": [
    "data = pd.read_csv('Lasso/w_target_training/result/result_Mordred_pca.csv')\n",
    "data = data.drop(columns=['r2_train'])\n",
    "\n",
    "data_max = data.max()\n",
    "data_mean = data.mean()\n",
    "data_std = data.std(ddof=0)\n",
    "\n",
    "print('Lasso/Mordred_pca')\n",
    "print('max:')\n",
    "print(data_max)\n",
    "print('mean:')\n",
    "print(data_mean)\n",
    "print('std:')\n",
    "print(data_std)"
   ]
  },
  {
   "cell_type": "code",
   "execution_count": 10,
   "id": "c3d2e466",
   "metadata": {},
   "outputs": [
    {
     "name": "stdout",
     "output_type": "stream",
     "text": [
      "Lasso/MF_pca\n",
      "max:\n",
      "r2_test    0.549196\n",
      "dtype: float64\n",
      "mean:\n",
      "r2_test    0.345462\n",
      "dtype: float64\n",
      "std:\n",
      "r2_test    0.123402\n",
      "dtype: float64\n"
     ]
    }
   ],
   "source": [
    "data = pd.read_csv('Lasso/w_target_training/result/result_MF_pca.csv')\n",
    "data = data.drop(columns=['r2_train'])\n",
    "\n",
    "data_max = data.max()\n",
    "data_mean = data.mean()\n",
    "data_std = data.std(ddof=0)\n",
    "\n",
    "print('Lasso/MF_pca')\n",
    "print('max:')\n",
    "print(data_max)\n",
    "print('mean:')\n",
    "print(data_mean)\n",
    "print('std:')\n",
    "print(data_std)"
   ]
  },
  {
   "cell_type": "code",
   "execution_count": 11,
   "id": "bb1fad77",
   "metadata": {},
   "outputs": [
    {
     "name": "stdout",
     "output_type": "stream",
     "text": [
      "SVM/DFT\n",
      "max:\n",
      "r2_test    0.487641\n",
      "dtype: float64\n",
      "mean:\n",
      "r2_test    0.296002\n",
      "dtype: float64\n",
      "std:\n",
      "r2_test    0.111709\n",
      "dtype: float64\n"
     ]
    }
   ],
   "source": [
    "data = pd.read_csv('SVM/w_target_training/result/result_DFT.csv')\n",
    "data = data.drop(columns=['r2_train'])\n",
    "\n",
    "data_max = data.max()\n",
    "data_mean = data.mean()\n",
    "data_std = data.std(ddof=0)\n",
    "\n",
    "print('SVM/DFT')\n",
    "print('max:')\n",
    "print(data_max)\n",
    "print('mean:')\n",
    "print(data_mean)\n",
    "print('std:')\n",
    "print(data_std)"
   ]
  },
  {
   "cell_type": "code",
   "execution_count": 12,
   "id": "47dd0115",
   "metadata": {},
   "outputs": [
    {
     "name": "stdout",
     "output_type": "stream",
     "text": [
      "SVM/RDKit\n",
      "max:\n",
      "r2_test    0.646105\n",
      "dtype: float64\n",
      "mean:\n",
      "r2_test    0.417936\n",
      "dtype: float64\n",
      "std:\n",
      "r2_test    0.126422\n",
      "dtype: float64\n"
     ]
    }
   ],
   "source": [
    "data = pd.read_csv('SVM/w_target_training/result/result_RDKit.csv')\n",
    "data = data.drop(columns=['r2_train'])\n",
    "\n",
    "data_max = data.max()\n",
    "data_mean = data.mean()\n",
    "data_std = data.std(ddof=0)\n",
    "\n",
    "print('SVM/RDKit')\n",
    "print('max:')\n",
    "print(data_max)\n",
    "print('mean:')\n",
    "print(data_mean)\n",
    "print('std:')\n",
    "print(data_std)"
   ]
  },
  {
   "cell_type": "code",
   "execution_count": 13,
   "id": "780e4c62",
   "metadata": {},
   "outputs": [
    {
     "name": "stdout",
     "output_type": "stream",
     "text": [
      "SVM/MK\n",
      "max:\n",
      "r2_test    0.583901\n",
      "dtype: float64\n",
      "mean:\n",
      "r2_test    0.305889\n",
      "dtype: float64\n",
      "std:\n",
      "r2_test    0.186057\n",
      "dtype: float64\n"
     ]
    }
   ],
   "source": [
    "data = pd.read_csv('SVM/w_target_training/result/result_MK.csv')\n",
    "data = data.drop(columns=['r2_train'])\n",
    "\n",
    "data_max = data.max()\n",
    "data_mean = data.mean()\n",
    "data_std = data.std(ddof=0)\n",
    "\n",
    "print('SVM/MK')\n",
    "print('max:')\n",
    "print(data_max)\n",
    "print('mean:')\n",
    "print(data_mean)\n",
    "print('std:')\n",
    "print(data_std)"
   ]
  },
  {
   "cell_type": "code",
   "execution_count": 14,
   "id": "9a2d8d02",
   "metadata": {},
   "outputs": [
    {
     "name": "stdout",
     "output_type": "stream",
     "text": [
      "SVM/Mordred\n",
      "max:\n",
      "r2_test    0.560056\n",
      "dtype: float64\n",
      "mean:\n",
      "r2_test    0.368733\n",
      "dtype: float64\n",
      "std:\n",
      "r2_test    0.136608\n",
      "dtype: float64\n"
     ]
    }
   ],
   "source": [
    "data = pd.read_csv('SVM/w_target_training/result/result_Mordred.csv')\n",
    "data = data.drop(columns=['r2_train'])\n",
    "\n",
    "data_max = data.max()\n",
    "data_mean = data.mean()\n",
    "data_std = data.std(ddof=0)\n",
    "\n",
    "print('SVM/Mordred')\n",
    "print('max:')\n",
    "print(data_max)\n",
    "print('mean:')\n",
    "print(data_mean)\n",
    "print('std:')\n",
    "print(data_std)"
   ]
  },
  {
   "cell_type": "code",
   "execution_count": 15,
   "id": "5f6851d7",
   "metadata": {},
   "outputs": [
    {
     "name": "stdout",
     "output_type": "stream",
     "text": [
      "SVM/MF\n",
      "max:\n",
      "r2_test    0.585463\n",
      "dtype: float64\n",
      "mean:\n",
      "r2_test    0.404835\n",
      "dtype: float64\n",
      "std:\n",
      "r2_test    0.110487\n",
      "dtype: float64\n"
     ]
    }
   ],
   "source": [
    "data = pd.read_csv('SVM/w_target_training/result/result_MF.csv')\n",
    "data = data.drop(columns=['r2_train'])\n",
    "\n",
    "data_max = data.max()\n",
    "data_mean = data.mean()\n",
    "data_std = data.std(ddof=0)\n",
    "\n",
    "print('SVM/MF')\n",
    "print('max:')\n",
    "print(data_max)\n",
    "print('mean:')\n",
    "print(data_mean)\n",
    "print('std:')\n",
    "print(data_std)"
   ]
  },
  {
   "cell_type": "code",
   "execution_count": 16,
   "id": "7040f4cc",
   "metadata": {},
   "outputs": [
    {
     "name": "stdout",
     "output_type": "stream",
     "text": [
      "SVM/RDKit_pca\n",
      "max:\n",
      "r2_test    0.540325\n",
      "dtype: float64\n",
      "mean:\n",
      "r2_test    0.255036\n",
      "dtype: float64\n",
      "std:\n",
      "r2_test    0.196042\n",
      "dtype: float64\n"
     ]
    }
   ],
   "source": [
    "data = pd.read_csv('SVM/w_target_training/result/result_RDKit_pca.csv')\n",
    "data = data.drop(columns=['r2_train'])\n",
    "\n",
    "data_max = data.max()\n",
    "data_mean = data.mean()\n",
    "data_std = data.std(ddof=0)\n",
    "\n",
    "print('SVM/RDKit_pca')\n",
    "print('max:')\n",
    "print(data_max)\n",
    "print('mean:')\n",
    "print(data_mean)\n",
    "print('std:')\n",
    "print(data_std)"
   ]
  },
  {
   "cell_type": "code",
   "execution_count": 17,
   "id": "8b1a7c21",
   "metadata": {},
   "outputs": [
    {
     "name": "stdout",
     "output_type": "stream",
     "text": [
      "SVM/MK_pca\n",
      "max:\n",
      "r2_test    0.472206\n",
      "dtype: float64\n",
      "mean:\n",
      "r2_test   -0.176988\n",
      "dtype: float64\n",
      "std:\n",
      "r2_test    0.425541\n",
      "dtype: float64\n"
     ]
    }
   ],
   "source": [
    "data = pd.read_csv('SVM/w_target_training/result/result_MK_pca.csv')\n",
    "data = data.drop(columns=['r2_train'])\n",
    "\n",
    "data_max = data.max()\n",
    "data_mean = data.mean()\n",
    "data_std = data.std(ddof=0)\n",
    "\n",
    "print('SVM/MK_pca')\n",
    "print('max:')\n",
    "print(data_max)\n",
    "print('mean:')\n",
    "print(data_mean)\n",
    "print('std:')\n",
    "print(data_std)"
   ]
  },
  {
   "cell_type": "code",
   "execution_count": 18,
   "id": "48689902",
   "metadata": {},
   "outputs": [
    {
     "name": "stdout",
     "output_type": "stream",
     "text": [
      "SVM/Mordred_pca\n",
      "max:\n",
      "r2_test    0.408596\n",
      "dtype: float64\n",
      "mean:\n",
      "r2_test    0.058099\n",
      "dtype: float64\n",
      "std:\n",
      "r2_test    0.24856\n",
      "dtype: float64\n"
     ]
    }
   ],
   "source": [
    "data = pd.read_csv('SVM/w_target_training/result/result_Mordred_pca.csv')\n",
    "data = data.drop(columns=['r2_train'])\n",
    "\n",
    "data_max = data.max()\n",
    "data_mean = data.mean()\n",
    "data_std = data.std(ddof=0)\n",
    "\n",
    "print('SVM/Mordred_pca')\n",
    "print('max:')\n",
    "print(data_max)\n",
    "print('mean:')\n",
    "print(data_mean)\n",
    "print('std:')\n",
    "print(data_std)"
   ]
  },
  {
   "cell_type": "code",
   "execution_count": 19,
   "id": "ba0aeccc",
   "metadata": {},
   "outputs": [
    {
     "name": "stdout",
     "output_type": "stream",
     "text": [
      "SVM/MF_pca\n",
      "max:\n",
      "r2_test    0.604063\n",
      "dtype: float64\n",
      "mean:\n",
      "r2_test    0.371424\n",
      "dtype: float64\n",
      "std:\n",
      "r2_test    0.129134\n",
      "dtype: float64\n"
     ]
    }
   ],
   "source": [
    "data = pd.read_csv('SVM/w_target_training/result/result_MF_pca.csv')\n",
    "data = data.drop(columns=['r2_train'])\n",
    "\n",
    "data_max = data.max()\n",
    "data_mean = data.mean()\n",
    "data_std = data.std(ddof=0)\n",
    "\n",
    "print('SVM/MF_pca')\n",
    "print('max:')\n",
    "print(data_max)\n",
    "print('mean:')\n",
    "print(data_mean)\n",
    "print('std:')\n",
    "print(data_std)"
   ]
  },
  {
   "cell_type": "code",
   "execution_count": 20,
   "id": "a8aebb86",
   "metadata": {},
   "outputs": [
    {
     "name": "stdout",
     "output_type": "stream",
     "text": [
      "RF/DFT\n",
      "max:\n",
      "r2_test    0.687156\n",
      "dtype: float64\n",
      "mean:\n",
      "r2_test    0.426143\n",
      "dtype: float64\n",
      "std:\n",
      "r2_test    0.135856\n",
      "dtype: float64\n"
     ]
    }
   ],
   "source": [
    "data = pd.read_csv('RF/w_target_training/result/result_DFT.csv')\n",
    "data = data.drop(columns=['r2_train'])\n",
    "\n",
    "data_max = data.max()\n",
    "data_mean = data.mean()\n",
    "data_std = data.std(ddof=0)\n",
    "\n",
    "print('RF/DFT')\n",
    "print('max:')\n",
    "print(data_max)\n",
    "print('mean:')\n",
    "print(data_mean)\n",
    "print('std:')\n",
    "print(data_std)"
   ]
  },
  {
   "cell_type": "code",
   "execution_count": 21,
   "id": "25c9bbe5",
   "metadata": {},
   "outputs": [
    {
     "name": "stdout",
     "output_type": "stream",
     "text": [
      "RF/RDKit\n",
      "max:\n",
      "r2_test    0.669403\n",
      "dtype: float64\n",
      "mean:\n",
      "r2_test    0.400452\n",
      "dtype: float64\n",
      "std:\n",
      "r2_test    0.171169\n",
      "dtype: float64\n"
     ]
    }
   ],
   "source": [
    "data = pd.read_csv('RF/w_target_training/result/result_RDKit.csv')\n",
    "data = data.drop(columns=['r2_train'])\n",
    "\n",
    "data_max = data.max()\n",
    "data_mean = data.mean()\n",
    "data_std = data.std(ddof=0)\n",
    "\n",
    "print('RF/RDKit')\n",
    "print('max:')\n",
    "print(data_max)\n",
    "print('mean:')\n",
    "print(data_mean)\n",
    "print('std:')\n",
    "print(data_std)"
   ]
  },
  {
   "cell_type": "code",
   "execution_count": 22,
   "id": "6ed92282",
   "metadata": {},
   "outputs": [
    {
     "name": "stdout",
     "output_type": "stream",
     "text": [
      "RF/MK\n",
      "max:\n",
      "r2_test    0.592341\n",
      "dtype: float64\n",
      "mean:\n",
      "r2_test    0.354684\n",
      "dtype: float64\n",
      "std:\n",
      "r2_test    0.153022\n",
      "dtype: float64\n"
     ]
    }
   ],
   "source": [
    "data = pd.read_csv('RF/w_target_training/result/result_MK.csv')\n",
    "data = data.drop(columns=['r2_train'])\n",
    "\n",
    "data_max = data.max()\n",
    "data_mean = data.mean()\n",
    "data_std = data.std(ddof=0)\n",
    "\n",
    "print('RF/MK')\n",
    "print('max:')\n",
    "print(data_max)\n",
    "print('mean:')\n",
    "print(data_mean)\n",
    "print('std:')\n",
    "print(data_std)"
   ]
  },
  {
   "cell_type": "code",
   "execution_count": 23,
   "id": "41303d36",
   "metadata": {},
   "outputs": [
    {
     "name": "stdout",
     "output_type": "stream",
     "text": [
      "RF/Mordred\n",
      "max:\n",
      "r2_test    0.681956\n",
      "dtype: float64\n",
      "mean:\n",
      "r2_test    0.435351\n",
      "dtype: float64\n",
      "std:\n",
      "r2_test    0.166668\n",
      "dtype: float64\n"
     ]
    }
   ],
   "source": [
    "data = pd.read_csv('RF/w_target_training/result/result_Mordred.csv')\n",
    "data = data.drop(columns=['r2_train'])\n",
    "\n",
    "data_max = data.max()\n",
    "data_mean = data.mean()\n",
    "data_std = data.std(ddof=0)\n",
    "\n",
    "print('RF/Mordred')\n",
    "print('max:')\n",
    "print(data_max)\n",
    "print('mean:')\n",
    "print(data_mean)\n",
    "print('std:')\n",
    "print(data_std)"
   ]
  },
  {
   "cell_type": "code",
   "execution_count": 24,
   "id": "57c5404a",
   "metadata": {},
   "outputs": [
    {
     "name": "stdout",
     "output_type": "stream",
     "text": [
      "RF/MF\n",
      "max:\n",
      "r2_test    0.641447\n",
      "dtype: float64\n",
      "mean:\n",
      "r2_test    0.415503\n",
      "dtype: float64\n",
      "std:\n",
      "r2_test    0.151291\n",
      "dtype: float64\n"
     ]
    }
   ],
   "source": [
    "data = pd.read_csv('RF/w_target_training/result/result_MF.csv')\n",
    "data = data.drop(columns=['r2_train'])\n",
    "\n",
    "data_max = data.max()\n",
    "data_mean = data.mean()\n",
    "data_std = data.std(ddof=0)\n",
    "\n",
    "print('RF/MF')\n",
    "print('max:')\n",
    "print(data_max)\n",
    "print('mean:')\n",
    "print(data_mean)\n",
    "print('std:')\n",
    "print(data_std)"
   ]
  },
  {
   "cell_type": "code",
   "execution_count": 25,
   "id": "83b4020e",
   "metadata": {},
   "outputs": [
    {
     "name": "stdout",
     "output_type": "stream",
     "text": [
      "RF/RDKit_pca\n",
      "max:\n",
      "r2_test    0.637329\n",
      "dtype: float64\n",
      "mean:\n",
      "r2_test    0.403054\n",
      "dtype: float64\n",
      "std:\n",
      "r2_test    0.164201\n",
      "dtype: float64\n"
     ]
    }
   ],
   "source": [
    "data = pd.read_csv('RF/w_target_training/result/result_RDKit_pca.csv')\n",
    "data = data.drop(columns=['r2_train'])\n",
    "\n",
    "data_max = data.max()\n",
    "data_mean = data.mean()\n",
    "data_std = data.std(ddof=0)\n",
    "\n",
    "print('RF/RDKit_pca')\n",
    "print('max:')\n",
    "print(data_max)\n",
    "print('mean:')\n",
    "print(data_mean)\n",
    "print('std:')\n",
    "print(data_std)"
   ]
  },
  {
   "cell_type": "code",
   "execution_count": 26,
   "id": "d0c81abf",
   "metadata": {},
   "outputs": [
    {
     "name": "stdout",
     "output_type": "stream",
     "text": [
      "RF/MK_pca\n",
      "max:\n",
      "r2_test    0.625834\n",
      "dtype: float64\n",
      "mean:\n",
      "r2_test    0.389849\n",
      "dtype: float64\n",
      "std:\n",
      "r2_test    0.153364\n",
      "dtype: float64\n"
     ]
    }
   ],
   "source": [
    "data = pd.read_csv('RF/w_target_training/result/result_MK_pca.csv')\n",
    "data = data.drop(columns=['r2_train'])\n",
    "\n",
    "data_max = data.max()\n",
    "data_mean = data.mean()\n",
    "data_std = data.std(ddof=0)\n",
    "\n",
    "print('RF/MK_pca')\n",
    "print('max:')\n",
    "print(data_max)\n",
    "print('mean:')\n",
    "print(data_mean)\n",
    "print('std:')\n",
    "print(data_std)"
   ]
  },
  {
   "cell_type": "code",
   "execution_count": 27,
   "id": "2b02c54d",
   "metadata": {},
   "outputs": [
    {
     "name": "stdout",
     "output_type": "stream",
     "text": [
      "RF/Mordred_pca\n",
      "max:\n",
      "r2_test    0.616808\n",
      "dtype: float64\n",
      "mean:\n",
      "r2_test    0.398831\n",
      "dtype: float64\n",
      "std:\n",
      "r2_test    0.154749\n",
      "dtype: float64\n"
     ]
    }
   ],
   "source": [
    "data = pd.read_csv('RF/w_target_training/result/result_Mordred_pca.csv')\n",
    "data = data.drop(columns=['r2_train'])\n",
    "\n",
    "data_max = data.max()\n",
    "data_mean = data.mean()\n",
    "data_std = data.std(ddof=0)\n",
    "\n",
    "print('RF/Mordred_pca')\n",
    "print('max:')\n",
    "print(data_max)\n",
    "print('mean:')\n",
    "print(data_mean)\n",
    "print('std:')\n",
    "print(data_std)"
   ]
  },
  {
   "cell_type": "code",
   "execution_count": 28,
   "id": "27b8f1b8",
   "metadata": {},
   "outputs": [
    {
     "name": "stdout",
     "output_type": "stream",
     "text": [
      "RF/MF_pca\n",
      "max:\n",
      "r2_test    0.687161\n",
      "dtype: float64\n",
      "mean:\n",
      "r2_test    0.46453\n",
      "dtype: float64\n",
      "std:\n",
      "r2_test    0.154959\n",
      "dtype: float64\n"
     ]
    }
   ],
   "source": [
    "data = pd.read_csv('RF/w_target_training/result/result_MF_pca.csv')\n",
    "data = data.drop(columns=['r2_train'])\n",
    "\n",
    "data_max = data.max()\n",
    "data_mean = data.mean()\n",
    "data_std = data.std(ddof=0)\n",
    "\n",
    "print('RF/MF_pca')\n",
    "print('max:')\n",
    "print(data_max)\n",
    "print('mean:')\n",
    "print(data_mean)\n",
    "print('std:')\n",
    "print(data_std)"
   ]
  },
  {
   "cell_type": "code",
   "execution_count": 29,
   "id": "3a830d47",
   "metadata": {},
   "outputs": [
    {
     "name": "stdout",
     "output_type": "stream",
     "text": [
      "XGB/DFT\n",
      "max:\n",
      "r2_test    0.745577\n",
      "dtype: float64\n",
      "mean:\n",
      "r2_test    0.523226\n",
      "dtype: float64\n",
      "std:\n",
      "r2_test    0.126409\n",
      "dtype: float64\n"
     ]
    }
   ],
   "source": [
    "data = pd.read_csv('XGB/w_target_training/result/result_DFT.csv')\n",
    "data = data.drop(columns=['r2_train'])\n",
    "\n",
    "data_max = data.max()\n",
    "data_mean = data.mean()\n",
    "data_std = data.std(ddof=0)\n",
    "\n",
    "print('XGB/DFT')\n",
    "print('max:')\n",
    "print(data_max)\n",
    "print('mean:')\n",
    "print(data_mean)\n",
    "print('std:')\n",
    "print(data_std)"
   ]
  },
  {
   "cell_type": "code",
   "execution_count": 30,
   "id": "5f06849b",
   "metadata": {},
   "outputs": [
    {
     "name": "stdout",
     "output_type": "stream",
     "text": [
      "XGB/RDKit\n",
      "max:\n",
      "r2_test    0.574337\n",
      "dtype: float64\n",
      "mean:\n",
      "r2_test    0.419706\n",
      "dtype: float64\n",
      "std:\n",
      "r2_test    0.108215\n",
      "dtype: float64\n"
     ]
    }
   ],
   "source": [
    "data = pd.read_csv('XGB/w_target_training/result/result_RDKit.csv')\n",
    "data = data.drop(columns=['r2_train'])\n",
    "\n",
    "data_max = data.max()\n",
    "data_mean = data.mean()\n",
    "data_std = data.std(ddof=0)\n",
    "\n",
    "print('XGB/RDKit')\n",
    "print('max:')\n",
    "print(data_max)\n",
    "print('mean:')\n",
    "print(data_mean)\n",
    "print('std:')\n",
    "print(data_std)"
   ]
  },
  {
   "cell_type": "code",
   "execution_count": 31,
   "id": "f5ec0286",
   "metadata": {},
   "outputs": [
    {
     "name": "stdout",
     "output_type": "stream",
     "text": [
      "XGB/MK\n",
      "max:\n",
      "r2_test    0.553308\n",
      "dtype: float64\n",
      "mean:\n",
      "r2_test    0.369412\n",
      "dtype: float64\n",
      "std:\n",
      "r2_test    0.120149\n",
      "dtype: float64\n"
     ]
    }
   ],
   "source": [
    "data = pd.read_csv('XGB/w_target_training/result/result_MK.csv')\n",
    "data = data.drop(columns=['r2_train'])\n",
    "\n",
    "data_max = data.max()\n",
    "data_mean = data.mean()\n",
    "data_std = data.std(ddof=0)\n",
    "\n",
    "print('XGB/MK')\n",
    "print('max:')\n",
    "print(data_max)\n",
    "print('mean:')\n",
    "print(data_mean)\n",
    "print('std:')\n",
    "print(data_std)"
   ]
  },
  {
   "cell_type": "code",
   "execution_count": 32,
   "id": "91c5c584",
   "metadata": {},
   "outputs": [
    {
     "name": "stdout",
     "output_type": "stream",
     "text": [
      "XGB/Mordred\n",
      "max:\n",
      "r2_test    0.582928\n",
      "dtype: float64\n",
      "mean:\n",
      "r2_test    0.427865\n",
      "dtype: float64\n",
      "std:\n",
      "r2_test    0.106932\n",
      "dtype: float64\n"
     ]
    }
   ],
   "source": [
    "data = pd.read_csv('XGB/w_target_training/result/result_Mordred.csv')\n",
    "data = data.drop(columns=['r2_train'])\n",
    "\n",
    "data_max = data.max()\n",
    "data_mean = data.mean()\n",
    "data_std = data.std(ddof=0)\n",
    "\n",
    "print('XGB/Mordred')\n",
    "print('max:')\n",
    "print(data_max)\n",
    "print('mean:')\n",
    "print(data_mean)\n",
    "print('std:')\n",
    "print(data_std)"
   ]
  },
  {
   "cell_type": "code",
   "execution_count": 33,
   "id": "21354162",
   "metadata": {},
   "outputs": [
    {
     "name": "stdout",
     "output_type": "stream",
     "text": [
      "XGB/MF\n",
      "max:\n",
      "r2_test    0.614929\n",
      "dtype: float64\n",
      "mean:\n",
      "r2_test    0.471322\n",
      "dtype: float64\n",
      "std:\n",
      "r2_test    0.105362\n",
      "dtype: float64\n"
     ]
    }
   ],
   "source": [
    "data = pd.read_csv('XGB/w_target_training/result/result_MF.csv')\n",
    "data = data.drop(columns=['r2_train'])\n",
    "\n",
    "data_max = data.max()\n",
    "data_mean = data.mean()\n",
    "data_std = data.std(ddof=0)\n",
    "\n",
    "print('XGB/MF')\n",
    "print('max:')\n",
    "print(data_max)\n",
    "print('mean:')\n",
    "print(data_mean)\n",
    "print('std:')\n",
    "print(data_std)"
   ]
  },
  {
   "cell_type": "code",
   "execution_count": 34,
   "id": "9de667a6",
   "metadata": {},
   "outputs": [
    {
     "name": "stdout",
     "output_type": "stream",
     "text": [
      "XGB/RDKit_pca\n",
      "max:\n",
      "r2_test    0.545777\n",
      "dtype: float64\n",
      "mean:\n",
      "r2_test    0.41991\n",
      "dtype: float64\n",
      "std:\n",
      "r2_test    0.109985\n",
      "dtype: float64\n"
     ]
    }
   ],
   "source": [
    "data = pd.read_csv('XGB/w_target_training/result/result_RDKit_pca.csv')\n",
    "data = data.drop(columns=['r2_train'])\n",
    "\n",
    "data_max = data.max()\n",
    "data_mean = data.mean()\n",
    "data_std = data.std(ddof=0)\n",
    "\n",
    "print('XGB/RDKit_pca')\n",
    "print('max:')\n",
    "print(data_max)\n",
    "print('mean:')\n",
    "print(data_mean)\n",
    "print('std:')\n",
    "print(data_std)"
   ]
  },
  {
   "cell_type": "code",
   "execution_count": 35,
   "id": "752ad831",
   "metadata": {},
   "outputs": [
    {
     "name": "stdout",
     "output_type": "stream",
     "text": [
      "XGB/MK_pca\n",
      "max:\n",
      "r2_test    0.513945\n",
      "dtype: float64\n",
      "mean:\n",
      "r2_test    0.313867\n",
      "dtype: float64\n",
      "std:\n",
      "r2_test    0.181725\n",
      "dtype: float64\n"
     ]
    }
   ],
   "source": [
    "data = pd.read_csv('XGB/w_target_training/result/result_MK_pca.csv')\n",
    "data = data.drop(columns=['r2_train'])\n",
    "\n",
    "data_max = data.max()\n",
    "data_mean = data.mean()\n",
    "data_std = data.std(ddof=0)\n",
    "\n",
    "print('XGB/MK_pca')\n",
    "print('max:')\n",
    "print(data_max)\n",
    "print('mean:')\n",
    "print(data_mean)\n",
    "print('std:')\n",
    "print(data_std)"
   ]
  },
  {
   "cell_type": "code",
   "execution_count": 36,
   "id": "d1412bce",
   "metadata": {},
   "outputs": [
    {
     "name": "stdout",
     "output_type": "stream",
     "text": [
      "XGB/Mordred_pca\n",
      "max:\n",
      "r2_test    0.583464\n",
      "dtype: float64\n",
      "mean:\n",
      "r2_test    0.428557\n",
      "dtype: float64\n",
      "std:\n",
      "r2_test    0.089494\n",
      "dtype: float64\n"
     ]
    }
   ],
   "source": [
    "data = pd.read_csv('XGB/w_target_training/result/result_Mordred_pca.csv')\n",
    "data = data.drop(columns=['r2_train'])\n",
    "\n",
    "data_max = data.max()\n",
    "data_mean = data.mean()\n",
    "data_std = data.std(ddof=0)\n",
    "\n",
    "print('XGB/Mordred_pca')\n",
    "print('max:')\n",
    "print(data_max)\n",
    "print('mean:')\n",
    "print(data_mean)\n",
    "print('std:')\n",
    "print(data_std)"
   ]
  },
  {
   "cell_type": "code",
   "execution_count": 37,
   "id": "52e94900",
   "metadata": {},
   "outputs": [
    {
     "name": "stdout",
     "output_type": "stream",
     "text": [
      "XGB/MF_pca\n",
      "max:\n",
      "r2_test    0.566505\n",
      "dtype: float64\n",
      "mean:\n",
      "r2_test    0.435276\n",
      "dtype: float64\n",
      "std:\n",
      "r2_test    0.09717\n",
      "dtype: float64\n"
     ]
    }
   ],
   "source": [
    "data = pd.read_csv('XGB/w_target_training/result/result_MF_pca.csv')\n",
    "data = data.drop(columns=['r2_train'])\n",
    "\n",
    "data_max = data.max()\n",
    "data_mean = data.mean()\n",
    "data_std = data.std(ddof=0)\n",
    "\n",
    "print('XGB/MF_pca')\n",
    "print('max:')\n",
    "print(data_max)\n",
    "print('mean:')\n",
    "print(data_mean)\n",
    "print('std:')\n",
    "print(data_std)"
   ]
  },
  {
   "cell_type": "code",
   "execution_count": null,
   "id": "a5c73a05",
   "metadata": {},
   "outputs": [],
   "source": []
  }
 ],
 "metadata": {
  "kernelspec": {
   "display_name": "Python 3 (ipykernel)",
   "language": "python",
   "name": "python3"
  },
  "language_info": {
   "codemirror_mode": {
    "name": "ipython",
    "version": 3
   },
   "file_extension": ".py",
   "mimetype": "text/x-python",
   "name": "python",
   "nbconvert_exporter": "python",
   "pygments_lexer": "ipython3",
   "version": "3.7.16"
  }
 },
 "nbformat": 4,
 "nbformat_minor": 5
}
