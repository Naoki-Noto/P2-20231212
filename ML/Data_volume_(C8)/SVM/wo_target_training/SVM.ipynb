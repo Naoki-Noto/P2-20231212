{
 "cells": [
  {
   "cell_type": "code",
   "execution_count": 1,
   "id": "56b7d500",
   "metadata": {},
   "outputs": [],
   "source": [
    "import pandas as pd\n",
    "from sklearn.model_selection import train_test_split\n",
    "from sklearn.model_selection import GridSearchCV\n",
    "from sklearn.svm import SVR\n",
    "from sklearn import metrics\n",
    "from sklearn.preprocessing import StandardScaler"
   ]
  },
  {
   "cell_type": "code",
   "execution_count": 2,
   "id": "99c4a1c4",
   "metadata": {
    "scrolled": false
   },
   "outputs": [],
   "source": [
    "for dataset in ['DFT', 'MF_pca', 'MK_pca', 'RDKit_pca', 'mordred_pca', 'MF', 'MK', 'RDKit', 'mordred']:\n",
    "    data = pd.read_csv(f'data/data_{dataset}.csv')\n",
    "    y = pd.DataFrame(data['Yield'],columns=['Yield'])\n",
    "    X = data.drop(columns=['Name', 'ID', 'Yield'])\n",
    "    \n",
    "    data_s = pd.read_csv(f'data/data_{dataset}_ALL.csv')\n",
    "    y_s = pd.DataFrame(data_s['Yield'],columns=['Yield'])\n",
    "    X_s = data_s.drop(columns=['Name', 'ID', 'Yield'])\n",
    "    scaler = StandardScaler()\n",
    "    a_X_s = scaler.fit_transform(X_s)\n",
    "\n",
    "    r2_train = []\n",
    "    r2_test = []\n",
    "    for i in range(100):\n",
    "        X_train, X_test, y_train, y_test = train_test_split(X, y, test_size=0.5, random_state=i)\n",
    "        a_X_test = scaler.transform(X_test)\n",
    "        param = {'C':[0.01, 0.1, 0.5, 1, 5, 10, 50, 100, 500, 1000, 5000, 10000],\n",
    "             'gamma':[1e-07, 1e-06, 1e-05, 0.0001, 0.001, 0.005, 0.01, 0.05, 0.1, 0.5, 1, 10, 50, 100, 500, 1000],\n",
    "             'epsilon':[1e-05, 0.0001, 0.001, 0.005, 0.01, 0.05, 0.1, 0.5, 1, 10]}\n",
    "        reg = GridSearchCV(SVR(kernel='rbf'), param_grid=param, cv=5, n_jobs=16)\n",
    "        reg.fit(a_X_s,y_s['Yield'])\n",
    "        best = reg.best_estimator_\n",
    "        y_pred1 = best.predict(a_X_s)\n",
    "        y_pred2 = best.predict(a_X_test)\n",
    "        r2_train.append(metrics.r2_score(y_s, y_pred1))\n",
    "        r2_test.append(metrics.r2_score(y_test, y_pred2))  \n",
    "\n",
    "    r2_train = pd.DataFrame(data=r2_train, columns=['r2_train'])\n",
    "    r2_test = pd.DataFrame(data=r2_test, columns=['r2_test'])\n",
    "    result = pd.concat([r2_train, r2_test], axis=1, join='inner')\n",
    "    result.to_csv(f'result/result_{dataset}.csv', index = False)"
   ]
  },
  {
   "cell_type": "code",
   "execution_count": 3,
   "id": "a0983bb5",
   "metadata": {},
   "outputs": [
    {
     "name": "stdout",
     "output_type": "stream",
     "text": [
      "Dataset: DFT\n",
      "r2_train    0.597999\n",
      "r2_test    -0.191489\n",
      "dtype: float64\n",
      "=======================\n",
      "Dataset: MF_pca\n",
      "r2_train    0.858233\n",
      "r2_test     0.090725\n",
      "dtype: float64\n",
      "=======================\n",
      "Dataset: MK_pca\n",
      "r2_train    0.841092\n",
      "r2_test    -0.082867\n",
      "dtype: float64\n",
      "=======================\n",
      "Dataset: RDKit_pca\n",
      "r2_train    0.736656\n",
      "r2_test     0.177446\n",
      "dtype: float64\n",
      "=======================\n",
      "Dataset: mordred_pca\n",
      "r2_train    0.657696\n",
      "r2_test     0.255134\n",
      "dtype: float64\n",
      "=======================\n",
      "Dataset: MF\n",
      "r2_train    0.949745\n",
      "r2_test     0.213470\n",
      "dtype: float64\n",
      "=======================\n",
      "Dataset: MK\n",
      "r2_train    0.886483\n",
      "r2_test     0.043307\n",
      "dtype: float64\n",
      "=======================\n",
      "Dataset: RDKit\n",
      "r2_train    0.706579\n",
      "r2_test     0.278078\n",
      "dtype: float64\n",
      "=======================\n",
      "Dataset: mordred\n",
      "r2_train    0.775940\n",
      "r2_test     0.338605\n",
      "dtype: float64\n",
      "=======================\n"
     ]
    }
   ],
   "source": [
    "for re in['DFT', 'MF_pca', 'MK_pca', 'RDKit_pca', 'mordred_pca', 'MF', 'MK', 'RDKit', 'mordred']:\n",
    "    res = pd.read_csv(f'result/result_{re}.csv')\n",
    "    print(f'Dataset: {re}')\n",
    "    print(res.mean())\n",
    "    print('=======================')"
   ]
  },
  {
   "cell_type": "code",
   "execution_count": null,
   "id": "49b45f09",
   "metadata": {},
   "outputs": [],
   "source": []
  }
 ],
 "metadata": {
  "kernelspec": {
   "display_name": "Python 3 (ipykernel)",
   "language": "python",
   "name": "python3"
  },
  "language_info": {
   "codemirror_mode": {
    "name": "ipython",
    "version": 3
   },
   "file_extension": ".py",
   "mimetype": "text/x-python",
   "name": "python",
   "nbconvert_exporter": "python",
   "pygments_lexer": "ipython3",
   "version": "3.7.16"
  }
 },
 "nbformat": 4,
 "nbformat_minor": 5
}
