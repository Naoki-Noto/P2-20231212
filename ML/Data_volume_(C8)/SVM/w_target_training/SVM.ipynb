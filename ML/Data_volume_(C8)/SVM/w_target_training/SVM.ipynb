{
 "cells": [
  {
   "cell_type": "code",
   "execution_count": 1,
   "id": "56b7d500",
   "metadata": {},
   "outputs": [],
   "source": [
    "import pandas as pd\n",
    "from sklearn.model_selection import train_test_split\n",
    "from sklearn.model_selection import GridSearchCV\n",
    "from sklearn.svm import SVR\n",
    "from sklearn import metrics\n",
    "from sklearn.preprocessing import StandardScaler"
   ]
  },
  {
   "cell_type": "code",
   "execution_count": 2,
   "id": "99c4a1c4",
   "metadata": {
    "scrolled": false
   },
   "outputs": [],
   "source": [
    "for dataset in ['DFT', 'MF_pca', 'MK_pca', 'RDKit_pca', 'mordred_pca', 'MF', 'MK', 'RDKit', 'mordred']:\n",
    "    data = pd.read_csv(f'data/data_{dataset}.csv')\n",
    "    y = pd.DataFrame(data['Yield'],columns=['Yield'])\n",
    "    X = data.drop(columns=['Name', 'ID', 'Yield'])\n",
    "    \n",
    "    data_s = pd.read_csv(f'data/data_{dataset}_ALL.csv')\n",
    "    y_s = pd.DataFrame(data_s['Yield'],columns=['Yield'])\n",
    "    X_s = data_s.drop(columns=['Name', 'ID', 'Yield'])\n",
    "    scaler = StandardScaler()\n",
    "\n",
    "    r2_train = []\n",
    "    r2_test = []\n",
    "    for i in range(100):\n",
    "        X_train, X_test, y_train, y_test = train_test_split(X, y, test_size=0.5, random_state=i)\n",
    "        X_s_train = pd.concat((X_s, X_train))\n",
    "        y_s_train = pd.concat((y_s, y_train))\n",
    "        a_X_s_train = scaler.fit_transform(X_s_train)\n",
    "        a_X_test = scaler.transform(X_test)\n",
    "        param = {'C':[0.01, 0.1, 0.5, 1, 5, 10, 50, 100, 500, 1000, 5000, 10000],\n",
    "             'gamma':[1e-07, 1e-06, 1e-05, 0.0001, 0.001, 0.005, 0.01, 0.05, 0.1, 0.5, 1, 10, 50, 100, 500, 1000],\n",
    "             'epsilon':[1e-05, 0.0001, 0.001, 0.005, 0.01, 0.05, 0.1, 0.5, 1, 10]}\n",
    "        reg = GridSearchCV(SVR(kernel='rbf'), param_grid=param, cv=5, n_jobs=16)\n",
    "        reg.fit(a_X_s_train,y_s_train['Yield'])\n",
    "        best = reg.best_estimator_\n",
    "        y_pred1 = best.predict(a_X_s_train)\n",
    "        y_pred2 = best.predict(a_X_test)\n",
    "        r2_train.append(metrics.r2_score(y_s_train, y_pred1))\n",
    "        r2_test.append(metrics.r2_score(y_test, y_pred2))  \n",
    "\n",
    "    r2_train = pd.DataFrame(data=r2_train, columns=['r2_train'])\n",
    "    r2_test = pd.DataFrame(data=r2_test, columns=['r2_test'])\n",
    "    result = pd.concat([r2_train, r2_test], axis=1, join='inner')\n",
    "    result.to_csv(f'result/result_{dataset}.csv', index = False)"
   ]
  },
  {
   "cell_type": "code",
   "execution_count": 3,
   "id": "a0983bb5",
   "metadata": {},
   "outputs": [
    {
     "name": "stdout",
     "output_type": "stream",
     "text": [
      "Dataset: DFT\n",
      "r2_train    0.596113\n",
      "r2_test     0.296002\n",
      "dtype: float64\n",
      "=======================\n",
      "Dataset: MF_pca\n",
      "r2_train    0.862864\n",
      "r2_test     0.371424\n",
      "dtype: float64\n",
      "=======================\n",
      "Dataset: MK_pca\n",
      "r2_train    0.847472\n",
      "r2_test    -0.176988\n",
      "dtype: float64\n",
      "=======================\n",
      "Dataset: RDKit_pca\n",
      "r2_train    0.785859\n",
      "r2_test     0.255036\n",
      "dtype: float64\n",
      "=======================\n",
      "Dataset: mordred_pca\n",
      "r2_train    0.788445\n",
      "r2_test     0.058099\n",
      "dtype: float64\n",
      "=======================\n",
      "Dataset: MF\n",
      "r2_train    0.564132\n",
      "r2_test     0.404835\n",
      "dtype: float64\n",
      "=======================\n",
      "Dataset: MK\n",
      "r2_train    0.888437\n",
      "r2_test     0.305889\n",
      "dtype: float64\n",
      "=======================\n",
      "Dataset: RDKit\n",
      "r2_train    0.606459\n",
      "r2_test     0.417936\n",
      "dtype: float64\n",
      "=======================\n",
      "Dataset: mordred\n",
      "r2_train    0.758804\n",
      "r2_test     0.368733\n",
      "dtype: float64\n",
      "=======================\n"
     ]
    }
   ],
   "source": [
    "for re in['DFT', 'MF_pca', 'MK_pca', 'RDKit_pca', 'mordred_pca', 'MF', 'MK', 'RDKit', 'mordred']:\n",
    "    res = pd.read_csv(f'result/result_{re}.csv')\n",
    "    print(f'Dataset: {re}')\n",
    "    print(res.mean())\n",
    "    print('=======================')"
   ]
  },
  {
   "cell_type": "code",
   "execution_count": null,
   "id": "49b45f09",
   "metadata": {},
   "outputs": [],
   "source": []
  }
 ],
 "metadata": {
  "kernelspec": {
   "display_name": "Python 3 (ipykernel)",
   "language": "python",
   "name": "python3"
  },
  "language_info": {
   "codemirror_mode": {
    "name": "ipython",
    "version": 3
   },
   "file_extension": ".py",
   "mimetype": "text/x-python",
   "name": "python",
   "nbconvert_exporter": "python",
   "pygments_lexer": "ipython3",
   "version": "3.7.16"
  }
 },
 "nbformat": 4,
 "nbformat_minor": 5
}
