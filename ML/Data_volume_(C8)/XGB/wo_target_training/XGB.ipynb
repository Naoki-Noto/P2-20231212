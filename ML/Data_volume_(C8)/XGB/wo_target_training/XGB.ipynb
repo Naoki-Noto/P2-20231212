{
 "cells": [
  {
   "cell_type": "code",
   "execution_count": 1,
   "id": "56b7d500",
   "metadata": {},
   "outputs": [],
   "source": [
    "import pandas as pd\n",
    "from sklearn.model_selection import train_test_split\n",
    "from sklearn.model_selection import RandomizedSearchCV\n",
    "from xgboost import XGBRegressor\n",
    "from sklearn import metrics"
   ]
  },
  {
   "cell_type": "code",
   "execution_count": 2,
   "id": "99c4a1c4",
   "metadata": {
    "scrolled": false
   },
   "outputs": [
    {
     "name": "stderr",
     "output_type": "stream",
     "text": [
      "C:\\Users\\noyor\\miniconda3\\envs\\xgboost\\lib\\site-packages\\joblib\\externals\\loky\\process_executor.py:752: UserWarning: A worker stopped while some jobs were given to the executor. This can be caused by a too short worker timeout or by a memory leak.\n",
      "  warnings.warn(\n",
      "C:\\Users\\noyor\\miniconda3\\envs\\xgboost\\lib\\site-packages\\joblib\\externals\\loky\\process_executor.py:752: UserWarning: A worker stopped while some jobs were given to the executor. This can be caused by a too short worker timeout or by a memory leak.\n",
      "  warnings.warn(\n",
      "C:\\Users\\noyor\\miniconda3\\envs\\xgboost\\lib\\site-packages\\joblib\\externals\\loky\\process_executor.py:752: UserWarning: A worker stopped while some jobs were given to the executor. This can be caused by a too short worker timeout or by a memory leak.\n",
      "  warnings.warn(\n"
     ]
    }
   ],
   "source": [
    "for dataset in ['DFT', 'MF_pca', 'MK_pca', 'RDKit_pca', 'mordred_pca', 'MF', 'MK', 'RDKit', 'mordred']:\n",
    "    data = pd.read_csv(f'data/data_{dataset}.csv')\n",
    "    y = pd.DataFrame(data['Yield'], columns=['Yield'])\n",
    "    X = data.drop(columns=['Name', 'ID', 'Yield'])\n",
    "    \n",
    "    data_s = pd.read_csv(f'data/data_{dataset}_ALL.csv')\n",
    "    y_s = pd.DataFrame(data_s['Yield'], columns=['Yield'])\n",
    "    X_s = data_s.drop(columns=['Name', 'ID', 'Yield'])\n",
    "\n",
    "\n",
    "    r2_train = []\n",
    "    r2_test = []\n",
    "    for i in range(100):\n",
    "        X_train, X_test, y_train, y_test = train_test_split(X, y, test_size=0.5, random_state=i)\n",
    "        param = {\"n_estimators\": [100, 500, 1000], \"gamma\": [0, 1, 2], \"min_child_weight\": [1, 2, 5, 10],\n",
    "                 \"subsample\": [0.6, 1], \"eta\": [0.01, 0.1, 0.3, 1], \"colsample_bytree\": [0.6, 1],\n",
    "                 \"lambda\": [0.01, 0.1, 1], \"max_depth\": [5, 7, 9]}\n",
    "        reg = RandomizedSearchCV(XGBRegressor(random_state=0), param_distributions=param, n_iter=600, cv=5, random_state=0, n_jobs=32)\n",
    "        reg.fit(X_s, y_s['Yield'])\n",
    "        best = reg.best_estimator_\n",
    "        y_pred1 = best.predict(X_s)\n",
    "        y_pred2 = best.predict(X_test)\n",
    "\n",
    "        r2_train.append(metrics.r2_score(y_s, y_pred1))\n",
    "        r2_test.append(metrics.r2_score(y_test, y_pred2))\n",
    "\n",
    "    r2_train_df = pd.DataFrame(data=r2_train, columns=['r2_train'])\n",
    "    r2_test_df = pd.DataFrame(data=r2_test, columns=['r2_test'])\n",
    "    result = pd.concat([r2_train_df, r2_test_df], axis=1, join='inner')\n",
    "    result.to_csv(f'result/result_{dataset}.csv', index=False)"
   ]
  },
  {
   "cell_type": "code",
   "execution_count": 3,
   "id": "a0983bb5",
   "metadata": {},
   "outputs": [
    {
     "name": "stdout",
     "output_type": "stream",
     "text": [
      "Dataset: DFT\n",
      "r2_train    0.993839\n",
      "r2_test     0.349557\n",
      "dtype: float64\n",
      "=======================\n",
      "Dataset: MF_pca\n",
      "r2_train    0.609131\n",
      "r2_test     0.408054\n",
      "dtype: float64\n",
      "=======================\n",
      "Dataset: MK_pca\n",
      "r2_train    0.836177\n",
      "r2_test     0.282233\n",
      "dtype: float64\n",
      "=======================\n",
      "Dataset: RDKit_pca\n",
      "r2_train    0.999001\n",
      "r2_test     0.334798\n",
      "dtype: float64\n",
      "=======================\n",
      "Dataset: mordred_pca\n",
      "r2_train    0.92064\n",
      "r2_test     0.40478\n",
      "dtype: float64\n",
      "=======================\n",
      "Dataset: MF\n",
      "r2_train    0.957136\n",
      "r2_test     0.335390\n",
      "dtype: float64\n",
      "=======================\n",
      "Dataset: MK\n",
      "r2_train    0.792720\n",
      "r2_test     0.257441\n",
      "dtype: float64\n",
      "=======================\n",
      "Dataset: RDKit\n",
      "r2_train    0.986230\n",
      "r2_test     0.377292\n",
      "dtype: float64\n",
      "=======================\n",
      "Dataset: mordred\n",
      "r2_train    0.997813\n",
      "r2_test     0.320117\n",
      "dtype: float64\n",
      "=======================\n"
     ]
    }
   ],
   "source": [
    "for re in['DFT', 'MF_pca', 'MK_pca', 'RDKit_pca', 'mordred_pca', 'MF', 'MK', 'RDKit', 'mordred']:\n",
    "    res = pd.read_csv(f'result/result_{re}.csv')\n",
    "    print(f'Dataset: {re}')\n",
    "    print(res.mean())\n",
    "    print('=======================')"
   ]
  },
  {
   "cell_type": "code",
   "execution_count": null,
   "id": "49b45f09",
   "metadata": {},
   "outputs": [],
   "source": []
  }
 ],
 "metadata": {
  "kernelspec": {
   "display_name": "Python 3 (ipykernel)",
   "language": "python",
   "name": "python3"
  },
  "language_info": {
   "codemirror_mode": {
    "name": "ipython",
    "version": 3
   },
   "file_extension": ".py",
   "mimetype": "text/x-python",
   "name": "python",
   "nbconvert_exporter": "python",
   "pygments_lexer": "ipython3",
   "version": "3.10.13"
  }
 },
 "nbformat": 4,
 "nbformat_minor": 5
}
