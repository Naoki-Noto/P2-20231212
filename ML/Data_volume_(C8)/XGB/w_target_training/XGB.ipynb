{
 "cells": [
  {
   "cell_type": "code",
   "execution_count": 1,
   "id": "56b7d500",
   "metadata": {},
   "outputs": [],
   "source": [
    "import pandas as pd\n",
    "from sklearn.model_selection import train_test_split\n",
    "from sklearn.model_selection import RandomizedSearchCV\n",
    "from xgboost import XGBRegressor\n",
    "from sklearn import metrics"
   ]
  },
  {
   "cell_type": "code",
   "execution_count": 2,
   "id": "99c4a1c4",
   "metadata": {
    "scrolled": false
   },
   "outputs": [],
   "source": [
    "for dataset in ['DFT', 'MF_pca', 'MK_pca', 'RDKit_pca', 'mordred_pca', 'MF', 'MK', 'RDKit', 'mordred']:\n",
    "    data = pd.read_csv(f'data/data_{dataset}.csv')\n",
    "    y = pd.DataFrame(data['Yield'],columns=['Yield'])\n",
    "    X = data.drop(columns=['Name', 'ID', 'Yield'])\n",
    "    \n",
    "    data_s = pd.read_csv(f'data/data_{dataset}_ALL.csv')\n",
    "    y_s = pd.DataFrame(data_s['Yield'],columns=['Yield'])\n",
    "    X_s = data_s.drop(columns=['Name', 'ID', 'Yield'])\n",
    "\n",
    "    r2_train = []\n",
    "    r2_test = []\n",
    "    for i in range(100):\n",
    "        X_train, X_test, y_train, y_test = train_test_split(X, y, test_size=0.5, random_state=i)\n",
    "        X_s_train = pd.concat((X_s, X_train))\n",
    "        y_s_train = pd.concat((y_s, y_train))\n",
    "        param = {\"n_estimators\": [100, 500, 1000], \"gamma\": [0, 1, 2], \"min_child_weight\": [1, 2, 5, 10],\n",
    "                 \"subsample\": [0.6, 1], \"eta\": [0.01, 0.1, 0.3, 1], \"colsample_bytree\": [0.6, 1],\n",
    "                 \"lambda\": [0.01, 0.1, 1], \"max_depth\": [5, 7, 9]}\n",
    "        reg = RandomizedSearchCV(XGBRegressor(random_state=0), param_distributions=param, n_iter=600, cv=5, random_state=0, n_jobs=32)\n",
    "        reg.fit(X_s_train,y_s_train['Yield'])\n",
    "        best = reg.best_estimator_\n",
    "        y_pred1 = best.predict(X_s_train)\n",
    "        y_pred2 = best.predict(X_test)\n",
    "        r2_train.append(metrics.r2_score(y_s_train, y_pred1))\n",
    "        r2_test.append(metrics.r2_score(y_test, y_pred2))\n",
    "\n",
    "    r2_train = pd.DataFrame(data=r2_train, columns=['r2_train'])\n",
    "    r2_test = pd.DataFrame(data=r2_test, columns=['r2_test'])\n",
    "    result = pd.concat([r2_train, r2_test], axis=1, join='inner')\n",
    "    result.to_csv(f'result/result_{dataset}.csv', index = False)"
   ]
  },
  {
   "cell_type": "code",
   "execution_count": 3,
   "id": "a0983bb5",
   "metadata": {},
   "outputs": [
    {
     "name": "stdout",
     "output_type": "stream",
     "text": [
      "Dataset: DFT\n",
      "r2_train    0.860567\n",
      "r2_test     0.523226\n",
      "dtype: float64\n",
      "=======================\n",
      "Dataset: MF_pca\n",
      "r2_train    0.681107\n",
      "r2_test     0.435276\n",
      "dtype: float64\n",
      "=======================\n",
      "Dataset: MK_pca\n",
      "r2_train    0.730980\n",
      "r2_test     0.313867\n",
      "dtype: float64\n",
      "=======================\n",
      "Dataset: RDKit_pca\n",
      "r2_train    0.665912\n",
      "r2_test     0.419910\n",
      "dtype: float64\n",
      "=======================\n",
      "Dataset: mordred_pca\n",
      "r2_train    0.726730\n",
      "r2_test     0.428557\n",
      "dtype: float64\n",
      "=======================\n",
      "Dataset: MF\n",
      "r2_train    0.774422\n",
      "r2_test     0.471322\n",
      "dtype: float64\n",
      "=======================\n",
      "Dataset: MK\n",
      "r2_train    0.713875\n",
      "r2_test     0.369412\n",
      "dtype: float64\n",
      "=======================\n",
      "Dataset: RDKit\n",
      "r2_train    0.599302\n",
      "r2_test     0.419706\n",
      "dtype: float64\n",
      "=======================\n",
      "Dataset: mordred\n",
      "r2_train    0.588728\n",
      "r2_test     0.427865\n",
      "dtype: float64\n",
      "=======================\n"
     ]
    }
   ],
   "source": [
    "for re in['DFT', 'MF_pca', 'MK_pca', 'RDKit_pca', 'mordred_pca', 'MF', 'MK', 'RDKit', 'mordred']:\n",
    "    res = pd.read_csv(f'result/result_{re}.csv')\n",
    "    print(f'Dataset: {re}')\n",
    "    print(res.mean())\n",
    "    print('=======================')"
   ]
  },
  {
   "cell_type": "code",
   "execution_count": null,
   "id": "49b45f09",
   "metadata": {},
   "outputs": [],
   "source": []
  }
 ],
 "metadata": {
  "kernelspec": {
   "display_name": "Python 3 (ipykernel)",
   "language": "python",
   "name": "python3"
  },
  "language_info": {
   "codemirror_mode": {
    "name": "ipython",
    "version": 3
   },
   "file_extension": ".py",
   "mimetype": "text/x-python",
   "name": "python",
   "nbconvert_exporter": "python",
   "pygments_lexer": "ipython3",
   "version": "3.10.13"
  }
 },
 "nbformat": 4,
 "nbformat_minor": 5
}
