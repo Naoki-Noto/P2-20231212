{
 "cells": [
  {
   "cell_type": "code",
   "execution_count": 1,
   "id": "56b7d500",
   "metadata": {},
   "outputs": [],
   "source": [
    "import pandas as pd"
   ]
  },
  {
   "cell_type": "code",
   "execution_count": 2,
   "id": "99c4a1c4",
   "metadata": {},
   "outputs": [
    {
     "name": "stdout",
     "output_type": "stream",
     "text": [
      "Lasso\n",
      "max:\n",
      "r2_test    0.241441\n",
      "dtype: float64\n",
      "mean:\n",
      "r2_test    0.091264\n",
      "dtype: float64\n",
      "std:\n",
      "r2_test    0.123866\n",
      "dtype: float64\n"
     ]
    }
   ],
   "source": [
    "data = pd.read_csv('Lasso/result/result_DFT.csv')\n",
    "data = data.drop(columns=['Unnamed: 0', 'r2_train', 'mae_train', 'mae_test'])\n",
    "\n",
    "data_max = data.max()\n",
    "data_mean = data.mean()\n",
    "data_std = data.std(ddof=0)\n",
    "\n",
    "print('Lasso')\n",
    "print('max:')\n",
    "print(data_max)\n",
    "print('mean:')\n",
    "print(data_mean)\n",
    "print('std:')\n",
    "print(data_std)"
   ]
  },
  {
   "cell_type": "code",
   "execution_count": 3,
   "id": "49b45f09",
   "metadata": {},
   "outputs": [
    {
     "name": "stdout",
     "output_type": "stream",
     "text": [
      "SVM\n",
      "max:\n",
      "r2_test    0.528737\n",
      "dtype: float64\n",
      "mean:\n",
      "r2_test   -0.106475\n",
      "dtype: float64\n",
      "std:\n",
      "r2_test    0.308229\n",
      "dtype: float64\n"
     ]
    }
   ],
   "source": [
    "data = pd.read_csv('SVM/result/result_DFT.csv')\n",
    "data = data.drop(columns=['Unnamed: 0', 'r2_train', 'mae_train', 'mae_test'])\n",
    "\n",
    "data_max = data.max()\n",
    "data_mean = data.mean()\n",
    "data_std = data.std(ddof=0)\n",
    "\n",
    "print('SVM')\n",
    "print('max:')\n",
    "print(data_max)\n",
    "print('mean:')\n",
    "print(data_mean)\n",
    "print('std:')\n",
    "print(data_std)"
   ]
  },
  {
   "cell_type": "code",
   "execution_count": 4,
   "id": "347d6fbd",
   "metadata": {},
   "outputs": [
    {
     "name": "stdout",
     "output_type": "stream",
     "text": [
      "XGB\n",
      "max:\n",
      "r2_test    0.517215\n",
      "dtype: float64\n",
      "mean:\n",
      "r2_test    0.052171\n",
      "dtype: float64\n",
      "std:\n",
      "r2_test    0.444882\n",
      "dtype: float64\n"
     ]
    }
   ],
   "source": [
    "data = pd.read_csv('XGB/result/result_DFT.csv')\n",
    "data = data.drop(columns=['Unnamed: 0', 'r2_train', 'mae_train', 'mae_test'])\n",
    "\n",
    "data_max = data.max()\n",
    "data_mean = data.mean()\n",
    "data_std = data.std(ddof=0)\n",
    "\n",
    "print('XGB')\n",
    "print('max:')\n",
    "print(data_max)\n",
    "print('mean:')\n",
    "print(data_mean)\n",
    "print('std:')\n",
    "print(data_std)"
   ]
  },
  {
   "cell_type": "code",
   "execution_count": 5,
   "id": "ecd6660e",
   "metadata": {},
   "outputs": [
    {
     "name": "stdout",
     "output_type": "stream",
     "text": [
      "RF_DFT\n",
      "max:\n",
      "r2_test    0.545023\n",
      "dtype: float64\n",
      "mean:\n",
      "r2_test    0.271444\n",
      "dtype: float64\n",
      "std:\n",
      "r2_test    0.148724\n",
      "dtype: float64\n"
     ]
    }
   ],
   "source": [
    "data = pd.read_csv('RF/result/result_DFT.csv')\n",
    "data = data.drop(columns=['Unnamed: 0', 'r2_train', 'mae_train', 'mae_test'])\n",
    "\n",
    "data_max = data.max()\n",
    "data_mean = data.mean()\n",
    "data_std = data.std(ddof=0)\n",
    "\n",
    "print('RF_DFT')\n",
    "print('max:')\n",
    "print(data_max)\n",
    "print('mean:')\n",
    "print(data_mean)\n",
    "print('std:')\n",
    "print(data_std)"
   ]
  },
  {
   "cell_type": "code",
   "execution_count": 6,
   "id": "af2ed574",
   "metadata": {},
   "outputs": [
    {
     "name": "stdout",
     "output_type": "stream",
     "text": [
      "RF_MF\n",
      "max:\n",
      "r2_test    0.541113\n",
      "dtype: float64\n",
      "mean:\n",
      "r2_test    0.221499\n",
      "dtype: float64\n",
      "std:\n",
      "r2_test    0.200262\n",
      "dtype: float64\n"
     ]
    }
   ],
   "source": [
    "data = pd.read_csv('RF/result/result_MF.csv')\n",
    "data = data.drop(columns=['Unnamed: 0', 'r2_train', 'mae_train', 'mae_test'])\n",
    "\n",
    "data_max = data.max()\n",
    "data_mean = data.mean()\n",
    "data_std = data.std(ddof=0)\n",
    "\n",
    "print('RF_MF')\n",
    "print('max:')\n",
    "print(data_max)\n",
    "print('mean:')\n",
    "print(data_mean)\n",
    "print('std:')\n",
    "print(data_std)"
   ]
  },
  {
   "cell_type": "code",
   "execution_count": 7,
   "id": "1743c47a",
   "metadata": {},
   "outputs": [
    {
     "name": "stdout",
     "output_type": "stream",
     "text": [
      "RF_MK\n",
      "max:\n",
      "r2_test    0.448276\n",
      "dtype: float64\n",
      "mean:\n",
      "r2_test    0.121045\n",
      "dtype: float64\n",
      "std:\n",
      "r2_test    0.236068\n",
      "dtype: float64\n"
     ]
    }
   ],
   "source": [
    "data = pd.read_csv('RF/result/result_MK.csv')\n",
    "data = data.drop(columns=['Unnamed: 0', 'r2_train', 'mae_train', 'mae_test'])\n",
    "\n",
    "data_max = data.max()\n",
    "data_mean = data.mean()\n",
    "data_std = data.std(ddof=0)\n",
    "\n",
    "print('RF_MK')\n",
    "print('max:')\n",
    "print(data_max)\n",
    "print('mean:')\n",
    "print(data_mean)\n",
    "print('std:')\n",
    "print(data_std)"
   ]
  },
  {
   "cell_type": "code",
   "execution_count": 8,
   "id": "6ccf972c",
   "metadata": {},
   "outputs": [
    {
     "name": "stdout",
     "output_type": "stream",
     "text": [
      "RF_RDKit\n",
      "max:\n",
      "r2_test    0.499518\n",
      "dtype: float64\n",
      "mean:\n",
      "r2_test    0.187756\n",
      "dtype: float64\n",
      "std:\n",
      "r2_test    0.231866\n",
      "dtype: float64\n"
     ]
    }
   ],
   "source": [
    "data = pd.read_csv('RF/result/result_RDKit.csv')\n",
    "data = data.drop(columns=['Unnamed: 0', 'r2_train', 'mae_train', 'mae_test'])\n",
    "\n",
    "data_max = data.max()\n",
    "data_mean = data.mean()\n",
    "data_std = data.std(ddof=0)\n",
    "\n",
    "print('RF_RDKit')\n",
    "print('max:')\n",
    "print(data_max)\n",
    "print('mean:')\n",
    "print(data_mean)\n",
    "print('std:')\n",
    "print(data_std)"
   ]
  },
  {
   "cell_type": "code",
   "execution_count": 9,
   "id": "a0ef99a6",
   "metadata": {},
   "outputs": [
    {
     "name": "stdout",
     "output_type": "stream",
     "text": [
      "RF_Mordred\n",
      "max:\n",
      "r2_test    0.461879\n",
      "dtype: float64\n",
      "mean:\n",
      "r2_test    0.186098\n",
      "dtype: float64\n",
      "std:\n",
      "r2_test    0.219222\n",
      "dtype: float64\n"
     ]
    }
   ],
   "source": [
    "data = pd.read_csv('RF/result/result_Mordred.csv')\n",
    "data = data.drop(columns=['Unnamed: 0', 'r2_train', 'mae_train', 'mae_test'])\n",
    "\n",
    "data_max = data.max()\n",
    "data_mean = data.mean()\n",
    "data_std = data.std(ddof=0)\n",
    "\n",
    "print('RF_Mordred')\n",
    "print('max:')\n",
    "print(data_max)\n",
    "print('mean:')\n",
    "print(data_mean)\n",
    "print('std:')\n",
    "print(data_std)"
   ]
  },
  {
   "cell_type": "code",
   "execution_count": 10,
   "id": "e75d8dc3",
   "metadata": {},
   "outputs": [
    {
     "name": "stdout",
     "output_type": "stream",
     "text": [
      "RF_MF_pca\n",
      "max:\n",
      "r2_test    0.497537\n",
      "dtype: float64\n",
      "mean:\n",
      "r2_test    0.216043\n",
      "dtype: float64\n",
      "std:\n",
      "r2_test    0.19372\n",
      "dtype: float64\n"
     ]
    }
   ],
   "source": [
    "data = pd.read_csv('RF/result/result_MF_pca.csv')\n",
    "data = data.drop(columns=['Unnamed: 0', 'r2_train', 'mae_train', 'mae_test'])\n",
    "\n",
    "data_max = data.max()\n",
    "data_mean = data.mean()\n",
    "data_std = data.std(ddof=0)\n",
    "\n",
    "print('RF_MF_pca')\n",
    "print('max:')\n",
    "print(data_max)\n",
    "print('mean:')\n",
    "print(data_mean)\n",
    "print('std:')\n",
    "print(data_std)"
   ]
  },
  {
   "cell_type": "code",
   "execution_count": 11,
   "id": "0870d66e",
   "metadata": {},
   "outputs": [
    {
     "name": "stdout",
     "output_type": "stream",
     "text": [
      "RF_MK_pca\n",
      "max:\n",
      "r2_test    0.432881\n",
      "dtype: float64\n",
      "mean:\n",
      "r2_test    0.148707\n",
      "dtype: float64\n",
      "std:\n",
      "r2_test    0.205373\n",
      "dtype: float64\n"
     ]
    }
   ],
   "source": [
    "data = pd.read_csv('RF/result/result_MK_pca.csv')\n",
    "data = data.drop(columns=['Unnamed: 0', 'r2_train', 'mae_train', 'mae_test'])\n",
    "\n",
    "data_max = data.max()\n",
    "data_mean = data.mean()\n",
    "data_std = data.std(ddof=0)\n",
    "\n",
    "print('RF_MK_pca')\n",
    "print('max:')\n",
    "print(data_max)\n",
    "print('mean:')\n",
    "print(data_mean)\n",
    "print('std:')\n",
    "print(data_std)"
   ]
  },
  {
   "cell_type": "code",
   "execution_count": 12,
   "id": "1a2920a9",
   "metadata": {},
   "outputs": [
    {
     "name": "stdout",
     "output_type": "stream",
     "text": [
      "RF_RDKit_pca\n",
      "max:\n",
      "r2_test    0.462633\n",
      "dtype: float64\n",
      "mean:\n",
      "r2_test    0.161089\n",
      "dtype: float64\n",
      "std:\n",
      "r2_test    0.197494\n",
      "dtype: float64\n"
     ]
    }
   ],
   "source": [
    "data = pd.read_csv('RF/result/result_RDKit_pca.csv')\n",
    "data = data.drop(columns=['Unnamed: 0', 'r2_train', 'mae_train', 'mae_test'])\n",
    "\n",
    "data_max = data.max()\n",
    "data_mean = data.mean()\n",
    "data_std = data.std(ddof=0)\n",
    "\n",
    "print('RF_RDKit_pca')\n",
    "print('max:')\n",
    "print(data_max)\n",
    "print('mean:')\n",
    "print(data_mean)\n",
    "print('std:')\n",
    "print(data_std)"
   ]
  },
  {
   "cell_type": "code",
   "execution_count": 13,
   "id": "f9e3c4c5",
   "metadata": {},
   "outputs": [
    {
     "name": "stdout",
     "output_type": "stream",
     "text": [
      "RF_Mordred_pca\n",
      "max:\n",
      "r2_test    0.37704\n",
      "dtype: float64\n",
      "mean:\n",
      "r2_test    0.099916\n",
      "dtype: float64\n",
      "std:\n",
      "r2_test    0.205419\n",
      "dtype: float64\n"
     ]
    }
   ],
   "source": [
    "data = pd.read_csv('RF/result/result_Mordred_pca.csv')\n",
    "data = data.drop(columns=['Unnamed: 0', 'r2_train', 'mae_train', 'mae_test'])\n",
    "\n",
    "data_max = data.max()\n",
    "data_mean = data.mean()\n",
    "data_std = data.std(ddof=0)\n",
    "\n",
    "print('RF_Mordred_pca')\n",
    "print('max:')\n",
    "print(data_max)\n",
    "print('mean:')\n",
    "print(data_mean)\n",
    "print('std:')\n",
    "print(data_std)"
   ]
  },
  {
   "cell_type": "code",
   "execution_count": 14,
   "id": "14d98af4",
   "metadata": {},
   "outputs": [
    {
     "name": "stdout",
     "output_type": "stream",
     "text": [
      "RF_DFT_MF_pca\n",
      "max:\n",
      "r2_test    0.486519\n",
      "dtype: float64\n",
      "mean:\n",
      "r2_test    0.256353\n",
      "dtype: float64\n",
      "std:\n",
      "r2_test    0.171637\n",
      "dtype: float64\n"
     ]
    }
   ],
   "source": [
    "data = pd.read_csv('RF/result/result_DFT_MF_pca.csv')\n",
    "data = data.drop(columns=['Unnamed: 0', 'r2_train', 'mae_train', 'mae_test'])\n",
    "\n",
    "data_max = data.max()\n",
    "data_mean = data.mean()\n",
    "data_std = data.std(ddof=0)\n",
    "\n",
    "print('RF_DFT_MF_pca')\n",
    "print('max:')\n",
    "print(data_max)\n",
    "print('mean:')\n",
    "print(data_mean)\n",
    "print('std:')\n",
    "print(data_std)"
   ]
  },
  {
   "cell_type": "code",
   "execution_count": 15,
   "id": "c2d136d7",
   "metadata": {},
   "outputs": [
    {
     "name": "stdout",
     "output_type": "stream",
     "text": [
      "RF_DFT_MK_pca\n",
      "max:\n",
      "r2_test    0.568654\n",
      "dtype: float64\n",
      "mean:\n",
      "r2_test    0.264285\n",
      "dtype: float64\n",
      "std:\n",
      "r2_test    0.16501\n",
      "dtype: float64\n"
     ]
    }
   ],
   "source": [
    "data = pd.read_csv('RF/result/result_DFT_MK_pca.csv')\n",
    "data = data.drop(columns=['Unnamed: 0', 'r2_train', 'mae_train', 'mae_test'])\n",
    "\n",
    "data_max = data.max()\n",
    "data_mean = data.mean()\n",
    "data_std = data.std(ddof=0)\n",
    "\n",
    "print('RF_DFT_MK_pca')\n",
    "print('max:')\n",
    "print(data_max)\n",
    "print('mean:')\n",
    "print(data_mean)\n",
    "print('std:')\n",
    "print(data_std)"
   ]
  },
  {
   "cell_type": "code",
   "execution_count": 16,
   "id": "ce1b7a29",
   "metadata": {},
   "outputs": [
    {
     "name": "stdout",
     "output_type": "stream",
     "text": [
      "RF_DFT_RDKit_pca\n",
      "max:\n",
      "r2_test    0.503188\n",
      "dtype: float64\n",
      "mean:\n",
      "r2_test    0.230986\n",
      "dtype: float64\n",
      "std:\n",
      "r2_test    0.17507\n",
      "dtype: float64\n"
     ]
    }
   ],
   "source": [
    "data = pd.read_csv('RF/result/result_DFT_RDKit_pca.csv')\n",
    "data = data.drop(columns=['Unnamed: 0', 'r2_train', 'mae_train', 'mae_test'])\n",
    "\n",
    "data_max = data.max()\n",
    "data_mean = data.mean()\n",
    "data_std = data.std(ddof=0)\n",
    "\n",
    "print('RF_DFT_RDKit_pca')\n",
    "print('max:')\n",
    "print(data_max)\n",
    "print('mean:')\n",
    "print(data_mean)\n",
    "print('std:')\n",
    "print(data_std)"
   ]
  },
  {
   "cell_type": "code",
   "execution_count": 17,
   "id": "59f00e82",
   "metadata": {},
   "outputs": [
    {
     "name": "stdout",
     "output_type": "stream",
     "text": [
      "RF_DFT_Mordred_pca\n",
      "max:\n",
      "r2_test    0.488663\n",
      "dtype: float64\n",
      "mean:\n",
      "r2_test    0.23178\n",
      "dtype: float64\n",
      "std:\n",
      "r2_test    0.171358\n",
      "dtype: float64\n"
     ]
    }
   ],
   "source": [
    "data = pd.read_csv('RF/result/result_DFT_Mordred_pca.csv')\n",
    "data = data.drop(columns=['Unnamed: 0', 'r2_train', 'mae_train', 'mae_test'])\n",
    "\n",
    "data_max = data.max()\n",
    "data_mean = data.mean()\n",
    "data_std = data.std(ddof=0)\n",
    "\n",
    "print('RF_DFT_Mordred_pca')\n",
    "print('max:')\n",
    "print(data_max)\n",
    "print('mean:')\n",
    "print(data_mean)\n",
    "print('std:')\n",
    "print(data_std)"
   ]
  },
  {
   "cell_type": "code",
   "execution_count": 18,
   "id": "f94565b6",
   "metadata": {},
   "outputs": [
    {
     "name": "stdout",
     "output_type": "stream",
     "text": [
      "RF_test0.6_DFT\n",
      "max:\n",
      "r2_test      0.560619\n",
      "mae_test    22.325249\n",
      "dtype: float64\n",
      "min:\n",
      "r2_test     -0.540947\n",
      "mae_test    11.522981\n",
      "dtype: float64\n",
      "mean:\n",
      "r2_test      0.229110\n",
      "mae_test    15.950239\n",
      "dtype: float64\n",
      "std:\n",
      "r2_test     0.155557\n",
      "mae_test    1.824212\n",
      "dtype: float64\n"
     ]
    }
   ],
   "source": [
    "data = pd.read_csv('RF_control/result/result_test0.6_DFT.csv')\n",
    "data = data.drop(columns=['Unnamed: 0', 'r2_train', 'mae_train'])\n",
    "\n",
    "data_max = data.max()\n",
    "data_min = data.min()\n",
    "data_mean = data.mean()\n",
    "data_std = data.std(ddof=0)\n",
    "\n",
    "print('RF_test0.6_DFT')\n",
    "print('max:')\n",
    "print(data_max)\n",
    "print('min:')\n",
    "print(data_min)\n",
    "print('mean:')\n",
    "print(data_mean)\n",
    "print('std:')\n",
    "print(data_std)"
   ]
  },
  {
   "cell_type": "code",
   "execution_count": 19,
   "id": "622e2075",
   "metadata": {},
   "outputs": [
    {
     "name": "stdout",
     "output_type": "stream",
     "text": [
      "RF_test0.7_DFT\n",
      "max:\n",
      "r2_test      0.456012\n",
      "mae_test    23.429974\n",
      "dtype: float64\n",
      "min:\n",
      "r2_test     -0.516530\n",
      "mae_test    13.841507\n",
      "dtype: float64\n",
      "mean:\n",
      "r2_test      0.135820\n",
      "mae_test    17.095794\n",
      "dtype: float64\n",
      "std:\n",
      "r2_test     0.183607\n",
      "mae_test    1.901826\n",
      "dtype: float64\n"
     ]
    }
   ],
   "source": [
    "data = pd.read_csv('RF_control/result/result_test0.7_DFT.csv')\n",
    "data = data.drop(columns=['Unnamed: 0', 'r2_train', 'mae_train'])\n",
    "\n",
    "data_max = data.max()\n",
    "data_min = data.min()\n",
    "data_mean = data.mean()\n",
    "data_std = data.std(ddof=0)\n",
    "\n",
    "print('RF_test0.7_DFT')\n",
    "print('max:')\n",
    "print(data_max)\n",
    "print('min:')\n",
    "print(data_min)\n",
    "print('mean:')\n",
    "print(data_mean)\n",
    "print('std:')\n",
    "print(data_std)"
   ]
  },
  {
   "cell_type": "code",
   "execution_count": 20,
   "id": "703e42a9",
   "metadata": {},
   "outputs": [
    {
     "name": "stdout",
     "output_type": "stream",
     "text": [
      "RF_test0.8_DFT\n",
      "max:\n",
      "r2_test      0.366868\n",
      "mae_test    26.298408\n",
      "dtype: float64\n",
      "min:\n",
      "r2_test     -0.663396\n",
      "mae_test    14.687313\n",
      "dtype: float64\n",
      "mean:\n",
      "r2_test      0.040822\n",
      "mae_test    18.466465\n",
      "dtype: float64\n",
      "std:\n",
      "r2_test     0.209600\n",
      "mae_test    2.072506\n",
      "dtype: float64\n"
     ]
    }
   ],
   "source": [
    "data = pd.read_csv('RF_control/result/result_test0.8_DFT.csv')\n",
    "data = data.drop(columns=['Unnamed: 0', 'r2_train', 'mae_train'])\n",
    "\n",
    "data_max = data.max()\n",
    "data_min = data.min()\n",
    "data_mean = data.mean()\n",
    "data_std = data.std(ddof=0)\n",
    "\n",
    "print('RF_test0.8_DFT')\n",
    "print('max:')\n",
    "print(data_max)\n",
    "print('min:')\n",
    "print(data_min)\n",
    "print('mean:')\n",
    "print(data_mean)\n",
    "print('std:')\n",
    "print(data_std)"
   ]
  },
  {
   "cell_type": "code",
   "execution_count": null,
   "id": "5cfbb4c5",
   "metadata": {},
   "outputs": [],
   "source": []
  }
 ],
 "metadata": {
  "kernelspec": {
   "display_name": "Python 3 (ipykernel)",
   "language": "python",
   "name": "python3"
  },
  "language_info": {
   "codemirror_mode": {
    "name": "ipython",
    "version": 3
   },
   "file_extension": ".py",
   "mimetype": "text/x-python",
   "name": "python",
   "nbconvert_exporter": "python",
   "pygments_lexer": "ipython3",
   "version": "3.7.16"
  }
 },
 "nbformat": 4,
 "nbformat_minor": 5
}
