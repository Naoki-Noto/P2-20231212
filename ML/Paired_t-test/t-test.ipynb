{
 "cells": [
  {
   "cell_type": "code",
   "execution_count": 1,
   "id": "cba77f10",
   "metadata": {},
   "outputs": [],
   "source": [
    "import numpy as np\n",
    "import pandas as pd\n",
    "from scipy.stats import ttest_rel"
   ]
  },
  {
   "cell_type": "code",
   "execution_count": 2,
   "id": "924816ea",
   "metadata": {},
   "outputs": [
    {
     "name": "stdout",
     "output_type": "stream",
     "text": [
      "   Run  RF_DFT_50  XGB_MF_pca_700  XGB_DFT_750  TrAB_DFT_All\n",
      "0    0   0.068619        0.196809     0.343602      0.321043\n",
      "1    1  -0.188152        0.456268     0.477798      0.740186\n",
      "2    2   0.459085        0.461223     0.616818      0.676513\n",
      "3    3   0.340911        0.457019     0.736468      0.768791\n",
      "4    4  -0.010733        0.297803     0.366012      0.452751\n"
     ]
    }
   ],
   "source": [
    "data = pd.read_csv('data/CA_All.csv')\n",
    "print(data.head())\n",
    "RF_DFT_50 = data['RF_DFT_50']\n",
    "XGB_MF_pca_700 = data['XGB_MF_pca_700']\n",
    "XGB_DFT_750 = data['XGB_DFT_750']\n",
    "TrAB_DFT_All = data['TrAB_DFT_All']"
   ]
  },
  {
   "cell_type": "code",
   "execution_count": 3,
   "id": "d9176aa3",
   "metadata": {},
   "outputs": [
    {
     "name": "stdout",
     "output_type": "stream",
     "text": [
      "TrAB/DFT (Table S15) & RF/DFT (Table S9), in CA\n",
      "t-statistic: 24.596629507689205\n",
      "p-value: 5.814427707435613e-44\n",
      "There is a significant difference (reject the null hypothesis).\n"
     ]
    }
   ],
   "source": [
    "print('TrAB/DFT (Table S15) & RF/DFT (Table S9), in CA')\n",
    "\n",
    "t_stat, p_value = ttest_rel(TrAB_DFT_All, RF_DFT_50)\n",
    "print(f\"t-statistic: {t_stat}\")\n",
    "print(f\"p-value: {p_value}\")\n",
    "\n",
    "if p_value < 0.05:\n",
    "    print(\"There is a significant difference (reject the null hypothesis).\")\n",
    "else:\n",
    "    print(\"There is no significant difference (fail to reject the null hypothesis).\")"
   ]
  },
  {
   "cell_type": "code",
   "execution_count": 4,
   "id": "a28d01ad",
   "metadata": {},
   "outputs": [
    {
     "name": "stdout",
     "output_type": "stream",
     "text": [
      "TrAB/DFT (Table S15) & XGB/MF_pca trained on 700 data points (Table S11), in CA\n",
      "t-statistic: 31.89723504474428\n",
      "p-value: 6.902165384609942e-54\n",
      "There is a significant difference (reject the null hypothesis).\n"
     ]
    }
   ],
   "source": [
    "print('TrAB/DFT (Table S15) & XGB/MF_pca trained on 700 data points (Table S11), in CA')\n",
    "\n",
    "t_stat, p_value = ttest_rel(TrAB_DFT_All, XGB_MF_pca_700)\n",
    "print(f\"t-statistic: {t_stat}\")\n",
    "print(f\"p-value: {p_value}\")\n",
    "\n",
    "if p_value < 0.05:\n",
    "    print(\"There is a significant difference (reject the null hypothesis).\")\n",
    "else:\n",
    "    print(\"There is no significant difference (fail to reject the null hypothesis).\")"
   ]
  },
  {
   "cell_type": "code",
   "execution_count": 5,
   "id": "ae7fa1e6",
   "metadata": {},
   "outputs": [
    {
     "name": "stdout",
     "output_type": "stream",
     "text": [
      "TrAB/DFT (Table S15) & XGB/DFT trained on 750 data points (Table S11), in CA\n",
      "t-statistic: 12.70859873565434\n",
      "p-value: 1.603248922145943e-22\n",
      "There is a significant difference (reject the null hypothesis).\n"
     ]
    }
   ],
   "source": [
    "print('TrAB/DFT (Table S15) & XGB/DFT trained on 750 data points (Table S11), in CA')\n",
    "\n",
    "t_stat, p_value = ttest_rel(TrAB_DFT_All, XGB_DFT_750)\n",
    "print(f\"t-statistic: {t_stat}\")\n",
    "print(f\"p-value: {p_value}\")\n",
    "\n",
    "if p_value < 0.05:\n",
    "    print(\"There is a significant difference (reject the null hypothesis).\")\n",
    "else:\n",
    "    print(\"There is no significant difference (fail to reject the null hypothesis).\")"
   ]
  },
  {
   "cell_type": "code",
   "execution_count": 6,
   "id": "9fb6f068",
   "metadata": {},
   "outputs": [
    {
     "name": "stdout",
     "output_type": "stream",
     "text": [
      "   Run  RF_DFT_50  TrAB_DFT_All  TrAB_DFT_S1  TrAB_DFT_FE_S1\n",
      "0    0   0.068619      0.321043     0.563848        0.603082\n",
      "1    1  -0.188152      0.740186     0.789190        0.783156\n",
      "2    2   0.459085      0.676513     0.616334        0.599995\n",
      "3    3   0.340911      0.768791     0.830992        0.876952\n",
      "4    4  -0.010733      0.452751     0.437378        0.518926\n"
     ]
    }
   ],
   "source": [
    "data = pd.read_csv('data/CA_S1.csv')\n",
    "print(data.head())\n",
    "RF_DFT_50 = data['RF_DFT_50']\n",
    "TrAB_DFT_All = data['TrAB_DFT_All']\n",
    "TrAB_DFT_S1 = data['TrAB_DFT_S1']\n",
    "TrAB_DFT_FE_S1 = data['TrAB_DFT_FE_S1']"
   ]
  },
  {
   "cell_type": "code",
   "execution_count": 7,
   "id": "c8e9a294",
   "metadata": {},
   "outputs": [
    {
     "name": "stdout",
     "output_type": "stream",
     "text": [
      "TrAB/DFT (Source: All; Table S15) & TrAB/DFT (Source: S1;Table S17), in CA\n",
      "t-statistic: -4.379950156315912\n",
      "p-value: 2.9525851178622976e-05\n",
      "There is a significant difference (reject the null hypothesis).\n"
     ]
    }
   ],
   "source": [
    "print('TrAB/DFT (Source: All; Table S15) & TrAB/DFT (Source: S1;Table S17), in CA')\n",
    "\n",
    "t_stat, p_value = ttest_rel(TrAB_DFT_All, TrAB_DFT_S1)\n",
    "print(f\"t-statistic: {t_stat}\")\n",
    "print(f\"p-value: {p_value}\")\n",
    "\n",
    "if p_value < 0.05:\n",
    "    print(\"There is a significant difference (reject the null hypothesis).\")\n",
    "else:\n",
    "    print(\"There is no significant difference (fail to reject the null hypothesis).\")"
   ]
  },
  {
   "cell_type": "code",
   "execution_count": 8,
   "id": "54605fac",
   "metadata": {},
   "outputs": [
    {
     "name": "stdout",
     "output_type": "stream",
     "text": [
      "TrAB/DFT (Source: S1; Table S17) & TrAB/DFT_FE (Source: S1;Table S7), in CA\n",
      "t-statistic: -11.742751908178393\n",
      "p-value: 1.8246241856250946e-20\n",
      "There is a significant difference (reject the null hypothesis).\n"
     ]
    }
   ],
   "source": [
    "print('TrAB/DFT (Source: S1; Table S17) & TrAB/DFT_FE (Source: S1;Table S7), in CA')\n",
    "\n",
    "t_stat, p_value = ttest_rel(TrAB_DFT_S1, TrAB_DFT_FE_S1)\n",
    "print(f\"t-statistic: {t_stat}\")\n",
    "print(f\"p-value: {p_value}\")\n",
    "\n",
    "if p_value < 0.05:\n",
    "    print(\"There is a significant difference (reject the null hypothesis).\")\n",
    "else:\n",
    "    print(\"There is no significant difference (fail to reject the null hypothesis).\")"
   ]
  },
  {
   "cell_type": "code",
   "execution_count": 9,
   "id": "72fe4da2",
   "metadata": {},
   "outputs": [
    {
     "name": "stdout",
     "output_type": "stream",
     "text": [
      "TrAB/DFT_FE (Source: S1;Table S17) & RF/DFT (Table S9), in CA\n",
      "t-statistic: -29.75207234539871\n",
      "p-value: 3.5660977583907795e-51\n",
      "There is a significant difference (reject the null hypothesis).\n"
     ]
    }
   ],
   "source": [
    "print('TrAB/DFT_FE (Source: S1;Table S17) & RF/DFT (Table S9), in CA')\n",
    "\n",
    "t_stat, p_value = ttest_rel(RF_DFT_50, TrAB_DFT_FE_S1)\n",
    "print(f\"t-statistic: {t_stat}\")\n",
    "print(f\"p-value: {p_value}\")\n",
    "\n",
    "if p_value < 0.05:\n",
    "    print(\"There is a significant difference (reject the null hypothesis).\")\n",
    "else:\n",
    "    print(\"There is no significant difference (fail to reject the null hypothesis).\")"
   ]
  },
  {
   "cell_type": "code",
   "execution_count": 10,
   "id": "a5c73a05",
   "metadata": {},
   "outputs": [
    {
     "name": "stdout",
     "output_type": "stream",
     "text": [
      "   Run     RF_50   XGB_700   XGB_750      TrAB\n",
      "0    0  0.533950  0.678687  0.743479  0.804822\n",
      "1    1  0.016345  0.344799  0.547325  0.657055\n",
      "2    2  0.502137  0.670859  0.813493  0.823318\n",
      "3    3  0.327812  0.626690  0.849799  0.782982\n",
      "4    4  0.304776  0.696276  0.770047  0.815074\n"
     ]
    }
   ],
   "source": [
    "data = pd.read_csv('data/CO_a.csv')\n",
    "print(data.head())\n",
    "RF_50 = data['RF_50']\n",
    "XGB_700 = data['XGB_700']\n",
    "XGB_750 = data['XGB_750']\n",
    "TrAB = data['TrAB']"
   ]
  },
  {
   "cell_type": "code",
   "execution_count": 11,
   "id": "3019edc5",
   "metadata": {},
   "outputs": [
    {
     "name": "stdout",
     "output_type": "stream",
     "text": [
      "TrAB/DFT (Table S24) & RF/DFT (Table S24), in CO_a\n",
      "t-statistic: 23.201181364658115\n",
      "p-value: 8.0908016059637e-42\n",
      "There is a significant difference (reject the null hypothesis).\n"
     ]
    }
   ],
   "source": [
    "print('TrAB/DFT (Table S24) & RF/DFT (Table S24), in CO_a')\n",
    "\n",
    "t_stat, p_value = ttest_rel(TrAB, RF_50)\n",
    "print(f\"t-statistic: {t_stat}\")\n",
    "print(f\"p-value: {p_value}\")\n",
    "\n",
    "if p_value < 0.05:\n",
    "    print(\"There is a significant difference (reject the null hypothesis).\")\n",
    "else:\n",
    "    print(\"There is no significant difference (fail to reject the null hypothesis).\")"
   ]
  },
  {
   "cell_type": "code",
   "execution_count": 12,
   "id": "a61da2f3",
   "metadata": {},
   "outputs": [
    {
     "name": "stdout",
     "output_type": "stream",
     "text": [
      "TrAB/DFT (Table S24) & XGB/DFT trained on 700 data points (Table S24), in CO_a\n",
      "t-statistic: 21.022187700756078\n",
      "p-value: 2.749958307527428e-38\n",
      "There is a significant difference (reject the null hypothesis).\n"
     ]
    }
   ],
   "source": [
    "print('TrAB/DFT (Table S24) & XGB/DFT trained on 700 data points (Table S24), in CO_a')\n",
    "\n",
    "t_stat, p_value = ttest_rel(TrAB, XGB_700)\n",
    "print(f\"t-statistic: {t_stat}\")\n",
    "print(f\"p-value: {p_value}\")\n",
    "\n",
    "if p_value < 0.05:\n",
    "    print(\"There is a significant difference (reject the null hypothesis).\")\n",
    "else:\n",
    "    print(\"There is no significant difference (fail to reject the null hypothesis).\")"
   ]
  },
  {
   "cell_type": "code",
   "execution_count": 13,
   "id": "bf48da6b",
   "metadata": {},
   "outputs": [
    {
     "name": "stdout",
     "output_type": "stream",
     "text": [
      "TrAB/DFT (Table S24) & XGB/DFT trained on 750 data points (Table S24), in CO_a\n",
      "t-statistic: 6.14300924498314\n",
      "p-value: 1.6966727724075942e-08\n",
      "There is a significant difference (reject the null hypothesis).\n"
     ]
    }
   ],
   "source": [
    "print('TrAB/DFT (Table S24) & XGB/DFT trained on 750 data points (Table S24), in CO_a')\n",
    "\n",
    "t_stat, p_value = ttest_rel(TrAB, XGB_750)\n",
    "print(f\"t-statistic: {t_stat}\")\n",
    "print(f\"p-value: {p_value}\")\n",
    "\n",
    "if p_value < 0.05:\n",
    "    print(\"There is a significant difference (reject the null hypothesis).\")\n",
    "else:\n",
    "    print(\"There is no significant difference (fail to reject the null hypothesis).\")"
   ]
  },
  {
   "cell_type": "code",
   "execution_count": 14,
   "id": "d7b1eca0",
   "metadata": {},
   "outputs": [
    {
     "name": "stdout",
     "output_type": "stream",
     "text": [
      "   Run     RF_50   XGB_700   XGB_750      TrAB\n",
      "0    0  0.576839  0.249742  0.655421  0.734779\n",
      "1    1  0.088171  0.327235  0.679869  0.680665\n",
      "2    2  0.626713  0.436153  0.805571  0.732674\n",
      "3    3  0.707545  0.299933  0.701446  0.778006\n",
      "4    4  0.649332  0.352372  0.715339  0.785882\n"
     ]
    }
   ],
   "source": [
    "data = pd.read_csv('data/CO_b.csv')\n",
    "print(data.head())\n",
    "RF_50 = data['RF_50']\n",
    "XGB_700 = data['XGB_700']\n",
    "XGB_750 = data['XGB_750']\n",
    "TrAB = data['TrAB']"
   ]
  },
  {
   "cell_type": "code",
   "execution_count": 15,
   "id": "3acfc9f2",
   "metadata": {},
   "outputs": [
    {
     "name": "stdout",
     "output_type": "stream",
     "text": [
      "TrAB/DFT (Table S24) & RF/DFT (Table S24), in CO_b\n",
      "t-statistic: 21.024573228666718\n",
      "p-value: 2.724779955623454e-38\n",
      "There is a significant difference (reject the null hypothesis).\n"
     ]
    }
   ],
   "source": [
    "print('TrAB/DFT (Table S24) & RF/DFT (Table S24), in CO_b')\n",
    "\n",
    "t_stat, p_value = ttest_rel(TrAB, RF_50)\n",
    "print(f\"t-statistic: {t_stat}\")\n",
    "print(f\"p-value: {p_value}\")\n",
    "\n",
    "if p_value < 0.05:\n",
    "    print(\"There is a significant difference (reject the null hypothesis).\")\n",
    "else:\n",
    "    print(\"There is no significant difference (fail to reject the null hypothesis).\")"
   ]
  },
  {
   "cell_type": "code",
   "execution_count": 16,
   "id": "71d8de78",
   "metadata": {},
   "outputs": [
    {
     "name": "stdout",
     "output_type": "stream",
     "text": [
      "TrAB/DFT (Table S24) & XGB/DFT trained on 700 data points (Table S24), in CO_b\n",
      "t-statistic: 45.5190705994218\n",
      "p-value: 3.4070402728396378e-68\n",
      "There is a significant difference (reject the null hypothesis).\n"
     ]
    }
   ],
   "source": [
    "print('TrAB/DFT (Table S24) & XGB/DFT trained on 700 data points (Table S24), in CO_b')\n",
    "\n",
    "t_stat, p_value = ttest_rel(TrAB, XGB_700)\n",
    "print(f\"t-statistic: {t_stat}\")\n",
    "print(f\"p-value: {p_value}\")\n",
    "\n",
    "if p_value < 0.05:\n",
    "    print(\"There is a significant difference (reject the null hypothesis).\")\n",
    "else:\n",
    "    print(\"There is no significant difference (fail to reject the null hypothesis).\")"
   ]
  },
  {
   "cell_type": "code",
   "execution_count": 17,
   "id": "589dc8bb",
   "metadata": {},
   "outputs": [
    {
     "name": "stdout",
     "output_type": "stream",
     "text": [
      "TrAB/DFT (Table S24) & XGB/DFT trained on 750 data points (Table S24), in CO_b\n",
      "t-statistic: 7.402092928104163\n",
      "p-value: 4.47244835576941e-11\n",
      "There is a significant difference (reject the null hypothesis).\n"
     ]
    }
   ],
   "source": [
    "print('TrAB/DFT (Table S24) & XGB/DFT trained on 750 data points (Table S24), in CO_b')\n",
    "\n",
    "t_stat, p_value = ttest_rel(TrAB, XGB_750)\n",
    "print(f\"t-statistic: {t_stat}\")\n",
    "print(f\"p-value: {p_value}\")\n",
    "\n",
    "if p_value < 0.05:\n",
    "    print(\"There is a significant difference (reject the null hypothesis).\")\n",
    "else:\n",
    "    print(\"There is no significant difference (fail to reject the null hypothesis).\")"
   ]
  },
  {
   "cell_type": "code",
   "execution_count": 18,
   "id": "3a80e824",
   "metadata": {},
   "outputs": [
    {
     "name": "stdout",
     "output_type": "stream",
     "text": [
      "   Run     RF_50   XGB_700   XGB_750      TrAB\n",
      "0    0  0.504917  0.687809  0.868085  0.827294\n",
      "1    1  0.401991  0.591923  0.694071  0.824475\n",
      "2    2  0.527857  0.721575  0.830696  0.877277\n",
      "3    3  0.515143  0.651817  0.763414  0.834685\n",
      "4    4  0.575620  0.678203  0.792759  0.841163\n"
     ]
    }
   ],
   "source": [
    "data = pd.read_csv('data/CO_c.csv')\n",
    "print(data.head())\n",
    "RF_50 = data['RF_50']\n",
    "XGB_700 = data['XGB_700']\n",
    "XGB_750 = data['XGB_750']\n",
    "TrAB = data['TrAB']"
   ]
  },
  {
   "cell_type": "code",
   "execution_count": 19,
   "id": "558ee1ac",
   "metadata": {},
   "outputs": [
    {
     "name": "stdout",
     "output_type": "stream",
     "text": [
      "TrAB/DFT (Table S24) & RF/DFT (Table S24), in CO_c\n",
      "t-statistic: 30.30922949070567\n",
      "p-value: 6.801741509547473e-52\n",
      "There is a significant difference (reject the null hypothesis).\n"
     ]
    }
   ],
   "source": [
    "print('TrAB/DFT (Table S24) & RF/DFT (Table S24), in CO_c')\n",
    "\n",
    "t_stat, p_value = ttest_rel(TrAB, RF_50)\n",
    "print(f\"t-statistic: {t_stat}\")\n",
    "print(f\"p-value: {p_value}\")\n",
    "\n",
    "if p_value < 0.05:\n",
    "    print(\"There is a significant difference (reject the null hypothesis).\")\n",
    "else:\n",
    "    print(\"There is no significant difference (fail to reject the null hypothesis).\")"
   ]
  },
  {
   "cell_type": "code",
   "execution_count": 20,
   "id": "172428eb",
   "metadata": {},
   "outputs": [
    {
     "name": "stdout",
     "output_type": "stream",
     "text": [
      "TrAB/DFT (Table S24) & XGB/DFT trained on 700 data points (Table S24), in CO_c\n",
      "t-statistic: 34.7776313003039\n",
      "p-value: 2.6525898769856815e-57\n",
      "There is a significant difference (reject the null hypothesis).\n"
     ]
    }
   ],
   "source": [
    "print('TrAB/DFT (Table S24) & XGB/DFT trained on 700 data points (Table S24), in CO_c')\n",
    "\n",
    "t_stat, p_value = ttest_rel(TrAB, XGB_700)\n",
    "print(f\"t-statistic: {t_stat}\")\n",
    "print(f\"p-value: {p_value}\")\n",
    "\n",
    "if p_value < 0.05:\n",
    "    print(\"There is a significant difference (reject the null hypothesis).\")\n",
    "else:\n",
    "    print(\"There is no significant difference (fail to reject the null hypothesis).\")"
   ]
  },
  {
   "cell_type": "code",
   "execution_count": 21,
   "id": "f17bb142",
   "metadata": {},
   "outputs": [
    {
     "name": "stdout",
     "output_type": "stream",
     "text": [
      "TrAB/DFT (Table S24) & XGB/DFT trained on 750 data points (Table S24), in CO_c\n",
      "t-statistic: 12.36154845615955\n",
      "p-value: 8.704724881683929e-22\n",
      "There is a significant difference (reject the null hypothesis).\n"
     ]
    }
   ],
   "source": [
    "print('TrAB/DFT (Table S24) & XGB/DFT trained on 750 data points (Table S24), in CO_c')\n",
    "\n",
    "t_stat, p_value = ttest_rel(TrAB, XGB_750)\n",
    "print(f\"t-statistic: {t_stat}\")\n",
    "print(f\"p-value: {p_value}\")\n",
    "\n",
    "if p_value < 0.05:\n",
    "    print(\"There is a significant difference (reject the null hypothesis).\")\n",
    "else:\n",
    "    print(\"There is no significant difference (fail to reject the null hypothesis).\")"
   ]
  },
  {
   "cell_type": "code",
   "execution_count": 22,
   "id": "c057093d",
   "metadata": {},
   "outputs": [
    {
     "name": "stdout",
     "output_type": "stream",
     "text": [
      "   Run     RF_50   XGB_700   XGB_750      TrAB\n",
      "0    0  0.440022  0.320816  0.579851  0.852969\n",
      "1    1  0.215179 -0.053118  0.292704  0.724592\n",
      "2    2  0.423395 -0.068780  0.256490  0.606272\n",
      "3    3  0.426849  0.107521  0.420789  0.706969\n",
      "4    4  0.586205 -0.012034  0.352323  0.713905\n"
     ]
    }
   ],
   "source": [
    "data = pd.read_csv('data/CO_d.csv')\n",
    "print(data.head())\n",
    "RF_50 = data['RF_50']\n",
    "XGB_700 = data['XGB_700']\n",
    "XGB_750 = data['XGB_750']\n",
    "TrAB = data['TrAB']"
   ]
  },
  {
   "cell_type": "code",
   "execution_count": 23,
   "id": "f0a5c871",
   "metadata": {},
   "outputs": [
    {
     "name": "stdout",
     "output_type": "stream",
     "text": [
      "TrAB/DFT (Table S24) & RF/DFT (Table S24), in CO_d\n",
      "t-statistic: 24.88145394234157\n",
      "p-value: 2.1763985098353838e-44\n",
      "There is a significant difference (reject the null hypothesis).\n"
     ]
    }
   ],
   "source": [
    "print('TrAB/DFT (Table S24) & RF/DFT (Table S24), in CO_d')\n",
    "\n",
    "t_stat, p_value = ttest_rel(TrAB, RF_50)\n",
    "print(f\"t-statistic: {t_stat}\")\n",
    "print(f\"p-value: {p_value}\")\n",
    "\n",
    "if p_value < 0.05:\n",
    "    print(\"There is a significant difference (reject the null hypothesis).\")\n",
    "else:\n",
    "    print(\"There is no significant difference (fail to reject the null hypothesis).\")"
   ]
  },
  {
   "cell_type": "code",
   "execution_count": 24,
   "id": "8652e76d",
   "metadata": {},
   "outputs": [
    {
     "name": "stdout",
     "output_type": "stream",
     "text": [
      "TrAB/DFT (Table S24) & XGB/DFT trained on 700 data points (Table S24), in CO_d\n",
      "t-statistic: 33.875424312574935\n",
      "p-value: 2.931120012606908e-56\n",
      "There is a significant difference (reject the null hypothesis).\n"
     ]
    }
   ],
   "source": [
    "print('TrAB/DFT (Table S24) & XGB/DFT trained on 700 data points (Table S24), in CO_d')\n",
    "\n",
    "t_stat, p_value = ttest_rel(TrAB, XGB_700)\n",
    "print(f\"t-statistic: {t_stat}\")\n",
    "print(f\"p-value: {p_value}\")\n",
    "\n",
    "if p_value < 0.05:\n",
    "    print(\"There is a significant difference (reject the null hypothesis).\")\n",
    "else:\n",
    "    print(\"There is no significant difference (fail to reject the null hypothesis).\")"
   ]
  },
  {
   "cell_type": "code",
   "execution_count": 25,
   "id": "a25820a8",
   "metadata": {},
   "outputs": [
    {
     "name": "stdout",
     "output_type": "stream",
     "text": [
      "TrAB/DFT (Table S24) & XGB/DFT trained on 750 data points (Table S24), in CO_d\n",
      "t-statistic: 25.903111001131617\n",
      "p-value: 6.8507060126866355e-46\n",
      "There is a significant difference (reject the null hypothesis).\n"
     ]
    }
   ],
   "source": [
    "print('TrAB/DFT (Table S24) & XGB/DFT trained on 750 data points (Table S24), in CO_d')\n",
    "\n",
    "t_stat, p_value = ttest_rel(TrAB, XGB_750)\n",
    "print(f\"t-statistic: {t_stat}\")\n",
    "print(f\"p-value: {p_value}\")\n",
    "\n",
    "if p_value < 0.05:\n",
    "    print(\"There is a significant difference (reject the null hypothesis).\")\n",
    "else:\n",
    "    print(\"There is no significant difference (fail to reject the null hypothesis).\")"
   ]
  },
  {
   "cell_type": "code",
   "execution_count": 26,
   "id": "9321c1b0",
   "metadata": {},
   "outputs": [
    {
     "name": "stdout",
     "output_type": "stream",
     "text": [
      "   Run     RF_50   XGB_700   XGB_750      TrAB\n",
      "0    0  0.437617  0.656323  0.746912  0.816320\n",
      "1    1 -0.525392  0.650988  0.399642  0.835107\n",
      "2    2  0.488364  0.626138  0.756298  0.861815\n",
      "3    3  0.394589  0.729171  0.693801  0.812223\n",
      "4    4  0.424264  0.597386  0.718320  0.768265\n"
     ]
    }
   ],
   "source": [
    "data = pd.read_csv('data/CO_e.csv')\n",
    "print(data.head())\n",
    "RF_50 = data['RF_50']\n",
    "XGB_700 = data['XGB_700']\n",
    "XGB_750 = data['XGB_750']\n",
    "TrAB = data['TrAB']"
   ]
  },
  {
   "cell_type": "code",
   "execution_count": 27,
   "id": "d3f0901c",
   "metadata": {},
   "outputs": [
    {
     "name": "stdout",
     "output_type": "stream",
     "text": [
      "TrAB/DFT (Table S24) & RF/DFT (Table S24), in CO_e\n",
      "t-statistic: 26.26678959638245\n",
      "p-value: 2.0496371362430134e-46\n",
      "There is a significant difference (reject the null hypothesis).\n"
     ]
    }
   ],
   "source": [
    "print('TrAB/DFT (Table S24) & RF/DFT (Table S24), in CO_e')\n",
    "\n",
    "t_stat, p_value = ttest_rel(TrAB, RF_50)\n",
    "print(f\"t-statistic: {t_stat}\")\n",
    "print(f\"p-value: {p_value}\")\n",
    "\n",
    "if p_value < 0.05:\n",
    "    print(\"There is a significant difference (reject the null hypothesis).\")\n",
    "else:\n",
    "    print(\"There is no significant difference (fail to reject the null hypothesis).\")"
   ]
  },
  {
   "cell_type": "code",
   "execution_count": 28,
   "id": "8c07b512",
   "metadata": {},
   "outputs": [
    {
     "name": "stdout",
     "output_type": "stream",
     "text": [
      "TrAB/DFT (Table S24) & XGB/DFT trained on 700 data points (Table S24), in CO_e\n",
      "t-statistic: 27.234191045479836\n",
      "p-value: 8.786999368776139e-48\n",
      "There is a significant difference (reject the null hypothesis).\n"
     ]
    }
   ],
   "source": [
    "print('TrAB/DFT (Table S24) & XGB/DFT trained on 700 data points (Table S24), in CO_e')\n",
    "\n",
    "t_stat, p_value = ttest_rel(TrAB, XGB_700)\n",
    "print(f\"t-statistic: {t_stat}\")\n",
    "print(f\"p-value: {p_value}\")\n",
    "\n",
    "if p_value < 0.05:\n",
    "    print(\"There is a significant difference (reject the null hypothesis).\")\n",
    "else:\n",
    "    print(\"There is no significant difference (fail to reject the null hypothesis).\")"
   ]
  },
  {
   "cell_type": "code",
   "execution_count": 29,
   "id": "a51114c8",
   "metadata": {},
   "outputs": [
    {
     "name": "stdout",
     "output_type": "stream",
     "text": [
      "TrAB/DFT (Table S24) & XGB/DFT trained on 750 data points (Table S24), in CO_e\n",
      "t-statistic: 15.726836062911191\n",
      "p-value: 1.1308343917588555e-28\n",
      "There is a significant difference (reject the null hypothesis).\n"
     ]
    }
   ],
   "source": [
    "print('TrAB/DFT (Table S24) & XGB/DFT trained on 750 data points (Table S24), in CO_e')\n",
    "\n",
    "t_stat, p_value = ttest_rel(TrAB, XGB_750)\n",
    "print(f\"t-statistic: {t_stat}\")\n",
    "print(f\"p-value: {p_value}\")\n",
    "\n",
    "if p_value < 0.05:\n",
    "    print(\"There is a significant difference (reject the null hypothesis).\")\n",
    "else:\n",
    "    print(\"There is no significant difference (fail to reject the null hypothesis).\")"
   ]
  },
  {
   "cell_type": "code",
   "execution_count": 30,
   "id": "71de6a55",
   "metadata": {},
   "outputs": [
    {
     "name": "stdout",
     "output_type": "stream",
     "text": [
      "   Run     RF_50   XGB_700   XGB_750      TrAB\n",
      "0    0  0.256797  0.378712  0.341837  0.463755\n",
      "1    1 -0.501520  0.404286  0.344600  0.448208\n",
      "2    2  0.227116  0.405029  0.252145  0.511192\n",
      "3    3  0.137238  0.519772  0.451620  0.544872\n",
      "4    4  0.240468  0.380697  0.493451  0.518015\n"
     ]
    }
   ],
   "source": [
    "data = pd.read_csv('data/CS.csv')\n",
    "print(data.head())\n",
    "RF_50 = data['RF_50']\n",
    "XGB_700 = data['XGB_700']\n",
    "XGB_750 = data['XGB_750']\n",
    "TrAB = data['TrAB']"
   ]
  },
  {
   "cell_type": "code",
   "execution_count": 31,
   "id": "1ab92bf8",
   "metadata": {},
   "outputs": [
    {
     "name": "stdout",
     "output_type": "stream",
     "text": [
      "TrAB/DFT (Table S24) & RF/DFT (Table S24), in CS\n",
      "t-statistic: 20.55633987149075\n",
      "p-value: 1.678741985491224e-37\n",
      "There is a significant difference (reject the null hypothesis).\n"
     ]
    }
   ],
   "source": [
    "print('TrAB/DFT (Table S24) & RF/DFT (Table S24), in CS')\n",
    "\n",
    "t_stat, p_value = ttest_rel(TrAB, RF_50)\n",
    "print(f\"t-statistic: {t_stat}\")\n",
    "print(f\"p-value: {p_value}\")\n",
    "\n",
    "if p_value < 0.05:\n",
    "    print(\"There is a significant difference (reject the null hypothesis).\")\n",
    "else:\n",
    "    print(\"There is no significant difference (fail to reject the null hypothesis).\")"
   ]
  },
  {
   "cell_type": "code",
   "execution_count": 32,
   "id": "623737cd",
   "metadata": {},
   "outputs": [
    {
     "name": "stdout",
     "output_type": "stream",
     "text": [
      "TrAB/DFT (Table S24) & XGB/DFT trained on 700 data points (Table S24), in CS\n",
      "t-statistic: 2.4555975999459663\n",
      "p-value: 0.01580795700067162\n",
      "There is a significant difference (reject the null hypothesis).\n"
     ]
    }
   ],
   "source": [
    "print('TrAB/DFT (Table S24) & XGB/DFT trained on 700 data points (Table S24), in CS')\n",
    "\n",
    "t_stat, p_value = ttest_rel(TrAB, XGB_700)\n",
    "print(f\"t-statistic: {t_stat}\")\n",
    "print(f\"p-value: {p_value}\")\n",
    "\n",
    "if p_value < 0.05:\n",
    "    print(\"There is a significant difference (reject the null hypothesis).\")\n",
    "else:\n",
    "    print(\"There is no significant difference (fail to reject the null hypothesis).\")"
   ]
  },
  {
   "cell_type": "code",
   "execution_count": 33,
   "id": "39970db0",
   "metadata": {},
   "outputs": [
    {
     "name": "stdout",
     "output_type": "stream",
     "text": [
      "TrAB/DFT (Table S24) & XGB/DFT trained on 750 data points (Table S24), in CS\n",
      "t-statistic: 9.630029762339744\n",
      "p-value: 7.018105792054031e-16\n",
      "There is a significant difference (reject the null hypothesis).\n"
     ]
    }
   ],
   "source": [
    "print('TrAB/DFT (Table S24) & XGB/DFT trained on 750 data points (Table S24), in CS')\n",
    "\n",
    "t_stat, p_value = ttest_rel(TrAB, XGB_750)\n",
    "print(f\"t-statistic: {t_stat}\")\n",
    "print(f\"p-value: {p_value}\")\n",
    "\n",
    "if p_value < 0.05:\n",
    "    print(\"There is a significant difference (reject the null hypothesis).\")\n",
    "else:\n",
    "    print(\"There is no significant difference (fail to reject the null hypothesis).\")"
   ]
  },
  {
   "cell_type": "code",
   "execution_count": 34,
   "id": "7ca981e5",
   "metadata": {},
   "outputs": [
    {
     "name": "stdout",
     "output_type": "stream",
     "text": [
      "   Run     RF_50   XGB_700   XGB_750      TrAB\n",
      "0    0  0.183984  0.430460  0.502115  0.513170\n",
      "1    1  0.166871  0.344189  0.433256  0.634300\n",
      "2    2  0.413852  0.441665  0.440000  0.627432\n",
      "3    3  0.274727  0.412746  0.469931  0.671360\n",
      "4    4 -0.090785  0.565013  0.499040  0.721493\n"
     ]
    }
   ],
   "source": [
    "data = pd.read_csv('data/CN.csv')\n",
    "print(data.head())\n",
    "RF_50 = data['RF_50']\n",
    "XGB_700 = data['XGB_700']\n",
    "XGB_750 = data['XGB_750']\n",
    "TrAB = data['TrAB']"
   ]
  },
  {
   "cell_type": "code",
   "execution_count": 35,
   "id": "570ca7e9",
   "metadata": {},
   "outputs": [
    {
     "name": "stdout",
     "output_type": "stream",
     "text": [
      "TrAB/DFT (Table S24) & RF/DFT (Table S24), in CN\n",
      "t-statistic: 17.916810570029753\n",
      "p-value: 7.808408140934299e-33\n",
      "There is a significant difference (reject the null hypothesis).\n"
     ]
    }
   ],
   "source": [
    "print('TrAB/DFT (Table S24) & RF/DFT (Table S24), in CN')\n",
    "\n",
    "t_stat, p_value = ttest_rel(TrAB, RF_50)\n",
    "print(f\"t-statistic: {t_stat}\")\n",
    "print(f\"p-value: {p_value}\")\n",
    "\n",
    "if p_value < 0.05:\n",
    "    print(\"There is a significant difference (reject the null hypothesis).\")\n",
    "else:\n",
    "    print(\"There is no significant difference (fail to reject the null hypothesis).\")"
   ]
  },
  {
   "cell_type": "code",
   "execution_count": 36,
   "id": "d44f329e",
   "metadata": {},
   "outputs": [
    {
     "name": "stdout",
     "output_type": "stream",
     "text": [
      "TrAB/DFT (Table S24) & XGB/DFT trained on 700 data points (Table S24), in CN\n",
      "t-statistic: 23.51095726133518\n",
      "p-value: 2.6574581774812646e-42\n",
      "There is a significant difference (reject the null hypothesis).\n"
     ]
    }
   ],
   "source": [
    "print('TrAB/DFT (Table S24) & XGB/DFT trained on 700 data points (Table S24), in CN')\n",
    "\n",
    "t_stat, p_value = ttest_rel(TrAB, XGB_700)\n",
    "print(f\"t-statistic: {t_stat}\")\n",
    "print(f\"p-value: {p_value}\")\n",
    "\n",
    "if p_value < 0.05:\n",
    "    print(\"There is a significant difference (reject the null hypothesis).\")\n",
    "else:\n",
    "    print(\"There is no significant difference (fail to reject the null hypothesis).\")"
   ]
  },
  {
   "cell_type": "code",
   "execution_count": 37,
   "id": "6fafb690",
   "metadata": {},
   "outputs": [
    {
     "name": "stdout",
     "output_type": "stream",
     "text": [
      "TrAB/DFT (Table S24) & XGB/DFT trained on 750 data points (Table S24), in CN\n",
      "t-statistic: 18.067163051105403\n",
      "p-value: 4.136060736025307e-33\n",
      "There is a significant difference (reject the null hypothesis).\n"
     ]
    }
   ],
   "source": [
    "print('TrAB/DFT (Table S24) & XGB/DFT trained on 750 data points (Table S24), in CN')\n",
    "\n",
    "t_stat, p_value = ttest_rel(TrAB, XGB_750)\n",
    "print(f\"t-statistic: {t_stat}\")\n",
    "print(f\"p-value: {p_value}\")\n",
    "\n",
    "if p_value < 0.05:\n",
    "    print(\"There is a significant difference (reject the null hypothesis).\")\n",
    "else:\n",
    "    print(\"There is no significant difference (fail to reject the null hypothesis).\")"
   ]
  },
  {
   "cell_type": "code",
   "execution_count": null,
   "id": "62c5bf2f",
   "metadata": {},
   "outputs": [],
   "source": []
  }
 ],
 "metadata": {
  "kernelspec": {
   "display_name": "Python 3 (ipykernel)",
   "language": "python",
   "name": "python3"
  },
  "language_info": {
   "codemirror_mode": {
    "name": "ipython",
    "version": 3
   },
   "file_extension": ".py",
   "mimetype": "text/x-python",
   "name": "python",
   "nbconvert_exporter": "python",
   "pygments_lexer": "ipython3",
   "version": "3.7.16"
  }
 },
 "nbformat": 4,
 "nbformat_minor": 5
}
