{
 "cells": [
  {
   "cell_type": "code",
   "execution_count": 1,
   "id": "1b3e301a",
   "metadata": {},
   "outputs": [],
   "source": [
    "import pandas as pd"
   ]
  },
  {
   "cell_type": "code",
   "execution_count": 2,
   "id": "0b3ad64a",
   "metadata": {},
   "outputs": [
    {
     "name": "stdout",
     "output_type": "stream",
     "text": [
      "   Yield\n",
      "0     74\n",
      "1     47\n",
      "2     37\n",
      "3     55\n",
      "4      0\n",
      "        Name    ID\n",
      "0     4CzIPN  OPS1\n",
      "1  4tBuCzIPN  OPS2\n",
      "2   4MeCzIPN  OPS3\n",
      "3   4BrCzIPN  OPS4\n",
      "4  4OMeCzIPN  OPS5\n"
     ]
    }
   ],
   "source": [
    "data = pd.read_csv('source/Yield_22.csv')\n",
    "Yield = data.drop(columns=['Name','ID'])\n",
    "Name_ID = data.drop(columns=['Yield'])\n",
    "print(Yield.head())\n",
    "print(Name_ID.head())"
   ]
  },
  {
   "cell_type": "code",
   "execution_count": 3,
   "id": "2f77102a",
   "metadata": {},
   "outputs": [
    {
     "name": "stdout",
     "output_type": "stream",
     "text": [
      "        Name    ID      MF_0      MF_1      MF_2      MF_3      MF_4  \\\n",
      "0     4CzIPN  OPS1 -0.679175 -0.252872 -3.069511 -3.354279  6.738171   \n",
      "1  4tBuCzIPN  OPS2 -0.586930  0.075020 -3.861981 -4.779991  7.832802   \n",
      "2   4MeCzIPN  OPS3 -0.213454 -0.236167 -3.546856 -4.911598  7.030976   \n",
      "3   4BrCzIPN  OPS4 -0.195225 -0.347025 -3.654355 -5.488858  7.206065   \n",
      "4  4OMeCzIPN  OPS5 -0.713464 -0.145508 -4.073028 -5.113908  9.122053   \n",
      "\n",
      "       MF_5      MF_6      MF_7  ...     MF_20     MF_21     MF_22     MF_23  \\\n",
      "0 -0.351736  1.048493 -0.332708  ...  1.284051  1.061207 -0.591773 -0.505232   \n",
      "1  1.539235 -0.337564  0.882783  ... -0.193461  2.350710  0.421912  0.224362   \n",
      "2  0.751248  0.416149  0.234891  ...  1.731927  3.900461  0.095269  0.487570   \n",
      "3 -0.593105  1.483397  0.024062  ...  1.903720  3.169112 -3.468722  2.882067   \n",
      "4  0.112792  1.209892 -0.058719  ...  5.124465 -0.107638 -1.108851 -0.586974   \n",
      "\n",
      "      MF_24     MF_25     MF_26     MF_27     MF_28  Yield  \n",
      "0 -2.339600 -1.999129 -1.322719  1.580475  0.259082     74  \n",
      "1 -1.679061  2.074397  0.372015 -1.380718  0.331029     47  \n",
      "2 -3.604861 -1.236407  0.067858  1.776039  1.323138     37  \n",
      "3 -4.452319  5.459380  0.663001  5.227212 -3.826528     55  \n",
      "4  1.664842  0.080563  0.687250  0.375412  0.066920      0  \n",
      "\n",
      "[5 rows x 32 columns]\n"
     ]
    }
   ],
   "source": [
    "MF_pca = pd.read_csv('descriptors_pca/MF_pca.csv')\n",
    "data_MF_pca = pd.concat([Name_ID, MF_pca, Yield], axis=1, join='inner')\n",
    "print(data_MF_pca.head())\n",
    "data_MF_pca.to_csv('data/data_MF_pca.csv', index=False)"
   ]
  },
  {
   "cell_type": "code",
   "execution_count": 4,
   "id": "0017555e",
   "metadata": {},
   "outputs": [
    {
     "name": "stdout",
     "output_type": "stream",
     "text": [
      "        Name    ID      MK_0      MK_1      MK_2      MK_3      MK_4  \\\n",
      "0     4CzIPN  OPS1  0.511931 -2.492002 -2.130210 -2.640833  1.409419   \n",
      "1  4tBuCzIPN  OPS2  1.043804 -2.118312 -2.701170 -2.849726  0.201192   \n",
      "2   4MeCzIPN  OPS3  0.865897 -2.282772 -2.162452 -2.637760  1.016122   \n",
      "3   4BrCzIPN  OPS4  1.403941 -2.653260 -2.477982 -2.547114  1.873809   \n",
      "4  4OMeCzIPN  OPS5 -0.720985 -0.311758  1.436886 -3.186548  3.243523   \n",
      "\n",
      "       MK_5      MK_6      MK_7      MK_8      MK_9     MK_10     MK_11  Yield  \n",
      "0 -0.603798 -1.350988  0.410803 -2.446031 -1.834738 -0.120163  0.198822     74  \n",
      "1 -1.199867  1.822695 -2.158973 -2.762138 -3.358495  0.636994 -0.419774     47  \n",
      "2 -1.138387  0.440205 -0.852562 -2.583962 -2.274989 -0.279612  0.080901     37  \n",
      "3  0.235876 -1.568278  2.370347 -3.520157  0.735774 -0.450775  0.360313     55  \n",
      "4 -5.110524  3.631050 -1.672279 -3.931182  1.925512 -2.346281 -0.480621      0  \n"
     ]
    }
   ],
   "source": [
    "MK_pca = pd.read_csv('descriptors_pca/MK_pca.csv')\n",
    "data_MK_pca = pd.concat([Name_ID, MK_pca, Yield], axis=1, join='inner')\n",
    "print(data_MK_pca.head())\n",
    "data_MK_pca.to_csv('data/data_MK_pca.csv', index=False)"
   ]
  },
  {
   "cell_type": "code",
   "execution_count": 5,
   "id": "a330647b",
   "metadata": {},
   "outputs": [
    {
     "name": "stdout",
     "output_type": "stream",
     "text": [
      "        Name    ID       MD_0       MD_1       MD_2       MD_3      MD_4  \\\n",
      "0     4CzIPN  OPS1   8.086052  -0.540608   4.440253   1.751339  2.595942   \n",
      "1  4tBuCzIPN  OPS2  16.456012  -0.885054   0.029024  10.128763  1.211230   \n",
      "2   4MeCzIPN  OPS3  10.534245  -0.239512   3.265981   4.448703  1.988609   \n",
      "3   4BrCzIPN  OPS4  12.477466   1.531405   2.014669  -0.309336  0.372214   \n",
      "4  4OMeCzIPN  OPS5  13.727979  11.739927  12.028533  -4.302033 -1.426910   \n",
      "\n",
      "       MD_5      MD_6      MD_7      MD_8      MD_9     MD_10     MD_11  Yield  \n",
      "0  3.271498 -1.185556 -2.340210  0.255244  0.369569 -1.155263  1.058590     74  \n",
      "1 -1.962680  0.930053  3.385532  0.722916 -1.494060  0.915615 -0.060325     47  \n",
      "2  1.902889 -1.081682 -0.696392  0.639501  0.613338 -1.933377  0.355124     37  \n",
      "3  8.252808 -0.098906  4.126926  1.111375  1.024350  1.854731 -2.756361     55  \n",
      "4 -7.577941 -2.998379  1.027770  1.964210 -1.659723 -0.571304 -1.473393      0  \n"
     ]
    }
   ],
   "source": [
    "MD_pca = pd.read_csv('descriptors_pca/MD_pca.csv')\n",
    "data_MD_pca = pd.concat([Name_ID, MD_pca, Yield], axis=1, join='inner')\n",
    "print(data_MD_pca.head())\n",
    "data_MD_pca.to_csv('data/data_MD_pca.csv', index=False)"
   ]
  },
  {
   "cell_type": "code",
   "execution_count": 6,
   "id": "916ed5d0",
   "metadata": {},
   "outputs": [
    {
     "name": "stdout",
     "output_type": "stream",
     "text": [
      "        Name    ID  mordred_0  mordred_1  mordred_2  mordred_3  mordred_4  \\\n",
      "0     4CzIPN  OPS1  23.491738 -13.473598  -1.625076 -14.174285  -1.541973   \n",
      "1  4tBuCzIPN  OPS2  60.513299  23.604916  10.712097 -10.259825   4.212250   \n",
      "2   4MeCzIPN  OPS3  32.472395  -2.420786   4.028010 -13.596710   0.066960   \n",
      "3   4BrCzIPN  OPS4  34.533288 -28.646686   5.808388   6.262194  22.849831   \n",
      "4  4OMeCzIPN  OPS5  37.538512 -12.271944  13.292789  -6.343567  -8.831135   \n",
      "\n",
      "   mordred_5  mordred_6  mordred_7  mordred_8  Yield  \n",
      "0  -2.463437  -2.263997  -3.252854  -3.749309     74  \n",
      "1   0.705575 -13.931979  -0.754102   1.736043     47  \n",
      "2  -3.848337  -3.903322  -3.205373  -1.835061     37  \n",
      "3 -14.434875  -2.681983  -5.708894  -1.479268     55  \n",
      "4   1.681838   2.534683 -14.655771  17.523640      0  \n"
     ]
    }
   ],
   "source": [
    "mordred_pca = pd.read_csv('descriptors_pca/mordred_pca.csv')\n",
    "data_mordred_pca = pd.concat([Name_ID, mordred_pca, Yield], axis=1, join='inner')\n",
    "print(data_mordred_pca.head())\n",
    "data_mordred_pca.to_csv('data/data_mordred_pca.csv', index=False)"
   ]
  },
  {
   "cell_type": "code",
   "execution_count": 7,
   "id": "1dfb8481",
   "metadata": {},
   "outputs": [
    {
     "name": "stdout",
     "output_type": "stream",
     "text": [
      "        Name    ID  MF2_1  MF2_4  MF2_7  MF2_9  MF2_13  MF2_14  MF2_19  \\\n",
      "0     4CzIPN  OPS1      0      0      0      0       0       0       0   \n",
      "1  4tBuCzIPN  OPS2      0      0      0      0       0       0       0   \n",
      "2   4MeCzIPN  OPS3      0      0      0      0       0       0       0   \n",
      "3   4BrCzIPN  OPS4      0      0      0      0       0       0       0   \n",
      "4  4OMeCzIPN  OPS5      0      0      0      0       0       0       0   \n",
      "\n",
      "   MF2_30  ...  MF2_1998  MF2_2005  MF2_2018  MF2_2021  MF2_2032  MF2_2034  \\\n",
      "0       0  ...         0         0         0         0         0         0   \n",
      "1       0  ...         0         0         0         1         0         0   \n",
      "2       0  ...         0         0         0         1         0         0   \n",
      "3       0  ...         0         0         0         1         0         0   \n",
      "4       0  ...         0         0         0         1         0         0   \n",
      "\n",
      "   MF2_2037  MF2_2042  MF2_2044  Yield  \n",
      "0         0         0         0     74  \n",
      "1         0         0         0     47  \n",
      "2         0         0         0     37  \n",
      "3         0         0         0     55  \n",
      "4         0         0         0      0  \n",
      "\n",
      "[5 rows x 386 columns]\n"
     ]
    }
   ],
   "source": [
    "MF = pd.read_csv('descriptors/MF.csv')\n",
    "data_MF = pd.concat([Name_ID, MF, Yield], axis=1, join='inner')\n",
    "print(data_MF.head())\n",
    "data_MF.to_csv('data/data_MF.csv', index=False)"
   ]
  },
  {
   "cell_type": "code",
   "execution_count": 8,
   "id": "16bba742",
   "metadata": {},
   "outputs": [
    {
     "name": "stdout",
     "output_type": "stream",
     "text": [
      "        Name    ID  MK_18  MK_24  MK_26  MK_31  MK_36  MK_38  MK_41  MK_42  \\\n",
      "0     4CzIPN  OPS1    0.0    0.0    0.0    0.0    0.0    0.0    1.0    0.0   \n",
      "1  4tBuCzIPN  OPS2    0.0    0.0    0.0    0.0    0.0    0.0    1.0    0.0   \n",
      "2   4MeCzIPN  OPS3    0.0    0.0    0.0    0.0    0.0    0.0    1.0    0.0   \n",
      "3   4BrCzIPN  OPS4    0.0    0.0    0.0    0.0    0.0    0.0    1.0    0.0   \n",
      "4  4OMeCzIPN  OPS5    0.0    0.0    0.0    0.0    0.0    0.0    1.0    0.0   \n",
      "\n",
      "   ...  MK_157  MK_158  MK_159  MK_160  MK_161  MK_162  MK_163  MK_164  \\\n",
      "0  ...     0.0     1.0     0.0     0.0     1.0     1.0     1.0     0.0   \n",
      "1  ...     0.0     1.0     0.0     1.0     1.0     1.0     1.0     0.0   \n",
      "2  ...     0.0     1.0     0.0     1.0     1.0     1.0     1.0     0.0   \n",
      "3  ...     0.0     1.0     0.0     0.0     1.0     1.0     1.0     0.0   \n",
      "4  ...     1.0     1.0     1.0     1.0     1.0     1.0     1.0     1.0   \n",
      "\n",
      "   MK_165  Yield  \n",
      "0     1.0     74  \n",
      "1     1.0     47  \n",
      "2     1.0     37  \n",
      "3     1.0     55  \n",
      "4     1.0      0  \n",
      "\n",
      "[5 rows x 118 columns]\n"
     ]
    }
   ],
   "source": [
    "MK = pd.read_csv('descriptors/MK.csv')\n",
    "data_MK = pd.concat([Name_ID, MK, Yield], axis=1, join='inner')\n",
    "print(data_MK.head())\n",
    "data_MK.to_csv('data/data_MK.csv', index=False)"
   ]
  },
  {
   "cell_type": "code",
   "execution_count": 9,
   "id": "c97d68ae",
   "metadata": {},
   "outputs": [
    {
     "name": "stdout",
     "output_type": "stream",
     "text": [
      "        Name    ID       MD_0      MD_1       MD_2      MD_3      MD_4  \\\n",
      "0     4CzIPN  OPS1  12.116548  0.389761  12.116548  0.389761  0.178204   \n",
      "1  4tBuCzIPN  OPS2  13.185042 -0.171343  13.185042  0.168690  0.176200   \n",
      "2   4MeCzIPN  OPS3  12.426856  0.399888  12.426856  0.399888  0.176567   \n",
      "3   4BrCzIPN  OPS4  12.374043  0.319495  12.374043  0.319495  0.176198   \n",
      "4  4OMeCzIPN  OPS5  12.556354  0.210464  12.556354  0.210464  0.116076   \n",
      "\n",
      "       MD_5      MD_6         MD_7  ...  MD_180  MD_181  MD_182  MD_187  \\\n",
      "0   788.914   756.658   788.268845  ...       2       0       0       8   \n",
      "1  1237.778  1141.010  1236.769647  ...       2       0       0       0   \n",
      "2   901.130   852.746   900.394046  ...       2       0       0       0   \n",
      "3  1420.082  1395.890  1411.552942  ...       2       0       0       0   \n",
      "4  1029.122   980.738  1028.353362  ...       2       0       0       0   \n",
      "\n",
      "   MD_188  MD_189  MD_196  MD_200  MD_203  Yield  \n",
      "0       0       0       0       0       0     74  \n",
      "1       0       0       0       0       0     47  \n",
      "2       0       0       0       0       0     37  \n",
      "3       0       0       0       0       0     55  \n",
      "4       0       0       0       0       0      0  \n",
      "\n",
      "[5 rows x 147 columns]\n"
     ]
    }
   ],
   "source": [
    "MD = pd.read_csv('descriptors/MD.csv')\n",
    "data_MD = pd.concat([Name_ID, MD, Yield], axis=1, join='inner')\n",
    "print(data_MD.head())\n",
    "data_MD.to_csv('data/data_MD.csv', index=False)"
   ]
  },
  {
   "cell_type": "code",
   "execution_count": 10,
   "id": "1f2b295d",
   "metadata": {},
   "outputs": [
    {
     "name": "stdout",
     "output_type": "stream",
     "text": [
      "        Name    ID        ABC      ABCGG  nBase     SpAbs_A   SpMax_A  \\\n",
      "0     4CzIPN  OPS1  51.112698  37.059654    0.0   86.597960  2.689922   \n",
      "1  4tBuCzIPN  OPS2  77.061286  54.950651    0.0  116.949390  2.700910   \n",
      "2   4MeCzIPN  OPS3  57.644671  41.246677    0.0   93.653582  2.695287   \n",
      "3   4BrCzIPN  OPS4  57.644671  41.246677    0.0   93.653582  2.695287   \n",
      "4  4OMeCzIPN  OPS5  62.426407  44.258073    0.0  106.095220  2.696397   \n",
      "\n",
      "   SpDiam_A      SpAD_A   SpMAD_A  ...      TSRW10           MW        AMW  \\\n",
      "0  5.293219   86.597960  1.396741  ...  121.288808   788.268845   8.385839   \n",
      "1  5.308129  116.949390  1.244142  ...  155.394194  1236.769647   6.509314   \n",
      "2  5.300279   93.653582  1.337908  ...  129.878025   900.394046   7.630458   \n",
      "3  5.300279   93.653582  1.337908  ...  129.878025  1411.552942  15.016521   \n",
      "4  5.301785  106.095220  1.360195  ...  138.197219  1028.353362   8.161535   \n",
      "\n",
      "     WPath   WPol  Zagreb1  Zagreb2   mZagreb1   mZagreb2  Yield  \n",
      "0  12428.0  133.0    372.0    478.0  13.388889  13.333333     74  \n",
      "1  38644.0  197.0    564.0    702.0  36.777778  18.666667     47  \n",
      "2  17344.0  149.0    420.0    534.0  20.277778  14.666667     37  \n",
      "3  17344.0  149.0    420.0    534.0  20.277778  14.666667     55  \n",
      "4  23596.0  165.0    452.0    574.0  22.277778  17.333333      0  \n",
      "\n",
      "[5 rows x 1154 columns]\n"
     ]
    }
   ],
   "source": [
    "mordred = pd.read_csv('descriptors/mordred.csv')\n",
    "data_mordred = pd.concat([Name_ID, mordred, Yield], axis=1, join='inner')\n",
    "print(data_mordred.head())\n",
    "data_mordred.to_csv('data/data_mordred.csv', index=False)"
   ]
  },
  {
   "cell_type": "code",
   "execution_count": null,
   "id": "abe35e87",
   "metadata": {},
   "outputs": [],
   "source": []
  }
 ],
 "metadata": {
  "kernelspec": {
   "display_name": "Python 3 (ipykernel)",
   "language": "python",
   "name": "python3"
  },
  "language_info": {
   "codemirror_mode": {
    "name": "ipython",
    "version": 3
   },
   "file_extension": ".py",
   "mimetype": "text/x-python",
   "name": "python",
   "nbconvert_exporter": "python",
   "pygments_lexer": "ipython3",
   "version": "3.7.16"
  }
 },
 "nbformat": 4,
 "nbformat_minor": 5
}
