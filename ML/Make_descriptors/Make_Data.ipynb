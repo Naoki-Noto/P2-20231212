{
 "cells": [
  {
   "cell_type": "code",
   "execution_count": 1,
   "id": "1b3e301a",
   "metadata": {},
   "outputs": [],
   "source": [
    "import pandas as pd"
   ]
  },
  {
   "cell_type": "code",
   "execution_count": 2,
   "id": "0b3ad64a",
   "metadata": {},
   "outputs": [
    {
     "name": "stdout",
     "output_type": "stream",
     "text": [
      "   Yield\n",
      "0     74\n",
      "1     47\n",
      "2     37\n",
      "3     55\n",
      "4      0\n",
      "        Name    ID\n",
      "0     4CzIPN  OPS1\n",
      "1  4tBuCzIPN  OPS2\n",
      "2   4MeCzIPN  OPS3\n",
      "3   4BrCzIPN  OPS4\n",
      "4  4OMeCzIPN  OPS5\n"
     ]
    }
   ],
   "source": [
    "data = pd.read_csv('source/Yield_22.csv')\n",
    "Yield = data.drop(columns=['Name','ID'])\n",
    "Name_ID = data.drop(columns=['Yield'])\n",
    "print(Yield.head())\n",
    "print(Name_ID.head())"
   ]
  },
  {
   "cell_type": "code",
   "execution_count": 3,
   "id": "2f77102a",
   "metadata": {},
   "outputs": [
    {
     "name": "stdout",
     "output_type": "stream",
     "text": [
      "        Name    ID      MF_0      MF_1      MF_2      MF_3      MF_4  \\\n",
      "0     4CzIPN  OPS1 -0.635023  0.102777 -3.632378  2.975750  6.577820   \n",
      "1  4tBuCzIPN  OPS2 -0.412369  0.795428 -4.519101  2.843315  7.734909   \n",
      "2   4MeCzIPN  OPS3 -0.131399  0.349438 -4.072691  1.681465  6.929534   \n",
      "3   4BrCzIPN  OPS4  0.285431  0.900730 -4.688104  1.782210  8.043708   \n",
      "4  4OMeCzIPN  OPS5 -0.432515  0.228529 -4.558586  3.725076  8.461946   \n",
      "\n",
      "       MF_5      MF_6      MF_7  ...     MF_20     MF_21     MF_22     MF_23  \\\n",
      "0 -0.644171  0.410124  0.020176  ...  1.003819  0.084427 -1.220826 -0.375707   \n",
      "1  1.575590  0.380506 -0.894756  ...  0.407822  0.935499  0.834543  0.173946   \n",
      "2  0.305085  0.531572 -0.106190  ...  2.060545  0.919081 -0.978019 -0.520521   \n",
      "3 -0.880818  1.004458 -0.189397  ...  4.080929  0.199400 -5.936908 -0.277482   \n",
      "4  0.081182  0.332721 -0.168238  ...  2.739077 -3.033255 -0.342288  2.146162   \n",
      "\n",
      "      MF_24     MF_25     MF_26     MF_27     MF_28  Yield  \n",
      "0 -1.588502  0.815601 -2.983755  0.698275  1.133081     74  \n",
      "1  2.918351 -0.867468 -0.716183 -0.261568  0.614788     47  \n",
      "2 -0.552777 -0.212743 -3.289228  0.489243  2.073960     37  \n",
      "3  5.832324  5.179975 -2.891848  1.267193 -2.606600     55  \n",
      "4 -0.666190  0.323996  1.200143 -0.079362  0.063889      0  \n",
      "\n",
      "[5 rows x 32 columns]\n"
     ]
    }
   ],
   "source": [
    "MF_pca = pd.read_csv('descriptors_pca/MF_pca.csv')\n",
    "data_MF_pca = pd.concat([Name_ID, MF_pca, Yield], axis=1, join='inner')\n",
    "print(data_MF_pca.head())\n",
    "data_MF_pca.to_csv('../Conventional_ML/RF/data/data_MF_pca.csv', index=False)"
   ]
  },
  {
   "cell_type": "code",
   "execution_count": 4,
   "id": "0017555e",
   "metadata": {},
   "outputs": [
    {
     "name": "stdout",
     "output_type": "stream",
     "text": [
      "        Name    ID      MK_0      MK_1      MK_2      MK_3      MK_4  \\\n",
      "0     4CzIPN  OPS1  0.511931 -2.492002 -2.130210 -2.640833  1.409419   \n",
      "1  4tBuCzIPN  OPS2  1.043804 -2.118312 -2.701170 -2.849726  0.201192   \n",
      "2   4MeCzIPN  OPS3  0.865897 -2.282772 -2.162452 -2.637760  1.016122   \n",
      "3   4BrCzIPN  OPS4  1.403941 -2.653260 -2.477982 -2.547114  1.873809   \n",
      "4  4OMeCzIPN  OPS5 -0.720985 -0.311758  1.436886 -3.186548  3.243523   \n",
      "\n",
      "       MK_5      MK_6      MK_7      MK_8      MK_9     MK_10     MK_11  Yield  \n",
      "0 -0.603798 -1.350988  0.410803 -2.446031 -1.834738 -0.120163  0.198822     74  \n",
      "1 -1.199867  1.822695 -2.158973 -2.762138 -3.358495  0.636994 -0.419774     47  \n",
      "2 -1.138387  0.440205 -0.852562 -2.583962 -2.274989 -0.279612  0.080901     37  \n",
      "3  0.235876 -1.568278  2.370347 -3.520157  0.735774 -0.450775  0.360313     55  \n",
      "4 -5.110524  3.631050 -1.672279 -3.931182  1.925512 -2.346281 -0.480621      0  \n"
     ]
    }
   ],
   "source": [
    "MK_pca = pd.read_csv('descriptors_pca/MK_pca.csv')\n",
    "data_MK_pca = pd.concat([Name_ID, MK_pca, Yield], axis=1, join='inner')\n",
    "print(data_MK_pca.head())\n",
    "data_MK_pca.to_csv('../Conventional_ML/RF/data/data_MK_pca.csv', index=False)"
   ]
  },
  {
   "cell_type": "code",
   "execution_count": 5,
   "id": "a330647b",
   "metadata": {},
   "outputs": [
    {
     "name": "stdout",
     "output_type": "stream",
     "text": [
      "        Name    ID    RDKit_0    RDKit_1    RDKit_2    RDKit_3   RDKit_4  \\\n",
      "0     4CzIPN  OPS1   8.086052  -0.540608   4.440253   1.751339  2.595942   \n",
      "1  4tBuCzIPN  OPS2  16.456012  -0.885054   0.029024  10.128763  1.211230   \n",
      "2   4MeCzIPN  OPS3  10.534245  -0.239512   3.265981   4.448703  1.988609   \n",
      "3   4BrCzIPN  OPS4  12.477466   1.531405   2.014669  -0.309336  0.372214   \n",
      "4  4OMeCzIPN  OPS5  13.727979  11.739927  12.028533  -4.302033 -1.426910   \n",
      "\n",
      "    RDKit_5   RDKit_6   RDKit_7   RDKit_8   RDKit_9  RDKit_10  RDKit_11  Yield  \n",
      "0  3.271498 -1.185556 -2.340210  0.255244  0.369569 -1.155263  1.058590     74  \n",
      "1 -1.962680  0.930053  3.385532  0.722916 -1.494060  0.915615 -0.060325     47  \n",
      "2  1.902889 -1.081682 -0.696392  0.639501  0.613338 -1.933377  0.355124     37  \n",
      "3  8.252808 -0.098906  4.126926  1.111375  1.024350  1.854731 -2.756361     55  \n",
      "4 -7.577941 -2.998379  1.027770  1.964210 -1.659723 -0.571304 -1.473393      0  \n"
     ]
    }
   ],
   "source": [
    "RDKit_pca = pd.read_csv('descriptors_pca/RDKit_pca.csv')\n",
    "data_RDKit_pca = pd.concat([Name_ID, RDKit_pca, Yield], axis=1, join='inner')\n",
    "print(data_RDKit_pca.head())\n",
    "data_RDKit_pca.to_csv('../Conventional_ML/RF/data/data_RDKit_pca.csv', index=False)"
   ]
  },
  {
   "cell_type": "code",
   "execution_count": 6,
   "id": "916ed5d0",
   "metadata": {},
   "outputs": [
    {
     "name": "stdout",
     "output_type": "stream",
     "text": [
      "        Name    ID  mordred_0  mordred_1  mordred_2  mordred_3  mordred_4  \\\n",
      "0     4CzIPN  OPS1  23.491738 -13.473598  -1.625076 -14.174285  -1.541973   \n",
      "1  4tBuCzIPN  OPS2  60.513299  23.604916  10.712097 -10.259825   4.212251   \n",
      "2   4MeCzIPN  OPS3  32.472395  -2.420786   4.028010 -13.596710   0.066962   \n",
      "3   4BrCzIPN  OPS4  34.533288 -28.646686   5.808388   6.262194  22.849833   \n",
      "4  4OMeCzIPN  OPS5  37.538512 -12.271944  13.292789  -6.343567  -8.831136   \n",
      "\n",
      "   mordred_5  mordred_6  mordred_7  mordred_8  Yield  \n",
      "0  -2.463437  -2.263999  -3.252860  -3.749392     74  \n",
      "1   0.705570 -13.931980  -0.754124   1.736113     47  \n",
      "2  -3.848341  -3.903328  -3.205364  -1.835417     37  \n",
      "3 -14.434881  -2.681992  -5.708931  -1.479336     55  \n",
      "4   1.681836   2.534670 -14.655812  17.524080      0  \n"
     ]
    }
   ],
   "source": [
    "mordred_pca = pd.read_csv('descriptors_pca/mordred_pca.csv')\n",
    "data_mordred_pca = pd.concat([Name_ID, mordred_pca, Yield], axis=1, join='inner')\n",
    "print(data_mordred_pca.head())\n",
    "data_mordred_pca.to_csv('../Conventional_ML/RF/data/data_mordred_pca.csv', index=False)"
   ]
  },
  {
   "cell_type": "code",
   "execution_count": 7,
   "id": "1dfb8481",
   "metadata": {},
   "outputs": [
    {
     "name": "stdout",
     "output_type": "stream",
     "text": [
      "        Name    ID  MF2_1  MF2_4  MF2_7  MF2_9  MF2_13  MF2_14  MF2_15  \\\n",
      "0     4CzIPN  OPS1      0      0      0      0       0       0       0   \n",
      "1  4tBuCzIPN  OPS2      0      0      0      0       0       0       0   \n",
      "2   4MeCzIPN  OPS3      0      0      0      0       0       0       0   \n",
      "3   4BrCzIPN  OPS4      0      0      0      0       0       0       0   \n",
      "4  4OMeCzIPN  OPS5      0      0      0      0       0       0       0   \n",
      "\n",
      "   MF2_19  ...  MF2_994  MF2_997  MF2_1001  MF2_1008  MF2_1010  MF2_1011  \\\n",
      "0       0  ...        0        0         0         0         0         0   \n",
      "1       0  ...        0        1         0         0         0         0   \n",
      "2       0  ...        0        1         0         0         0         0   \n",
      "3       0  ...        0        1         0         0         0         0   \n",
      "4       0  ...        0        1         0         0         0         0   \n",
      "\n",
      "   MF2_1013  MF2_1018  MF2_1020  Yield  \n",
      "0         0         0         0     74  \n",
      "1         0         0         0     47  \n",
      "2         1         0         0     37  \n",
      "3         0         0         0     55  \n",
      "4         0         0         0      0  \n",
      "\n",
      "[5 rows x 344 columns]\n"
     ]
    }
   ],
   "source": [
    "MF = pd.read_csv('descriptors/MF.csv')\n",
    "data_MF = pd.concat([Name_ID, MF, Yield], axis=1, join='inner')\n",
    "print(data_MF.head())\n",
    "data_MF.to_csv('../Conventional_ML/RF/data/data_MF.csv', index=False)"
   ]
  },
  {
   "cell_type": "code",
   "execution_count": 8,
   "id": "16bba742",
   "metadata": {},
   "outputs": [
    {
     "name": "stdout",
     "output_type": "stream",
     "text": [
      "        Name    ID  MK_18  MK_24  MK_26  MK_31  MK_36  MK_38  MK_41  MK_42  \\\n",
      "0     4CzIPN  OPS1    0.0    0.0    0.0    0.0    0.0    0.0    1.0    0.0   \n",
      "1  4tBuCzIPN  OPS2    0.0    0.0    0.0    0.0    0.0    0.0    1.0    0.0   \n",
      "2   4MeCzIPN  OPS3    0.0    0.0    0.0    0.0    0.0    0.0    1.0    0.0   \n",
      "3   4BrCzIPN  OPS4    0.0    0.0    0.0    0.0    0.0    0.0    1.0    0.0   \n",
      "4  4OMeCzIPN  OPS5    0.0    0.0    0.0    0.0    0.0    0.0    1.0    0.0   \n",
      "\n",
      "   ...  MK_157  MK_158  MK_159  MK_160  MK_161  MK_162  MK_163  MK_164  \\\n",
      "0  ...     0.0     1.0     0.0     0.0     1.0     1.0     1.0     0.0   \n",
      "1  ...     0.0     1.0     0.0     1.0     1.0     1.0     1.0     0.0   \n",
      "2  ...     0.0     1.0     0.0     1.0     1.0     1.0     1.0     0.0   \n",
      "3  ...     0.0     1.0     0.0     0.0     1.0     1.0     1.0     0.0   \n",
      "4  ...     1.0     1.0     1.0     1.0     1.0     1.0     1.0     1.0   \n",
      "\n",
      "   MK_165  Yield  \n",
      "0     1.0     74  \n",
      "1     1.0     47  \n",
      "2     1.0     37  \n",
      "3     1.0     55  \n",
      "4     1.0      0  \n",
      "\n",
      "[5 rows x 118 columns]\n"
     ]
    }
   ],
   "source": [
    "MK = pd.read_csv('descriptors/MK.csv')\n",
    "data_MK = pd.concat([Name_ID, MK, Yield], axis=1, join='inner')\n",
    "print(data_MK.head())\n",
    "data_MK.to_csv('../Conventional_ML/RF/data/data_MK.csv', index=False)"
   ]
  },
  {
   "cell_type": "code",
   "execution_count": 9,
   "id": "c97d68ae",
   "metadata": {},
   "outputs": [
    {
     "name": "stdout",
     "output_type": "stream",
     "text": [
      "        Name    ID    RDKit_0   RDKit_1    RDKit_2   RDKit_3   RDKit_4  \\\n",
      "0     4CzIPN  OPS1  12.116548  0.389761  12.116548  0.389761  0.178204   \n",
      "1  4tBuCzIPN  OPS2  13.185042 -0.171343  13.185042  0.168690  0.176200   \n",
      "2   4MeCzIPN  OPS3  12.426856  0.399888  12.426856  0.399888  0.176567   \n",
      "3   4BrCzIPN  OPS4  12.374043  0.319495  12.374043  0.319495  0.176198   \n",
      "4  4OMeCzIPN  OPS5  12.556354  0.210464  12.556354  0.210464  0.116076   \n",
      "\n",
      "    RDKit_5   RDKit_6      RDKit_7  ...  RDKit_180  RDKit_181  RDKit_182  \\\n",
      "0   788.914   756.658   788.268845  ...          2          0          0   \n",
      "1  1237.778  1141.010  1236.769647  ...          2          0          0   \n",
      "2   901.130   852.746   900.394046  ...          2          0          0   \n",
      "3  1420.082  1395.890  1411.552942  ...          2          0          0   \n",
      "4  1029.122   980.738  1028.353362  ...          2          0          0   \n",
      "\n",
      "   RDKit_187  RDKit_188  RDKit_189  RDKit_196  RDKit_200  RDKit_203  Yield  \n",
      "0          8          0          0          0          0          0     74  \n",
      "1          0          0          0          0          0          0     47  \n",
      "2          0          0          0          0          0          0     37  \n",
      "3          0          0          0          0          0          0     55  \n",
      "4          0          0          0          0          0          0      0  \n",
      "\n",
      "[5 rows x 147 columns]\n"
     ]
    }
   ],
   "source": [
    "RDKit = pd.read_csv('descriptors/RDKit.csv')\n",
    "data_RDKit = pd.concat([Name_ID, RDKit, Yield], axis=1, join='inner')\n",
    "print(data_RDKit.head())\n",
    "data_RDKit.to_csv('../Conventional_ML/RF/data/data_RDKit.csv', index=False)"
   ]
  },
  {
   "cell_type": "code",
   "execution_count": 10,
   "id": "1f2b295d",
   "metadata": {},
   "outputs": [
    {
     "name": "stdout",
     "output_type": "stream",
     "text": [
      "        Name    ID        ABC      ABCGG  nBase     SpAbs_A   SpMax_A  \\\n",
      "0     4CzIPN  OPS1  51.112698  37.059654    0.0   86.597960  2.689922   \n",
      "1  4tBuCzIPN  OPS2  77.061286  54.950651    0.0  116.949390  2.700910   \n",
      "2   4MeCzIPN  OPS3  57.644671  41.246677    0.0   93.653582  2.695287   \n",
      "3   4BrCzIPN  OPS4  57.644671  41.246677    0.0   93.653582  2.695287   \n",
      "4  4OMeCzIPN  OPS5  62.426407  44.258073    0.0  106.095220  2.696397   \n",
      "\n",
      "   SpDiam_A      SpAD_A   SpMAD_A  ...      TSRW10           MW        AMW  \\\n",
      "0  5.293219   86.597960  1.396741  ...  121.288808   788.268845   8.385839   \n",
      "1  5.308129  116.949390  1.244142  ...  155.394194  1236.769647   6.509314   \n",
      "2  5.300279   93.653582  1.337908  ...  129.878025   900.394046   7.630458   \n",
      "3  5.300279   93.653582  1.337908  ...  129.878025  1411.552942  15.016521   \n",
      "4  5.301785  106.095220  1.360195  ...  138.197219  1028.353362   8.161535   \n",
      "\n",
      "     WPath   WPol  Zagreb1  Zagreb2   mZagreb1   mZagreb2  Yield  \n",
      "0  12428.0  133.0    372.0    478.0  13.388889  13.333333     74  \n",
      "1  38644.0  197.0    564.0    702.0  36.777778  18.666667     47  \n",
      "2  17344.0  149.0    420.0    534.0  20.277778  14.666667     37  \n",
      "3  17344.0  149.0    420.0    534.0  20.277778  14.666667     55  \n",
      "4  23596.0  165.0    452.0    574.0  22.277778  17.333333      0  \n",
      "\n",
      "[5 rows x 1154 columns]\n"
     ]
    }
   ],
   "source": [
    "mordred = pd.read_csv('descriptors/mordred.csv')\n",
    "data_mordred = pd.concat([Name_ID, mordred, Yield], axis=1, join='inner')\n",
    "print(data_mordred.head())\n",
    "data_mordred.to_csv('../Conventional_ML/RF/data/data_mordred.csv', index=False)"
   ]
  },
  {
   "cell_type": "code",
   "execution_count": null,
   "id": "abe35e87",
   "metadata": {},
   "outputs": [],
   "source": []
  }
 ],
 "metadata": {
  "kernelspec": {
   "display_name": "Python 3 (ipykernel)",
   "language": "python",
   "name": "python3"
  },
  "language_info": {
   "codemirror_mode": {
    "name": "ipython",
    "version": 3
   },
   "file_extension": ".py",
   "mimetype": "text/x-python",
   "name": "python",
   "nbconvert_exporter": "python",
   "pygments_lexer": "ipython3",
   "version": "3.7.16"
  }
 },
 "nbformat": 4,
 "nbformat_minor": 5
}
