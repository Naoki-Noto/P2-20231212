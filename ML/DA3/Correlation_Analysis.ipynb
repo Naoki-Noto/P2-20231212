{
 "cells": [
  {
   "cell_type": "code",
   "execution_count": 1,
   "id": "bf63acb7-7388-4257-8a5e-b4a96440549c",
   "metadata": {},
   "outputs": [],
   "source": [
    "import numpy as np\n",
    "import matplotlib.pyplot as plt\n",
    "import pandas as pd\n",
    "import seaborn as sns\n",
    "from sklearn.model_selection import train_test_split"
   ]
  },
  {
   "cell_type": "code",
   "execution_count": 2,
   "id": "a0d1da66",
   "metadata": {
    "scrolled": true
   },
   "outputs": [
    {
     "data": {
      "text/html": [
       "<div>\n",
       "<style scoped>\n",
       "    .dataframe tbody tr th:only-of-type {\n",
       "        vertical-align: middle;\n",
       "    }\n",
       "\n",
       "    .dataframe tbody tr th {\n",
       "        vertical-align: top;\n",
       "    }\n",
       "\n",
       "    .dataframe thead th {\n",
       "        text-align: right;\n",
       "    }\n",
       "</style>\n",
       "<table border=\"1\" class=\"dataframe\">\n",
       "  <thead>\n",
       "    <tr style=\"text-align: right;\">\n",
       "      <th></th>\n",
       "      <th>Name</th>\n",
       "      <th>ID</th>\n",
       "      <th>Yield_CO_1.5h</th>\n",
       "      <th>Yield_CO_7.5h</th>\n",
       "      <th>Yield_CO_biphenyl</th>\n",
       "      <th>Yield_CO_ortho</th>\n",
       "      <th>Yield_CO_Cl</th>\n",
       "      <th>Yield_CS</th>\n",
       "      <th>Yield_CN</th>\n",
       "      <th>Yield_2+2</th>\n",
       "      <th>Yield_iso</th>\n",
       "    </tr>\n",
       "  </thead>\n",
       "  <tbody>\n",
       "    <tr>\n",
       "      <th>0</th>\n",
       "      <td>4OMeCzIPN</td>\n",
       "      <td>OPS5</td>\n",
       "      <td>33</td>\n",
       "      <td>87</td>\n",
       "      <td>52</td>\n",
       "      <td>31</td>\n",
       "      <td>24</td>\n",
       "      <td>0</td>\n",
       "      <td>33</td>\n",
       "      <td>0</td>\n",
       "      <td>4</td>\n",
       "    </tr>\n",
       "    <tr>\n",
       "      <th>1</th>\n",
       "      <td>4MeDPAIPN</td>\n",
       "      <td>OPS9</td>\n",
       "      <td>73</td>\n",
       "      <td>74</td>\n",
       "      <td>78</td>\n",
       "      <td>40</td>\n",
       "      <td>57</td>\n",
       "      <td>99</td>\n",
       "      <td>39</td>\n",
       "      <td>29</td>\n",
       "      <td>91</td>\n",
       "    </tr>\n",
       "    <tr>\n",
       "      <th>2</th>\n",
       "      <td>1CzTRZ</td>\n",
       "      <td>OPS20</td>\n",
       "      <td>16</td>\n",
       "      <td>79</td>\n",
       "      <td>40</td>\n",
       "      <td>29</td>\n",
       "      <td>33</td>\n",
       "      <td>0</td>\n",
       "      <td>7</td>\n",
       "      <td>1</td>\n",
       "      <td>1</td>\n",
       "    </tr>\n",
       "    <tr>\n",
       "      <th>3</th>\n",
       "      <td>1tBuDPATRZ</td>\n",
       "      <td>OPS23</td>\n",
       "      <td>16</td>\n",
       "      <td>73</td>\n",
       "      <td>28</td>\n",
       "      <td>20</td>\n",
       "      <td>30</td>\n",
       "      <td>97</td>\n",
       "      <td>82</td>\n",
       "      <td>39</td>\n",
       "      <td>56</td>\n",
       "    </tr>\n",
       "    <tr>\n",
       "      <th>4</th>\n",
       "      <td>1PhDPATRZ</td>\n",
       "      <td>OPS27</td>\n",
       "      <td>38</td>\n",
       "      <td>79</td>\n",
       "      <td>45</td>\n",
       "      <td>26</td>\n",
       "      <td>34</td>\n",
       "      <td>97</td>\n",
       "      <td>85</td>\n",
       "      <td>26</td>\n",
       "      <td>41</td>\n",
       "    </tr>\n",
       "  </tbody>\n",
       "</table>\n",
       "</div>"
      ],
      "text/plain": [
       "         Name     ID  Yield_CO_1.5h  Yield_CO_7.5h  Yield_CO_biphenyl  \\\n",
       "0   4OMeCzIPN   OPS5             33             87                 52   \n",
       "1   4MeDPAIPN   OPS9             73             74                 78   \n",
       "2      1CzTRZ  OPS20             16             79                 40   \n",
       "3  1tBuDPATRZ  OPS23             16             73                 28   \n",
       "4   1PhDPATRZ  OPS27             38             79                 45   \n",
       "\n",
       "   Yield_CO_ortho  Yield_CO_Cl  Yield_CS  Yield_CN  Yield_2+2  Yield_iso  \n",
       "0              31           24         0        33          0          4  \n",
       "1              40           57        99        39         29         91  \n",
       "2              29           33         0         7          1          1  \n",
       "3              20           30        97        82         39         56  \n",
       "4              26           34        97        85         26         41  "
      ]
     },
     "execution_count": 2,
     "metadata": {},
     "output_type": "execute_result"
    }
   ],
   "source": [
    "data_A = pd.read_csv('data/yields_iso.csv')\n",
    "data_A.head()"
   ]
  },
  {
   "cell_type": "code",
   "execution_count": 3,
   "id": "6a7f7c82",
   "metadata": {
    "scrolled": true
   },
   "outputs": [
    {
     "data": {
      "text/html": [
       "<div>\n",
       "<style scoped>\n",
       "    .dataframe tbody tr th:only-of-type {\n",
       "        vertical-align: middle;\n",
       "    }\n",
       "\n",
       "    .dataframe tbody tr th {\n",
       "        vertical-align: top;\n",
       "    }\n",
       "\n",
       "    .dataframe thead th {\n",
       "        text-align: right;\n",
       "    }\n",
       "</style>\n",
       "<table border=\"1\" class=\"dataframe\">\n",
       "  <thead>\n",
       "    <tr style=\"text-align: right;\">\n",
       "      <th></th>\n",
       "      <th>Yield_CO_1.5h</th>\n",
       "      <th>Yield_CO_7.5h</th>\n",
       "      <th>Yield_CO_biphenyl</th>\n",
       "      <th>Yield_CO_ortho</th>\n",
       "      <th>Yield_CO_Cl</th>\n",
       "      <th>Yield_CS</th>\n",
       "      <th>Yield_CN</th>\n",
       "      <th>Yield_2+2</th>\n",
       "      <th>Yield_iso</th>\n",
       "    </tr>\n",
       "  </thead>\n",
       "  <tbody>\n",
       "    <tr>\n",
       "      <th>0</th>\n",
       "      <td>0.36786</td>\n",
       "      <td>0.329688</td>\n",
       "      <td>0.450887</td>\n",
       "      <td>0.262205</td>\n",
       "      <td>0.5039</td>\n",
       "      <td>0.740829</td>\n",
       "      <td>0.554028</td>\n",
       "      <td>0.87143</td>\n",
       "      <td>1.0</td>\n",
       "    </tr>\n",
       "  </tbody>\n",
       "</table>\n",
       "</div>"
      ],
      "text/plain": [
       "   Yield_CO_1.5h  Yield_CO_7.5h  Yield_CO_biphenyl  Yield_CO_ortho  \\\n",
       "0        0.36786       0.329688           0.450887        0.262205   \n",
       "\n",
       "   Yield_CO_Cl  Yield_CS  Yield_CN  Yield_2+2  Yield_iso  \n",
       "0       0.5039  0.740829  0.554028    0.87143        1.0  "
      ]
     },
     "execution_count": 3,
     "metadata": {},
     "output_type": "execute_result"
    }
   ],
   "source": [
    "data_A = data_A.drop(columns = ['Name', 'ID'])\n",
    "corr_matrix_A = data_A.corr()\n",
    "corr = corr_matrix_A.loc[['Yield_iso'], :]\n",
    "corr = np.array(corr)\n",
    "columns = ['Yield_CO_1.5h', 'Yield_CO_7.5h', 'Yield_CO_biphenyl', 'Yield_CO_ortho', 'Yield_CO_Cl',\n",
    "           'Yield_CS', 'Yield_CN', 'Yield_2+2', 'Yield_iso']\n",
    "corr = pd.DataFrame(data=corr, columns=columns)\n",
    "corr.to_csv('result/corr_iso.csv')\n",
    "corr"
   ]
  },
  {
   "cell_type": "code",
   "execution_count": 4,
   "id": "ae99856d",
   "metadata": {
    "scrolled": true
   },
   "outputs": [
    {
     "data": {
      "image/png": "[encoded data removed]",
      "text/plain": [
       "<Figure size 1000x1000 with 2 Axes>"
      ]
     },
     "metadata": {},
     "output_type": "display_data"
    }
   ],
   "source": [
    "corr = corr.drop(columns = ['Yield_iso'])\n",
    "fig = plt.figure(figsize=(10, 10))\n",
    "ax = fig.add_subplot(111)\n",
    "sns.heatmap(corr, annot=True, square=True, cmap='YlOrRd', annot_kws={'size': 18}, vmin=0, vmax=1)\n",
    "ax.set_aspect('equal', adjustable='box')\n",
    "plt.show()\n",
    "fig.savefig(\"result/correlation_iso.pdf\")"
   ]
  },
  {
   "cell_type": "code",
   "execution_count": null,
   "id": "8b3e4864",
   "metadata": {},
   "outputs": [],
   "source": []
  }
 ],
 "metadata": {
  "kernelspec": {
   "display_name": "Python 3 (ipykernel)",
   "language": "python",
   "name": "python3"
  },
  "language_info": {
   "codemirror_mode": {
    "name": "ipython",
    "version": 3
   },
   "file_extension": ".py",
   "mimetype": "text/x-python",
   "name": "python",
   "nbconvert_exporter": "python",
   "pygments_lexer": "ipython3",
   "version": "3.7.16"
  }
 },
 "nbformat": 4,
 "nbformat_minor": 5
}
